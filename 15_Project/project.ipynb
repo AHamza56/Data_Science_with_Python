{
 "cells": [
  {
   "cell_type": "markdown",
   "source": "# __Exploratory Data Analysis on Bicycle Accidents in Great Britain 1979-2018__",
   "metadata": {
    "cell_id": "6df3384dd95544349e7996c5ddcf3593",
    "tags": [],
    "deepnote_cell_type": "markdown",
    "deepnote_cell_height": 134
   }
  },
  {
   "cell_type": "markdown",
   "source": "***",
   "metadata": {
    "cell_id": "76bfae26008e419db10081e1e96bb0ec",
    "tags": [],
    "deepnote_cell_type": "markdown",
    "deepnote_cell_height": 46
   }
  },
  {
   "cell_type": "markdown",
   "source": "<font size=\"+3\" color='#3284ad'><b>__INTRODUCTION__</b></font>",
   "metadata": {
    "cell_id": "927d0778aa86466b829eb19572ddf424",
    "tags": [],
    "deepnote_cell_type": "markdown",
    "deepnote_cell_height": 81.1875
   }
  },
  {
   "cell_type": "markdown",
   "source": "<font size=\"+3\" color='#3284ad'><b>__About the Dataset__</b></font>`",
   "metadata": {
    "cell_id": "276730a0d9b74df3881319df31d8158a",
    "tags": [],
    "deepnote_cell_type": "markdown",
    "deepnote_cell_height": 81.1875
   }
  },
  {
   "cell_type": "markdown",
   "source": "This is a dataset of bicycle accidents in Great Britian from **1970 - 2018**. The dataset was taken from kaggle for the purpose of EDA, and can be found in the link [Here](https://www.kaggle.com/datasets/johnharshith/bicycle-accidents-in-great-britain-1979-to-2018)\nThis dataset includes data such as **accident index, number of vehicles involved, number of casualties, date and time of accident, speed limit, road and weather conditions, day of accident and type of road** where the accidents occurred. This includes the gender of the bikers, the severity of the accident and the age group of the victims.\n\nThe following variables might have improved this analysis:\n\n•\tAlcohol consumption\n\n•\tVehicle Class\n\n•\tBicycle Traffic (Number of trips per year)\n\n•\tDetails of the kind and intersection where the accident happened\n",
   "metadata": {
    "cell_id": "23526b68892f4ffe8fbdf4e050a1790d",
    "tags": [],
    "deepnote_cell_type": "markdown",
    "deepnote_cell_height": 323.90625
   }
  },
  {
   "cell_type": "markdown",
   "source": "<font size=\"+3\" color='#3284ad'><b>__STEP-1__</b></font>`",
   "metadata": {
    "cell_id": "72bd10d428a042e484882b8984ef8653",
    "tags": [],
    "deepnote_cell_type": "markdown",
    "deepnote_cell_height": 81.1875
   }
  },
  {
   "cell_type": "markdown",
   "source": "<font size=\"+2\" color='#3284ad'><b>__LOAD LIBRARIES:__</b></font>`",
   "metadata": {
    "cell_id": "0c5aa8f1a9e94b82aa602423d0bd0c01",
    "tags": [],
    "deepnote_cell_type": "markdown",
    "deepnote_cell_height": 68.390625
   }
  },
  {
   "cell_type": "markdown",
   "source": "__Pandas__ is an open source library in Python. It provides ready to use high-performance data structures and data analysis tools.\n__NumPy__ is a Python library used for working with arrays. It also has functions for working in domain of linear algebra, fourier transform, and matrices.\n__Seaborn__ is a Python data visualization library based on matplotlib. It provides a high-level interface for drawing attractive and informative statistical graphics.\n__Matplotlib__ is a cross-platform, data visualization and graphical plotting library for Python and its numerical extension NumPy.",
   "metadata": {
    "cell_id": "df6dbf9bff524d48af6f047118e9d05e",
    "tags": [],
    "deepnote_cell_type": "markdown",
    "deepnote_cell_height": 164.34375
   }
  },
  {
   "cell_type": "code",
   "source": "import pandas as pd \nimport numpy as np\nimport seaborn as sns\nimport matplotlib.pyplot as plt",
   "metadata": {
    "cell_id": "23aaf644726b406d9c64bf1dfca7738a",
    "tags": [],
    "deepnote_to_be_reexecuted": false,
    "source_hash": "a25003ec",
    "execution_start": 1661000729071,
    "execution_millis": 6,
    "deepnote_cell_type": "code",
    "deepnote_cell_height": 130
   },
   "outputs": [],
   "execution_count": null
  },
  {
   "cell_type": "markdown",
   "source": "<font size=\"+2\" color='#3284ad'><b>__LOAD DATA:__</b></font>`",
   "metadata": {
    "cell_id": "c9351f04cc24488fb1e3da32c0191934",
    "tags": [],
    "deepnote_cell_type": "markdown",
    "deepnote_cell_height": 68.390625
   }
  },
  {
   "cell_type": "markdown",
   "source": "#### Now, we read the data files related to accidents and bikers and merge them to get the complete dataset of bicycle accidents.",
   "metadata": {
    "cell_id": "375566003eb14ab99fef0946974351c3",
    "tags": [],
    "deepnote_cell_type": "markdown",
    "deepnote_cell_height": 78
   }
  },
  {
   "cell_type": "code",
   "source": "df1 = pd.read_csv('Accidents.csv')\ndf2 = pd.read_csv('Bikers.csv')\ndf1.index = df1['Accident_Index']                    # indexing the dataframe\ndf2.index = df2['Accident_Index']                    # indexing the dataframe\ndf1.drop(['Accident_Index'], axis=1, inplace=True)    # dropping the index column from the dataframe b/c of duplicate index\ndf2.drop(['Accident_Index'], axis=1, inplace=True)     # dropping the index column    \ndf = pd.merge(df1, df2, on='Accident_Index')         # merging the two dataframes on the index\n",
   "metadata": {
    "cell_id": "00cc354745854b9f875a6e2030db38b8",
    "tags": [],
    "deepnote_to_be_reexecuted": false,
    "source_hash": "cd7572b",
    "execution_start": 1660995663691,
    "execution_millis": 3456,
    "deepnote_cell_type": "code",
    "deepnote_cell_height": 207
   },
   "outputs": [],
   "execution_count": null
  },
  {
   "cell_type": "markdown",
   "source": "#### Let's see the first 5 rows of our data",
   "metadata": {
    "cell_id": "6ca7085b01f048d0a76c8e2713bbb42f",
    "tags": [],
    "deepnote_cell_type": "markdown",
    "deepnote_cell_height": 54
   }
  },
  {
   "cell_type": "code",
   "source": "df.head()",
   "metadata": {
    "cell_id": "f6f81f39e059422aac871e96dce44a87",
    "tags": [],
    "deepnote_to_be_reexecuted": false,
    "source_hash": "c085b6ba",
    "execution_start": 1660995667148,
    "execution_millis": 138,
    "is_output_hidden": false,
    "deepnote_cell_type": "code",
    "deepnote_cell_height": 405
   },
   "outputs": [
    {
     "output_type": "execute_result",
     "execution_count": 3,
     "data": {
      "application/vnd.deepnote.dataframe.v3+json": {
       "column_count": 13,
       "row_count": 5,
       "columns": [
        {
         "name": "Number_of_Vehicles",
         "dtype": "int64",
         "stats": {
          "unique_count": 2,
          "nan_count": 0,
          "min": "1",
          "max": "2",
          "histogram": [
           {
            "bin_start": 1,
            "bin_end": 1.1,
            "count": 1
           },
           {
            "bin_start": 1.1,
            "bin_end": 1.2,
            "count": 0
           },
           {
            "bin_start": 1.2,
            "bin_end": 1.3,
            "count": 0
           },
           {
            "bin_start": 1.3,
            "bin_end": 1.4,
            "count": 0
           },
           {
            "bin_start": 1.4,
            "bin_end": 1.5,
            "count": 0
           },
           {
            "bin_start": 1.5,
            "bin_end": 1.6,
            "count": 0
           },
           {
            "bin_start": 1.6,
            "bin_end": 1.7000000000000002,
            "count": 0
           },
           {
            "bin_start": 1.7000000000000002,
            "bin_end": 1.8,
            "count": 0
           },
           {
            "bin_start": 1.8,
            "bin_end": 1.9,
            "count": 0
           },
           {
            "bin_start": 1.9,
            "bin_end": 2,
            "count": 4
           }
          ]
         }
        },
        {
         "name": "Number_of_Casualties",
         "dtype": "int64",
         "stats": {
          "unique_count": 1,
          "nan_count": 0,
          "min": "1",
          "max": "1",
          "histogram": [
           {
            "bin_start": 0.5,
            "bin_end": 0.6,
            "count": 0
           },
           {
            "bin_start": 0.6,
            "bin_end": 0.7,
            "count": 0
           },
           {
            "bin_start": 0.7,
            "bin_end": 0.8,
            "count": 0
           },
           {
            "bin_start": 0.8,
            "bin_end": 0.9,
            "count": 0
           },
           {
            "bin_start": 0.9,
            "bin_end": 1,
            "count": 0
           },
           {
            "bin_start": 1,
            "bin_end": 1.1,
            "count": 5
           },
           {
            "bin_start": 1.1,
            "bin_end": 1.2000000000000002,
            "count": 0
           },
           {
            "bin_start": 1.2000000000000002,
            "bin_end": 1.3,
            "count": 0
           },
           {
            "bin_start": 1.3,
            "bin_end": 1.4,
            "count": 0
           },
           {
            "bin_start": 1.4,
            "bin_end": 1.5,
            "count": 0
           }
          ]
         }
        },
        {
         "name": "Date",
         "dtype": "object",
         "stats": {
          "unique_count": 3,
          "nan_count": 0,
          "categories": [
           {
            "name": "1979-04-01",
            "count": 3
           },
           {
            "name": "1979-01-01",
            "count": 1
           },
           {
            "name": "1979-02-01",
            "count": 1
           }
          ]
         }
        },
        {
         "name": "Time",
         "dtype": "object",
         "stats": {
          "unique_count": 5,
          "nan_count": 0,
          "categories": [
           {
            "name": "18:20",
            "count": 1
           },
           {
            "name": "09:15",
            "count": 1
           },
           {
            "name": "3 others",
            "count": 3
           }
          ]
         }
        },
        {
         "name": "Speed_limit",
         "dtype": "float64",
         "stats": {
          "unique_count": 2,
          "nan_count": 0,
          "min": "30.0",
          "max": "50.0",
          "histogram": [
           {
            "bin_start": 30,
            "bin_end": 32,
            "count": 4
           },
           {
            "bin_start": 32,
            "bin_end": 34,
            "count": 0
           },
           {
            "bin_start": 34,
            "bin_end": 36,
            "count": 0
           },
           {
            "bin_start": 36,
            "bin_end": 38,
            "count": 0
           },
           {
            "bin_start": 38,
            "bin_end": 40,
            "count": 0
           },
           {
            "bin_start": 40,
            "bin_end": 42,
            "count": 0
           },
           {
            "bin_start": 42,
            "bin_end": 44,
            "count": 0
           },
           {
            "bin_start": 44,
            "bin_end": 46,
            "count": 0
           },
           {
            "bin_start": 46,
            "bin_end": 48,
            "count": 0
           },
           {
            "bin_start": 48,
            "bin_end": 50,
            "count": 1
           }
          ]
         }
        },
        {
         "name": "Road_conditions",
         "dtype": "object",
         "stats": {
          "unique_count": 2,
          "nan_count": 0,
          "categories": [
           {
            "name": "Snow",
            "count": 3
           },
           {
            "name": "Wet",
            "count": 2
           }
          ]
         }
        },
        {
         "name": "Weather_conditions",
         "dtype": "object",
         "stats": {
          "unique_count": 1,
          "nan_count": 0,
          "categories": [
           {
            "name": "Unknown",
            "count": 5
           }
          ]
         }
        },
        {
         "name": "Day",
         "dtype": "object",
         "stats": {
          "unique_count": 3,
          "nan_count": 0,
          "categories": [
           {
            "name": "Thursday",
            "count": 3
           },
           {
            "name": "Monday",
            "count": 1
           },
           {
            "name": "Tuesday",
            "count": 1
           }
          ]
         }
        },
        {
         "name": "Road_type",
         "dtype": "object",
         "stats": {
          "unique_count": 2,
          "nan_count": 0,
          "categories": [
           {
            "name": "Unknown",
            "count": 4
           },
           {
            "name": "Dual carriageway",
            "count": 1
           }
          ]
         }
        },
        {
         "name": "Light_conditions",
         "dtype": "object",
         "stats": {
          "unique_count": 2,
          "nan_count": 0,
          "categories": [
           {
            "name": "Daylight",
            "count": 3
           },
           {
            "name": "Darkness lights lit",
            "count": 2
           }
          ]
         }
        },
        {
         "name": "Gender",
         "dtype": "object",
         "stats": {
          "unique_count": 1,
          "nan_count": 0,
          "categories": [
           {
            "name": "Male",
            "count": 5
           }
          ]
         }
        },
        {
         "name": "Severity",
         "dtype": "object",
         "stats": {
          "unique_count": 2,
          "nan_count": 0,
          "categories": [
           {
            "name": "Slight",
            "count": 4
           },
           {
            "name": "Serious",
            "count": 1
           }
          ]
         }
        },
        {
         "name": "Age_Grp",
         "dtype": "object",
         "stats": {
          "unique_count": 2,
          "nan_count": 0,
          "categories": [
           {
            "name": "46 to 55",
            "count": 3
           },
           {
            "name": "36 to 45",
            "count": 2
           }
          ]
         }
        },
        {
         "name": "_deepnote_index_column",
         "dtype": "object"
        }
       ],
       "rows": [
        {
         "Number_of_Vehicles": 2,
         "Number_of_Casualties": 1,
         "Date": "1979-01-01",
         "Time": "18:20",
         "Speed_limit": 50,
         "Road_conditions": "Snow",
         "Weather_conditions": "Unknown",
         "Day": "Monday",
         "Road_type": "Dual carriageway",
         "Light_conditions": "Darkness lights lit",
         "Gender": "Male",
         "Severity": "Serious",
         "Age_Grp": "36 to 45",
         "_deepnote_index_column": "197901A1SEE71"
        },
        {
         "Number_of_Vehicles": 1,
         "Number_of_Casualties": 1,
         "Date": "1979-02-01",
         "Time": "09:15",
         "Speed_limit": 30,
         "Road_conditions": "Snow",
         "Weather_conditions": "Unknown",
         "Day": "Tuesday",
         "Road_type": "Unknown",
         "Light_conditions": "Daylight",
         "Gender": "Male",
         "Severity": "Slight",
         "Age_Grp": "46 to 55",
         "_deepnote_index_column": "197901A2JDW40"
        },
        {
         "Number_of_Vehicles": 2,
         "Number_of_Casualties": 1,
         "Date": "1979-04-01",
         "Time": "08:45",
         "Speed_limit": 30,
         "Road_conditions": "Snow",
         "Weather_conditions": "Unknown",
         "Day": "Thursday",
         "Road_type": "Unknown",
         "Light_conditions": "Daylight",
         "Gender": "Male",
         "Severity": "Slight",
         "Age_Grp": "46 to 55",
         "_deepnote_index_column": "197901A4IJV90"
        },
        {
         "Number_of_Vehicles": 2,
         "Number_of_Casualties": 1,
         "Date": "1979-04-01",
         "Time": "13:40",
         "Speed_limit": 30,
         "Road_conditions": "Wet",
         "Weather_conditions": "Unknown",
         "Day": "Thursday",
         "Road_type": "Unknown",
         "Light_conditions": "Daylight",
         "Gender": "Male",
         "Severity": "Slight",
         "Age_Grp": "36 to 45",
         "_deepnote_index_column": "197901A4NIE33"
        },
        {
         "Number_of_Vehicles": 2,
         "Number_of_Casualties": 1,
         "Date": "1979-04-01",
         "Time": "18:50",
         "Speed_limit": 30,
         "Road_conditions": "Wet",
         "Weather_conditions": "Unknown",
         "Day": "Thursday",
         "Road_type": "Unknown",
         "Light_conditions": "Darkness lights lit",
         "Gender": "Male",
         "Severity": "Slight",
         "Age_Grp": "46 to 55",
         "_deepnote_index_column": "197901A4SKO47"
        }
       ]
      },
      "text/plain": "                Number_of_Vehicles  Number_of_Casualties        Date   Time  \\\nAccident_Index                                                                \n197901A1SEE71                    2                     1  1979-01-01  18:20   \n197901A2JDW40                    1                     1  1979-02-01  09:15   \n197901A4IJV90                    2                     1  1979-04-01  08:45   \n197901A4NIE33                    2                     1  1979-04-01  13:40   \n197901A4SKO47                    2                     1  1979-04-01  18:50   \n\n                Speed_limit Road_conditions Weather_conditions       Day  \\\nAccident_Index                                                             \n197901A1SEE71          50.0            Snow            Unknown    Monday   \n197901A2JDW40          30.0            Snow            Unknown   Tuesday   \n197901A4IJV90          30.0            Snow            Unknown  Thursday   \n197901A4NIE33          30.0             Wet            Unknown  Thursday   \n197901A4SKO47          30.0             Wet            Unknown  Thursday   \n\n                       Road_type     Light_conditions Gender Severity  \\\nAccident_Index                                                          \n197901A1SEE71   Dual carriageway  Darkness lights lit   Male  Serious   \n197901A2JDW40            Unknown             Daylight   Male   Slight   \n197901A4IJV90            Unknown             Daylight   Male   Slight   \n197901A4NIE33            Unknown             Daylight   Male   Slight   \n197901A4SKO47            Unknown  Darkness lights lit   Male   Slight   \n\n                 Age_Grp  \nAccident_Index            \n197901A1SEE71   36 to 45  \n197901A2JDW40   46 to 55  \n197901A4IJV90   46 to 55  \n197901A4NIE33   36 to 45  \n197901A4SKO47   46 to 55  ",
      "text/html": "<div>\n<style scoped>\n    .dataframe tbody tr th:only-of-type {\n        vertical-align: middle;\n    }\n\n    .dataframe tbody tr th {\n        vertical-align: top;\n    }\n\n    .dataframe thead th {\n        text-align: right;\n    }\n</style>\n<table border=\"1\" class=\"dataframe\">\n  <thead>\n    <tr style=\"text-align: right;\">\n      <th></th>\n      <th>Number_of_Vehicles</th>\n      <th>Number_of_Casualties</th>\n      <th>Date</th>\n      <th>Time</th>\n      <th>Speed_limit</th>\n      <th>Road_conditions</th>\n      <th>Weather_conditions</th>\n      <th>Day</th>\n      <th>Road_type</th>\n      <th>Light_conditions</th>\n      <th>Gender</th>\n      <th>Severity</th>\n      <th>Age_Grp</th>\n    </tr>\n    <tr>\n      <th>Accident_Index</th>\n      <th></th>\n      <th></th>\n      <th></th>\n      <th></th>\n      <th></th>\n      <th></th>\n      <th></th>\n      <th></th>\n      <th></th>\n      <th></th>\n      <th></th>\n      <th></th>\n      <th></th>\n    </tr>\n  </thead>\n  <tbody>\n    <tr>\n      <th>197901A1SEE71</th>\n      <td>2</td>\n      <td>1</td>\n      <td>1979-01-01</td>\n      <td>18:20</td>\n      <td>50.0</td>\n      <td>Snow</td>\n      <td>Unknown</td>\n      <td>Monday</td>\n      <td>Dual carriageway</td>\n      <td>Darkness lights lit</td>\n      <td>Male</td>\n      <td>Serious</td>\n      <td>36 to 45</td>\n    </tr>\n    <tr>\n      <th>197901A2JDW40</th>\n      <td>1</td>\n      <td>1</td>\n      <td>1979-02-01</td>\n      <td>09:15</td>\n      <td>30.0</td>\n      <td>Snow</td>\n      <td>Unknown</td>\n      <td>Tuesday</td>\n      <td>Unknown</td>\n      <td>Daylight</td>\n      <td>Male</td>\n      <td>Slight</td>\n      <td>46 to 55</td>\n    </tr>\n    <tr>\n      <th>197901A4IJV90</th>\n      <td>2</td>\n      <td>1</td>\n      <td>1979-04-01</td>\n      <td>08:45</td>\n      <td>30.0</td>\n      <td>Snow</td>\n      <td>Unknown</td>\n      <td>Thursday</td>\n      <td>Unknown</td>\n      <td>Daylight</td>\n      <td>Male</td>\n      <td>Slight</td>\n      <td>46 to 55</td>\n    </tr>\n    <tr>\n      <th>197901A4NIE33</th>\n      <td>2</td>\n      <td>1</td>\n      <td>1979-04-01</td>\n      <td>13:40</td>\n      <td>30.0</td>\n      <td>Wet</td>\n      <td>Unknown</td>\n      <td>Thursday</td>\n      <td>Unknown</td>\n      <td>Daylight</td>\n      <td>Male</td>\n      <td>Slight</td>\n      <td>36 to 45</td>\n    </tr>\n    <tr>\n      <th>197901A4SKO47</th>\n      <td>2</td>\n      <td>1</td>\n      <td>1979-04-01</td>\n      <td>18:50</td>\n      <td>30.0</td>\n      <td>Wet</td>\n      <td>Unknown</td>\n      <td>Thursday</td>\n      <td>Unknown</td>\n      <td>Darkness lights lit</td>\n      <td>Male</td>\n      <td>Slight</td>\n      <td>46 to 55</td>\n    </tr>\n  </tbody>\n</table>\n</div>"
     },
     "metadata": {}
    }
   ],
   "execution_count": null
  },
  {
   "cell_type": "markdown",
   "source": "<font size=\"+3\" color='#3284ad'><b>__STEP-2__</b></font>`",
   "metadata": {
    "cell_id": "3d93235ac68240488d0081a275cfa08a",
    "tags": [],
    "deepnote_cell_type": "markdown",
    "deepnote_cell_height": 81.1875
   }
  },
  {
   "cell_type": "markdown",
   "source": "<font size=\"+2\" color='#3284ad'><b>__DATA SHAPE:__</b></font>`",
   "metadata": {
    "cell_id": "c57f0fda1cab4c3cb0d67a0fd708ec1b",
    "tags": [],
    "deepnote_cell_type": "markdown",
    "deepnote_cell_height": 68.390625
   }
  },
  {
   "cell_type": "markdown",
   "source": "#### Now, check the number of rows and columns",
   "metadata": {
    "cell_id": "2445c48889e642af9f54dd5f35256d32",
    "tags": [],
    "deepnote_cell_type": "markdown",
    "deepnote_cell_height": 54
   }
  },
  {
   "cell_type": "code",
   "source": "print('The number of rows are',df.shape[0])\nprint('The number of columns are',df.shape[1])",
   "metadata": {
    "cell_id": "98781f4f187e439c8a95415181afc3bc",
    "tags": [],
    "deepnote_to_be_reexecuted": false,
    "source_hash": "6f643f27",
    "execution_start": 1660995667277,
    "execution_millis": 9,
    "is_output_hidden": false,
    "deepnote_cell_type": "code",
    "deepnote_cell_height": 145.375
   },
   "outputs": [
    {
     "name": "stdout",
     "text": "The number of rows are 827861\nThe number of columns are 13\n",
     "output_type": "stream"
    }
   ],
   "execution_count": null
  },
  {
   "cell_type": "markdown",
   "source": "#### It's a huge data showing 827861 rows and 13 columns.",
   "metadata": {
    "cell_id": "2a5c2757d05e400886a1b837b9914db6",
    "tags": [],
    "deepnote_cell_type": "markdown",
    "deepnote_cell_height": 54
   }
  },
  {
   "cell_type": "code",
   "source": "# pie chart\ndf.groupby('Gender').size().plot(kind='pie', autopct='%.2f', figsize=(6, 6))",
   "metadata": {
    "cell_id": "fdd51f89ae6740cfbaba07690284e493",
    "tags": [],
    "deepnote_to_be_reexecuted": false,
    "source_hash": "c647ee4d",
    "execution_start": 1660995667278,
    "execution_millis": 260,
    "deepnote_cell_type": "code",
    "deepnote_cell_height": 502.1875,
    "deepnote_output_heights": [
     20.1875,
     341
    ]
   },
   "outputs": [
    {
     "output_type": "execute_result",
     "execution_count": 5,
     "data": {
      "text/plain": "<AxesSubplot:ylabel='None'>"
     },
     "metadata": {}
    },
    {
     "data": {
      "text/plain": "<Figure size 432x432 with 1 Axes>",
      "image/png": "[encoded data removed]"
     },
     "metadata": {
      "image/png": {
       "width": 366,
       "height": 340
      }
     },
     "output_type": "display_data"
    }
   ],
   "execution_count": null
  },
  {
   "cell_type": "markdown",
   "source": "The pie chart indicates that the rate of male data was considerably higher than that of female.",
   "metadata": {
    "is_collapsed": false,
    "cell_id": "1a757bfc72ee46299d71dfa2724b5257",
    "tags": [],
    "formattedRanges": [
     {
      "type": "marks",
      "fromCodePoint": 0,
      "toCodePoint": 95,
      "marks": {
       "code": true
      }
     }
    ],
    "deepnote_cell_type": "text-cell-p"
   }
  },
  {
   "cell_type": "markdown",
   "source": "<font size=\"+3\" color='#3284ad'><b>__STEP-3__</b></font>`",
   "metadata": {
    "cell_id": "bd908abd50e3430ea8f8bcb1ca177917",
    "tags": [],
    "deepnote_cell_type": "markdown",
    "deepnote_cell_height": 81.1875
   }
  },
  {
   "cell_type": "markdown",
   "source": "<font size=\"+2\" color='#3284ad'><b>__DATA STRUCTURE:__</b></font>`",
   "metadata": {
    "cell_id": "cb3ecaa809a54995a137b65985ca1ec3",
    "tags": [],
    "deepnote_cell_type": "markdown",
    "deepnote_cell_height": 68.390625
   }
  },
  {
   "cell_type": "markdown",
   "source": "#### Here, we can see the complete information of our data having no nulll values and type of data with dtypes along with the number of rows and columns.",
   "metadata": {
    "cell_id": "28002e867df54d3eb37e7b09de23ed11",
    "tags": [],
    "deepnote_cell_type": "markdown",
    "deepnote_cell_height": 78
   }
  },
  {
   "cell_type": "code",
   "source": "df.info()",
   "metadata": {
    "cell_id": "c4e1e19f7c1b41cc9f86f8cdd110c6bc",
    "tags": [],
    "deepnote_to_be_reexecuted": false,
    "source_hash": "de1e323c",
    "execution_start": 1660995667545,
    "execution_millis": 317,
    "is_code_hidden": false,
    "is_output_hidden": false,
    "deepnote_cell_type": "code",
    "deepnote_cell_height": 490.75
   },
   "outputs": [
    {
     "name": "stdout",
     "text": "<class 'pandas.core.frame.DataFrame'>\nIndex: 827861 entries, 197901A1SEE71 to 2018983133818\nData columns (total 13 columns):\n #   Column                Non-Null Count   Dtype  \n---  ------                --------------   -----  \n 0   Number_of_Vehicles    827861 non-null  int64  \n 1   Number_of_Casualties  827861 non-null  int64  \n 2   Date                  827861 non-null  object \n 3   Time                  827861 non-null  object \n 4   Speed_limit           827861 non-null  float64\n 5   Road_conditions       827861 non-null  object \n 6   Weather_conditions    827861 non-null  object \n 7   Day                   827861 non-null  object \n 8   Road_type             827861 non-null  object \n 9   Light_conditions      827861 non-null  object \n 10  Gender                827861 non-null  object \n 11  Severity              827861 non-null  object \n 12  Age_Grp               827861 non-null  object \ndtypes: float64(1), int64(2), object(10)\nmemory usage: 88.4+ MB\n",
     "output_type": "stream"
    }
   ],
   "execution_count": null
  },
  {
   "cell_type": "markdown",
   "source": "#### Variable Insight:\nOut of 13 variables,two of them have 'int64' datatype, one have 'float64' type and the rest have the catagorical/object datatype.\n#### Accident_Index:\n\"Accident_index\" appears to be more slammed with information, but unique and complete in nature.\nThe first 4 characters are the year and the immediate next 2 characters by the year represents month. It is an index in our dataframe df.\n#### Date:\nVariable Date has an object datatype\n#### Time:\nVariable time is an object and we will have to change it to timestamp datatype, in order to create and execute features on different capacity.",
   "metadata": {
    "cell_id": "c8b0fa803a1c451e8f4844475468515e",
    "tags": [],
    "deepnote_cell_type": "markdown",
    "deepnote_cell_height": 390.734375
   }
  },
  {
   "cell_type": "markdown",
   "source": "<font size=\"+3\" color='#3284ad'><b>__STEP-4__</b></font>`",
   "metadata": {
    "cell_id": "c71dca0365e7447cbbcc7d91b4a30512",
    "tags": [],
    "deepnote_cell_type": "markdown",
    "deepnote_cell_height": 81.1875
   }
  },
  {
   "cell_type": "markdown",
   "source": "<font size=\"+2\" color='#3284ad'><b>__FINDING DUPLICATE VALUES AND VARIABLE ANALYSIS:__</b></font>`",
   "metadata": {
    "cell_id": "6ef2ee4ce98c4a998f0d08b869ab8677",
    "tags": [],
    "deepnote_cell_type": "markdown",
    "deepnote_cell_height": 68.390625
   }
  },
  {
   "cell_type": "code",
   "source": "df.isnull().sum()",
   "metadata": {
    "cell_id": "53a274cbe1ce43db9ccfdd0522cebfeb",
    "tags": [],
    "deepnote_to_be_reexecuted": false,
    "source_hash": "f3dd26da",
    "execution_start": 1660995667916,
    "execution_millis": 827,
    "deepnote_cell_type": "code",
    "deepnote_cell_height": 361.625,
    "deepnote_output_heights": [
     269.625
    ]
   },
   "outputs": [
    {
     "output_type": "execute_result",
     "execution_count": 7,
     "data": {
      "text/plain": "Number_of_Vehicles      0\nNumber_of_Casualties    0\nDate                    0\nTime                    0\nSpeed_limit             0\nRoad_conditions         0\nWeather_conditions      0\nDay                     0\nRoad_type               0\nLight_conditions        0\nGender                  0\nSeverity                0\nAge_Grp                 0\ndtype: int64"
     },
     "metadata": {}
    }
   ],
   "execution_count": null
  },
  {
   "cell_type": "code",
   "source": "df.duplicated().sum()",
   "metadata": {
    "cell_id": "8935d90b39d94f64bc18015197c03292",
    "tags": [],
    "deepnote_to_be_reexecuted": false,
    "source_hash": "5ce2c336",
    "execution_start": 1660995668191,
    "execution_millis": 653,
    "deepnote_cell_type": "code",
    "deepnote_cell_height": 112.1875,
    "deepnote_output_heights": [
     20.1875
    ]
   },
   "outputs": [
    {
     "output_type": "execute_result",
     "execution_count": 8,
     "data": {
      "text/plain": "4811"
     },
     "metadata": {}
    }
   ],
   "execution_count": null
  },
  {
   "cell_type": "markdown",
   "source": "#### The above code shows 4811 numbers of duplicate values in the data",
   "metadata": {
    "cell_id": "257b1d00efb24a8d94988fb997a40dc0",
    "tags": [],
    "deepnote_cell_type": "markdown",
    "deepnote_cell_height": 54
   }
  },
  {
   "cell_type": "code",
   "source": "for col in df:\n    print(col, df[col].unique())  \n",
   "metadata": {
    "cell_id": "033586db426d462281defed4d672cc7b",
    "tags": [],
    "deepnote_to_be_reexecuted": false,
    "source_hash": "3ace0248",
    "execution_start": 1660995668850,
    "execution_millis": 577,
    "deepnote_cell_type": "code",
    "deepnote_cell_height": 506.5625
   },
   "outputs": [
    {
     "name": "stdout",
     "text": "Number_of_Vehicles [ 2  1  3  4  5  6  7  8 12  9 10 13]\nNumber_of_Casualties [ 1  2  3  4  7  5 10  8 13  6 60 12  9 34]\nDate ['1979-01-01' '1979-02-01' '1979-04-01' ... '2018-12-31' '2018-12-26'\n '2018-03-03']\nTime ['18:20' '09:15' '08:45' ... '04:17' '03:32' '03:47']\nSpeed_limit [ 50.  30.  40.  70.  60.  38.  25.   0.  10.  15.  20.  36.  32.  33.\n  34.  46.  66.  35.  31.  55.  51.  61.  41.  39.  21.  16.  22.  27.\n  26.  13.  45.  59. 660.   5.   3.  62.]\nRoad_conditions ['Snow' 'Wet' 'Dry' 'Frost' 'Flood' 'Missing Data']\nWeather_conditions ['Unknown' 'Rain' 'Snow' 'Fog' 'Clear' 'Clear and windy' 'Other'\n 'Rain and windy' 'Snow and windy' 'Missing data']\nDay ['Monday' 'Tuesday' 'Thursday' 'Friday' 'Saturday' 'Sunday' 'Wednesday']\nRoad_type ['Dual carriageway' 'Unknown' 'Single carriageway' 'Roundabout'\n 'One way sreet' 'Slip road']\nLight_conditions ['Darkness lights lit' 'Daylight' 'Darkness no lights']\nGender ['Male' 'Female' 'Other']\nSeverity ['Serious' 'Slight' 'Fatal']\nAge_Grp ['36 to 45' '46 to 55' '16 to 20' '21 to 25' '26 to 35' '11 to 15'\n '56 to 65' '6 to 10' '66 to 75']\n",
     "output_type": "stream"
    }
   ],
   "execution_count": null
  },
  {
   "cell_type": "markdown",
   "source": "#### Check for unique values in each column of the dataframe with the column name",
   "metadata": {
    "cell_id": "47b5279d1a5045a48cb4a5ecebfe44f9",
    "tags": [],
    "deepnote_cell_type": "markdown",
    "deepnote_cell_height": 54
   }
  },
  {
   "cell_type": "code",
   "source": "new0 = df[\"Speed_limit\"].map({50.:60,  30.:30,  40.:30,  70.:60,  \n60.:60,  38.:30,  25.:20,   0.:10,  10.:10,  15.:10,  20.:20,\n36.:30,  32.:30,  33.:30,  34.:30,  46.:30,  66.:60,  35.:30,  31.:30,  55.:60,  51.:60,  61.:60,\n41.:30,  39.:30,  21.:20,  16.:20,  22.:20,  27.:30,  26.:30,  13.:10,  45.:30,  59.:60, 660.:60,\n5.:10,   3.:10,  62.:10})\ndf[\"Speed_limit\"] = new0\n\ndf[\"Speed_limit\"] = df[\"Speed_limit\"].astype(\"category\")\ndf.Speed_limit.dtype\n",
   "metadata": {
    "cell_id": "f82b898352ee4bcebd2faa48a020bea4",
    "tags": [],
    "deepnote_to_be_reexecuted": false,
    "source_hash": "e6166f37",
    "execution_start": 1660995669460,
    "execution_millis": 15,
    "deepnote_cell_type": "code",
    "deepnote_cell_height": 274.1875,
    "deepnote_output_heights": [
     20.1875
    ]
   },
   "outputs": [
    {
     "output_type": "execute_result",
     "execution_count": 10,
     "data": {
      "text/plain": "CategoricalDtype(categories=[10, 20, 30, 60], ordered=False)"
     },
     "metadata": {}
    }
   ],
   "execution_count": null
  },
  {
   "cell_type": "markdown",
   "source": "#### Remap Speed Limit variable and convert its type from float to category",
   "metadata": {
    "cell_id": "43c9a5e6dc2c4b2295c7598c0e0c7c92",
    "tags": [],
    "deepnote_cell_type": "markdown",
    "deepnote_cell_height": 54
   }
  },
  {
   "cell_type": "markdown",
   "source": "<font size=\"+3\" color='#3284ad'><b>__STEP-5__</b></font>`",
   "metadata": {
    "cell_id": "dfeebae979f242feb2f28be9411fb058",
    "tags": [],
    "deepnote_cell_type": "markdown",
    "deepnote_cell_height": 81.1875
   }
  },
  {
   "cell_type": "markdown",
   "source": "<font size=\"+2\" color='#3284ad'><b>__CREATING A TIME FEATURE:__</b></font>",
   "metadata": {
    "cell_id": "53631508627c477fb1a74364d600abdf",
    "tags": [],
    "deepnote_cell_type": "markdown",
    "deepnote_cell_height": 68.390625
   }
  },
  {
   "cell_type": "code",
   "source": "df['Time_numeric'] = df.Time.apply(lambda Time: int(Time[:2])) # extract the hour from the time column and convert to numeric\ndf['category'] = df.Time_numeric.apply(\n    lambda Time: \"Morning\" if 5 <= Time <= 12 \n    else \"Afternoon\" if 12 < Time <= 17 \n    else \"Evening\" if 17 < Time <= 23 \n    else \"Night\") # create a new column with the time interval \n    \ndf.drop(['Time_numeric'], axis=1, inplace=True) # drop the recently created hr time column\n",
   "metadata": {
    "cell_id": "3f640b235d314f95ab5a1c87293bb118",
    "tags": [],
    "deepnote_to_be_reexecuted": false,
    "source_hash": "8affe270",
    "execution_start": 1660997244339,
    "execution_millis": 821,
    "deepnote_cell_type": "code",
    "deepnote_cell_height": 225
   },
   "outputs": [],
   "execution_count": null
  },
  {
   "cell_type": "markdown",
   "source": "#### First we copy the dataframe to keep the original dataframe intact. Then we make a temporary variable where we save the hour value of Time as an integer. Create a new variable \"category\" and drop the temporary variable along with Time conversion.",
   "metadata": {
    "cell_id": "c1214fb653d046a2aa8e61202d629d17",
    "tags": [],
    "deepnote_cell_type": "markdown",
    "deepnote_cell_height": 102
   }
  },
  {
   "cell_type": "code",
   "source": "df.head()",
   "metadata": {
    "cell_id": "ab5ba771245443ab8394618c3305c429",
    "tags": [],
    "deepnote_to_be_reexecuted": false,
    "source_hash": "c085b6ba",
    "execution_start": 1660997822253,
    "execution_millis": 41,
    "deepnote_cell_type": "code",
    "deepnote_cell_height": 405
   },
   "outputs": [
    {
     "output_type": "execute_result",
     "execution_count": 37,
     "data": {
      "application/vnd.deepnote.dataframe.v3+json": {
       "column_count": 14,
       "row_count": 5,
       "columns": [
        {
         "name": "Number_of_Vehicles",
         "dtype": "int64",
         "stats": {
          "unique_count": 2,
          "nan_count": 0,
          "min": "1",
          "max": "2",
          "histogram": [
           {
            "bin_start": 1,
            "bin_end": 1.1,
            "count": 1
           },
           {
            "bin_start": 1.1,
            "bin_end": 1.2,
            "count": 0
           },
           {
            "bin_start": 1.2,
            "bin_end": 1.3,
            "count": 0
           },
           {
            "bin_start": 1.3,
            "bin_end": 1.4,
            "count": 0
           },
           {
            "bin_start": 1.4,
            "bin_end": 1.5,
            "count": 0
           },
           {
            "bin_start": 1.5,
            "bin_end": 1.6,
            "count": 0
           },
           {
            "bin_start": 1.6,
            "bin_end": 1.7000000000000002,
            "count": 0
           },
           {
            "bin_start": 1.7000000000000002,
            "bin_end": 1.8,
            "count": 0
           },
           {
            "bin_start": 1.8,
            "bin_end": 1.9,
            "count": 0
           },
           {
            "bin_start": 1.9,
            "bin_end": 2,
            "count": 4
           }
          ]
         }
        },
        {
         "name": "Number_of_Casualties",
         "dtype": "int64",
         "stats": {
          "unique_count": 1,
          "nan_count": 0,
          "min": "1",
          "max": "1",
          "histogram": [
           {
            "bin_start": 0.5,
            "bin_end": 0.6,
            "count": 0
           },
           {
            "bin_start": 0.6,
            "bin_end": 0.7,
            "count": 0
           },
           {
            "bin_start": 0.7,
            "bin_end": 0.8,
            "count": 0
           },
           {
            "bin_start": 0.8,
            "bin_end": 0.9,
            "count": 0
           },
           {
            "bin_start": 0.9,
            "bin_end": 1,
            "count": 0
           },
           {
            "bin_start": 1,
            "bin_end": 1.1,
            "count": 5
           },
           {
            "bin_start": 1.1,
            "bin_end": 1.2000000000000002,
            "count": 0
           },
           {
            "bin_start": 1.2000000000000002,
            "bin_end": 1.3,
            "count": 0
           },
           {
            "bin_start": 1.3,
            "bin_end": 1.4,
            "count": 0
           },
           {
            "bin_start": 1.4,
            "bin_end": 1.5,
            "count": 0
           }
          ]
         }
        },
        {
         "name": "Date",
         "dtype": "datetime64[ns]",
         "stats": {
          "unique_count": 3,
          "nan_count": 0,
          "min": "1979-01-01 00:00:00",
          "max": "1979-04-01 00:00:00",
          "histogram": [
           {
            "bin_start": 283996800000000000,
            "bin_end": 284774400000000000,
            "count": 1
           },
           {
            "bin_start": 284774400000000000,
            "bin_end": 285552000000000000,
            "count": 0
           },
           {
            "bin_start": 285552000000000000,
            "bin_end": 286329600000000000,
            "count": 0
           },
           {
            "bin_start": 286329600000000000,
            "bin_end": 287107200000000000,
            "count": 1
           },
           {
            "bin_start": 287107200000000000,
            "bin_end": 287884800000000000,
            "count": 0
           },
           {
            "bin_start": 287884800000000000,
            "bin_end": 288662400000000000,
            "count": 0
           },
           {
            "bin_start": 288662400000000000,
            "bin_end": 289440000000000000,
            "count": 0
           },
           {
            "bin_start": 289440000000000000,
            "bin_end": 290217600000000000,
            "count": 0
           },
           {
            "bin_start": 290217600000000000,
            "bin_end": 290995200000000000,
            "count": 0
           },
           {
            "bin_start": 290995200000000000,
            "bin_end": 291772800000000000,
            "count": 3
           }
          ]
         }
        },
        {
         "name": "Time",
         "dtype": "object",
         "stats": {
          "unique_count": 5,
          "nan_count": 0,
          "categories": [
           {
            "name": "18:20",
            "count": 1
           },
           {
            "name": "09:15",
            "count": 1
           },
           {
            "name": "3 others",
            "count": 3
           }
          ]
         }
        },
        {
         "name": "Speed_limit",
         "dtype": "category",
         "stats": {
          "unique_count": 2,
          "nan_count": 0,
          "categories": [
           {
            "name": "30",
            "count": 4
           },
           {
            "name": "60",
            "count": 1
           }
          ]
         }
        },
        {
         "name": "Road_conditions",
         "dtype": "object",
         "stats": {
          "unique_count": 2,
          "nan_count": 0,
          "categories": [
           {
            "name": "Snow",
            "count": 3
           },
           {
            "name": "Wet",
            "count": 2
           }
          ]
         }
        },
        {
         "name": "Weather_conditions",
         "dtype": "object",
         "stats": {
          "unique_count": 1,
          "nan_count": 0,
          "categories": [
           {
            "name": "Unknown",
            "count": 5
           }
          ]
         }
        },
        {
         "name": "Day",
         "dtype": "object",
         "stats": {
          "unique_count": 3,
          "nan_count": 0,
          "categories": [
           {
            "name": "Thursday",
            "count": 3
           },
           {
            "name": "Monday",
            "count": 1
           },
           {
            "name": "Tuesday",
            "count": 1
           }
          ]
         }
        },
        {
         "name": "Road_type",
         "dtype": "object",
         "stats": {
          "unique_count": 2,
          "nan_count": 0,
          "categories": [
           {
            "name": "Unknown",
            "count": 4
           },
           {
            "name": "Dual carriageway",
            "count": 1
           }
          ]
         }
        },
        {
         "name": "Light_conditions",
         "dtype": "object",
         "stats": {
          "unique_count": 2,
          "nan_count": 0,
          "categories": [
           {
            "name": "Daylight",
            "count": 3
           },
           {
            "name": "Darkness lights lit",
            "count": 2
           }
          ]
         }
        },
        {
         "name": "Gender",
         "dtype": "object",
         "stats": {
          "unique_count": 1,
          "nan_count": 0,
          "categories": [
           {
            "name": "Male",
            "count": 5
           }
          ]
         }
        },
        {
         "name": "Severity",
         "dtype": "object",
         "stats": {
          "unique_count": 2,
          "nan_count": 0,
          "categories": [
           {
            "name": "Slight",
            "count": 4
           },
           {
            "name": "Serious",
            "count": 1
           }
          ]
         }
        },
        {
         "name": "Age_Grp",
         "dtype": "object",
         "stats": {
          "unique_count": 2,
          "nan_count": 0,
          "categories": [
           {
            "name": "46 to 55",
            "count": 3
           },
           {
            "name": "36 to 45",
            "count": 2
           }
          ]
         }
        },
        {
         "name": "category",
         "dtype": "object",
         "stats": {
          "unique_count": 3,
          "nan_count": 0,
          "categories": [
           {
            "name": "Evening",
            "count": 2
           },
           {
            "name": "Morning",
            "count": 2
           },
           {
            "name": "Afternoon",
            "count": 1
           }
          ]
         }
        },
        {
         "name": "_deepnote_index_column",
         "dtype": "object"
        }
       ],
       "rows": [
        {
         "Number_of_Vehicles": 2,
         "Number_of_Casualties": 1,
         "Date": "1979-01-01T00:00:00Z",
         "Time": "18:20",
         "Speed_limit": 60,
         "Road_conditions": "Snow",
         "Weather_conditions": "Unknown",
         "Day": "Monday",
         "Road_type": "Dual carriageway",
         "Light_conditions": "Darkness lights lit",
         "Gender": "Male",
         "Severity": "Serious",
         "Age_Grp": "36 to 45",
         "category": "Evening",
         "_deepnote_index_column": "197901A1SEE71"
        },
        {
         "Number_of_Vehicles": 1,
         "Number_of_Casualties": 1,
         "Date": "1979-02-01T00:00:00Z",
         "Time": "09:15",
         "Speed_limit": 30,
         "Road_conditions": "Snow",
         "Weather_conditions": "Unknown",
         "Day": "Tuesday",
         "Road_type": "Unknown",
         "Light_conditions": "Daylight",
         "Gender": "Male",
         "Severity": "Slight",
         "Age_Grp": "46 to 55",
         "category": "Morning",
         "_deepnote_index_column": "197901A2JDW40"
        },
        {
         "Number_of_Vehicles": 2,
         "Number_of_Casualties": 1,
         "Date": "1979-04-01T00:00:00Z",
         "Time": "08:45",
         "Speed_limit": 30,
         "Road_conditions": "Snow",
         "Weather_conditions": "Unknown",
         "Day": "Thursday",
         "Road_type": "Unknown",
         "Light_conditions": "Daylight",
         "Gender": "Male",
         "Severity": "Slight",
         "Age_Grp": "46 to 55",
         "category": "Morning",
         "_deepnote_index_column": "197901A4IJV90"
        },
        {
         "Number_of_Vehicles": 2,
         "Number_of_Casualties": 1,
         "Date": "1979-04-01T00:00:00Z",
         "Time": "13:40",
         "Speed_limit": 30,
         "Road_conditions": "Wet",
         "Weather_conditions": "Unknown",
         "Day": "Thursday",
         "Road_type": "Unknown",
         "Light_conditions": "Daylight",
         "Gender": "Male",
         "Severity": "Slight",
         "Age_Grp": "36 to 45",
         "category": "Afternoon",
         "_deepnote_index_column": "197901A4NIE33"
        },
        {
         "Number_of_Vehicles": 2,
         "Number_of_Casualties": 1,
         "Date": "1979-04-01T00:00:00Z",
         "Time": "18:50",
         "Speed_limit": 30,
         "Road_conditions": "Wet",
         "Weather_conditions": "Unknown",
         "Day": "Thursday",
         "Road_type": "Unknown",
         "Light_conditions": "Darkness lights lit",
         "Gender": "Male",
         "Severity": "Slight",
         "Age_Grp": "46 to 55",
         "category": "Evening",
         "_deepnote_index_column": "197901A4SKO47"
        }
       ]
      },
      "text/plain": "                Number_of_Vehicles  Number_of_Casualties       Date   Time  \\\nAccident_Index                                                               \n197901A1SEE71                    2                     1 1979-01-01  18:20   \n197901A2JDW40                    1                     1 1979-02-01  09:15   \n197901A4IJV90                    2                     1 1979-04-01  08:45   \n197901A4NIE33                    2                     1 1979-04-01  13:40   \n197901A4SKO47                    2                     1 1979-04-01  18:50   \n\n               Speed_limit Road_conditions Weather_conditions       Day  \\\nAccident_Index                                                            \n197901A1SEE71           60            Snow            Unknown    Monday   \n197901A2JDW40           30            Snow            Unknown   Tuesday   \n197901A4IJV90           30            Snow            Unknown  Thursday   \n197901A4NIE33           30             Wet            Unknown  Thursday   \n197901A4SKO47           30             Wet            Unknown  Thursday   \n\n                       Road_type     Light_conditions Gender Severity  \\\nAccident_Index                                                          \n197901A1SEE71   Dual carriageway  Darkness lights lit   Male  Serious   \n197901A2JDW40            Unknown             Daylight   Male   Slight   \n197901A4IJV90            Unknown             Daylight   Male   Slight   \n197901A4NIE33            Unknown             Daylight   Male   Slight   \n197901A4SKO47            Unknown  Darkness lights lit   Male   Slight   \n\n                 Age_Grp   category  \nAccident_Index                       \n197901A1SEE71   36 to 45    Evening  \n197901A2JDW40   46 to 55    Morning  \n197901A4IJV90   46 to 55    Morning  \n197901A4NIE33   36 to 45  Afternoon  \n197901A4SKO47   46 to 55    Evening  ",
      "text/html": "<div>\n<style scoped>\n    .dataframe tbody tr th:only-of-type {\n        vertical-align: middle;\n    }\n\n    .dataframe tbody tr th {\n        vertical-align: top;\n    }\n\n    .dataframe thead th {\n        text-align: right;\n    }\n</style>\n<table border=\"1\" class=\"dataframe\">\n  <thead>\n    <tr style=\"text-align: right;\">\n      <th></th>\n      <th>Number_of_Vehicles</th>\n      <th>Number_of_Casualties</th>\n      <th>Date</th>\n      <th>Time</th>\n      <th>Speed_limit</th>\n      <th>Road_conditions</th>\n      <th>Weather_conditions</th>\n      <th>Day</th>\n      <th>Road_type</th>\n      <th>Light_conditions</th>\n      <th>Gender</th>\n      <th>Severity</th>\n      <th>Age_Grp</th>\n      <th>category</th>\n    </tr>\n    <tr>\n      <th>Accident_Index</th>\n      <th></th>\n      <th></th>\n      <th></th>\n      <th></th>\n      <th></th>\n      <th></th>\n      <th></th>\n      <th></th>\n      <th></th>\n      <th></th>\n      <th></th>\n      <th></th>\n      <th></th>\n      <th></th>\n    </tr>\n  </thead>\n  <tbody>\n    <tr>\n      <th>197901A1SEE71</th>\n      <td>2</td>\n      <td>1</td>\n      <td>1979-01-01</td>\n      <td>18:20</td>\n      <td>60</td>\n      <td>Snow</td>\n      <td>Unknown</td>\n      <td>Monday</td>\n      <td>Dual carriageway</td>\n      <td>Darkness lights lit</td>\n      <td>Male</td>\n      <td>Serious</td>\n      <td>36 to 45</td>\n      <td>Evening</td>\n    </tr>\n    <tr>\n      <th>197901A2JDW40</th>\n      <td>1</td>\n      <td>1</td>\n      <td>1979-02-01</td>\n      <td>09:15</td>\n      <td>30</td>\n      <td>Snow</td>\n      <td>Unknown</td>\n      <td>Tuesday</td>\n      <td>Unknown</td>\n      <td>Daylight</td>\n      <td>Male</td>\n      <td>Slight</td>\n      <td>46 to 55</td>\n      <td>Morning</td>\n    </tr>\n    <tr>\n      <th>197901A4IJV90</th>\n      <td>2</td>\n      <td>1</td>\n      <td>1979-04-01</td>\n      <td>08:45</td>\n      <td>30</td>\n      <td>Snow</td>\n      <td>Unknown</td>\n      <td>Thursday</td>\n      <td>Unknown</td>\n      <td>Daylight</td>\n      <td>Male</td>\n      <td>Slight</td>\n      <td>46 to 55</td>\n      <td>Morning</td>\n    </tr>\n    <tr>\n      <th>197901A4NIE33</th>\n      <td>2</td>\n      <td>1</td>\n      <td>1979-04-01</td>\n      <td>13:40</td>\n      <td>30</td>\n      <td>Wet</td>\n      <td>Unknown</td>\n      <td>Thursday</td>\n      <td>Unknown</td>\n      <td>Daylight</td>\n      <td>Male</td>\n      <td>Slight</td>\n      <td>36 to 45</td>\n      <td>Afternoon</td>\n    </tr>\n    <tr>\n      <th>197901A4SKO47</th>\n      <td>2</td>\n      <td>1</td>\n      <td>1979-04-01</td>\n      <td>18:50</td>\n      <td>30</td>\n      <td>Wet</td>\n      <td>Unknown</td>\n      <td>Thursday</td>\n      <td>Unknown</td>\n      <td>Darkness lights lit</td>\n      <td>Male</td>\n      <td>Slight</td>\n      <td>46 to 55</td>\n      <td>Evening</td>\n    </tr>\n  </tbody>\n</table>\n</div>"
     },
     "metadata": {}
    }
   ],
   "execution_count": null
  },
  {
   "cell_type": "markdown",
   "source": "<font size=\"+3\" color='#3284ad'><b>__STEP-6__</b></font>`",
   "metadata": {
    "cell_id": "7254f01271d74f099c3470c14bb2ba61",
    "tags": [],
    "deepnote_cell_type": "markdown",
    "deepnote_cell_height": 81.1875
   }
  },
  {
   "cell_type": "markdown",
   "source": "<font size=\"+2\" color='#3284ad'><b>__SUMMARY STATISTICS AND VARIABLE ACCURACY:__</b></font>`",
   "metadata": {
    "cell_id": "edc7c910b10549ffa116f700ddae87fb",
    "tags": [],
    "deepnote_cell_type": "markdown",
    "deepnote_cell_height": 68.390625
   }
  },
  {
   "cell_type": "markdown",
   "source": "#### This gives us all the basic statistcal summary about the data count, mean, std, min, max and percent quantiles(25%,50%,75%) of the dataframe for each column as shown here:",
   "metadata": {
    "cell_id": "94d0f501c5944b33a06744698d464941",
    "tags": [],
    "deepnote_cell_type": "markdown",
    "deepnote_cell_height": 78
   }
  },
  {
   "cell_type": "code",
   "source": "df.describe()",
   "metadata": {
    "cell_id": "246be90316e84c8bb8c5fa5232eeb027",
    "tags": [],
    "deepnote_to_be_reexecuted": false,
    "source_hash": "f88152d9",
    "execution_start": 1661001471154,
    "execution_millis": 57,
    "deepnote_cell_type": "code",
    "deepnote_cell_height": 513
   },
   "outputs": [
    {
     "output_type": "execute_result",
     "execution_count": 48,
     "data": {
      "application/vnd.deepnote.dataframe.v3+json": {
       "column_count": 2,
       "row_count": 8,
       "columns": [
        {
         "name": "Number_of_Vehicles",
         "dtype": "float64",
         "stats": {
          "unique_count": 6,
          "nan_count": 0,
          "min": "0.3116002484733599",
          "max": "827861.0",
          "histogram": [
           {
            "bin_start": 0.3116002484733599,
            "bin_end": 82786.38044022363,
            "count": 7
           },
           {
            "bin_start": 82786.38044022363,
            "bin_end": 165572.44928019878,
            "count": 0
           },
           {
            "bin_start": 165572.44928019878,
            "bin_end": 248358.51812017392,
            "count": 0
           },
           {
            "bin_start": 248358.51812017392,
            "bin_end": 331144.58696014906,
            "count": 0
           },
           {
            "bin_start": 331144.58696014906,
            "bin_end": 413930.6558001242,
            "count": 0
           },
           {
            "bin_start": 413930.6558001242,
            "bin_end": 496716.72464009933,
            "count": 0
           },
           {
            "bin_start": 496716.72464009933,
            "bin_end": 579502.7934800745,
            "count": 0
           },
           {
            "bin_start": 579502.7934800745,
            "bin_end": 662288.8623200497,
            "count": 0
           },
           {
            "bin_start": 662288.8623200497,
            "bin_end": 745074.9311600248,
            "count": 0
           },
           {
            "bin_start": 745074.9311600248,
            "bin_end": 827861,
            "count": 1
           }
          ]
         }
        },
        {
         "name": "Number_of_Casualties",
         "dtype": "float64",
         "stats": {
          "unique_count": 5,
          "nan_count": 0,
          "min": "0.2535085088695789",
          "max": "827861.0",
          "histogram": [
           {
            "bin_start": 0.2535085088695789,
            "bin_end": 82786.32815765799,
            "count": 7
           },
           {
            "bin_start": 82786.32815765799,
            "bin_end": 165572.4028068071,
            "count": 0
           },
           {
            "bin_start": 165572.4028068071,
            "bin_end": 248358.47745595622,
            "count": 0
           },
           {
            "bin_start": 248358.47745595622,
            "bin_end": 331144.5521051053,
            "count": 0
           },
           {
            "bin_start": 331144.5521051053,
            "bin_end": 413930.6267542544,
            "count": 0
           },
           {
            "bin_start": 413930.6267542544,
            "bin_end": 496716.70140340354,
            "count": 0
           },
           {
            "bin_start": 496716.70140340354,
            "bin_end": 579502.7760525527,
            "count": 0
           },
           {
            "bin_start": 579502.7760525527,
            "bin_end": 662288.8507017018,
            "count": 0
           },
           {
            "bin_start": 662288.8507017018,
            "bin_end": 745074.9253508509,
            "count": 0
           },
           {
            "bin_start": 745074.9253508509,
            "bin_end": 827861,
            "count": 1
           }
          ]
         }
        },
        {
         "name": "_deepnote_index_column",
         "dtype": "object"
        }
       ],
       "rows": [
        {
         "Number_of_Vehicles": 827861,
         "Number_of_Casualties": 827861,
         "_deepnote_index_column": "count"
        },
        {
         "Number_of_Vehicles": 1.9861776312690174,
         "Number_of_Casualties": 1.0472120319715508,
         "_deepnote_index_column": "mean"
        },
        {
         "Number_of_Vehicles": 0.3116002484733599,
         "Number_of_Casualties": 0.2535085088695789,
         "_deepnote_index_column": "std"
        },
        {
         "Number_of_Vehicles": 1,
         "Number_of_Casualties": 1,
         "_deepnote_index_column": "min"
        },
        {
         "Number_of_Vehicles": 2,
         "Number_of_Casualties": 1,
         "_deepnote_index_column": "25%"
        },
        {
         "Number_of_Vehicles": 2,
         "Number_of_Casualties": 1,
         "_deepnote_index_column": "50%"
        },
        {
         "Number_of_Vehicles": 2,
         "Number_of_Casualties": 1,
         "_deepnote_index_column": "75%"
        },
        {
         "Number_of_Vehicles": 13,
         "Number_of_Casualties": 60,
         "_deepnote_index_column": "max"
        }
       ]
      },
      "text/plain": "       Number_of_Vehicles  Number_of_Casualties\ncount       827861.000000         827861.000000\nmean             1.986178              1.047212\nstd              0.311600              0.253509\nmin              1.000000              1.000000\n25%              2.000000              1.000000\n50%              2.000000              1.000000\n75%              2.000000              1.000000\nmax             13.000000             60.000000",
      "text/html": "<div>\n<style scoped>\n    .dataframe tbody tr th:only-of-type {\n        vertical-align: middle;\n    }\n\n    .dataframe tbody tr th {\n        vertical-align: top;\n    }\n\n    .dataframe thead th {\n        text-align: right;\n    }\n</style>\n<table border=\"1\" class=\"dataframe\">\n  <thead>\n    <tr style=\"text-align: right;\">\n      <th></th>\n      <th>Number_of_Vehicles</th>\n      <th>Number_of_Casualties</th>\n    </tr>\n  </thead>\n  <tbody>\n    <tr>\n      <th>count</th>\n      <td>827861.000000</td>\n      <td>827861.000000</td>\n    </tr>\n    <tr>\n      <th>mean</th>\n      <td>1.986178</td>\n      <td>1.047212</td>\n    </tr>\n    <tr>\n      <th>std</th>\n      <td>0.311600</td>\n      <td>0.253509</td>\n    </tr>\n    <tr>\n      <th>min</th>\n      <td>1.000000</td>\n      <td>1.000000</td>\n    </tr>\n    <tr>\n      <th>25%</th>\n      <td>2.000000</td>\n      <td>1.000000</td>\n    </tr>\n    <tr>\n      <th>50%</th>\n      <td>2.000000</td>\n      <td>1.000000</td>\n    </tr>\n    <tr>\n      <th>75%</th>\n      <td>2.000000</td>\n      <td>1.000000</td>\n    </tr>\n    <tr>\n      <th>max</th>\n      <td>13.000000</td>\n      <td>60.000000</td>\n    </tr>\n  </tbody>\n</table>\n</div>"
     },
     "metadata": {}
    }
   ],
   "execution_count": null
  },
  {
   "cell_type": "markdown",
   "source": "#### Observations:\n1. number_of_vehicles involve in an accident: Mostly 2 vehicles with maximum and minimum (13,1) vehicles\n2. number_of_casualties in accidents: On avg, casualty of 1 person is observed in each accident with max casualty number goes to 60.\n",
   "metadata": {
    "cell_id": "695dd3d222ec4436b9f12e731f9f9613",
    "tags": [],
    "deepnote_cell_type": "markdown",
    "deepnote_cell_height": 150.171875
   }
  },
  {
   "cell_type": "markdown",
   "source": "<font size=\"+3\" color='#3284ad'><b>__STEP-7__</b></font>`",
   "metadata": {
    "cell_id": "50696db4b0924023b68e02d6b00124ef",
    "tags": [],
    "deepnote_cell_type": "markdown",
    "deepnote_cell_height": 81.1875
   }
  },
  {
   "cell_type": "markdown",
   "source": "<font size=\"+3\" color='#3284ad'><b>__DATA VISUALIZATION:__</b></font>`",
   "metadata": {
    "cell_id": "e889fe589d5f4eacb67f1cea7daf8867",
    "tags": [],
    "deepnote_cell_type": "markdown",
    "deepnote_cell_height": 81.1875
   }
  },
  {
   "cell_type": "markdown",
   "source": "<font size=\"+2\" color='#3284ad'><b>__1. Accidents Accociated with Week Day and Time:__</b></font> ",
   "metadata": {
    "cell_id": "ca34c588976946be9f60360cff07ccee",
    "tags": [],
    "deepnote_cell_type": "markdown",
    "deepnote_cell_height": 68.390625
   }
  },
  {
   "cell_type": "markdown",
   "source": "#### _Let's make pivot table of accidents with respect to Day and Category:_\nA PivotTable is an interactive way to quickly summarize large amounts of data",
   "metadata": {
    "cell_id": "f8b988b50ede42a8bfb4d24262d19bea",
    "tags": [],
    "deepnote_cell_type": "markdown",
    "deepnote_cell_height": 88.390625
   }
  },
  {
   "cell_type": "code",
   "source": "new1 = df.groupby('category').size().reset_index(name='count') # group by the Accident_Index and the time interval and count the number of rows\nnew2 = new1.loc[[2,0,1,3]] # select the rows with the time interval Morning, Night, Afternoon and Evening\nnew2",
   "metadata": {
    "cell_id": "9c0f473f9b40496982d844518de0e83a",
    "tags": [],
    "deepnote_to_be_reexecuted": false,
    "source_hash": "8f83da3f",
    "execution_start": 1660995670511,
    "execution_millis": 61,
    "deepnote_cell_type": "code",
    "deepnote_cell_height": 390
   },
   "outputs": [
    {
     "output_type": "execute_result",
     "execution_count": 14,
     "data": {
      "application/vnd.deepnote.dataframe.v3+json": {
       "column_count": 2,
       "row_count": 4,
       "columns": [
        {
         "name": "category",
         "dtype": "object",
         "stats": {
          "unique_count": 4,
          "nan_count": 0,
          "categories": [
           {
            "name": "Morning",
            "count": 1
           },
           {
            "name": "Afternoon",
            "count": 1
           },
           {
            "name": "2 others",
            "count": 2
           }
          ]
         }
        },
        {
         "name": "count",
         "dtype": "int64",
         "stats": {
          "unique_count": 4,
          "nan_count": 0,
          "min": "9781",
          "max": "324628",
          "histogram": [
           {
            "bin_start": 9781,
            "bin_end": 41265.7,
            "count": 1
           },
           {
            "bin_start": 41265.7,
            "bin_end": 72750.4,
            "count": 0
           },
           {
            "bin_start": 72750.4,
            "bin_end": 104235.1,
            "count": 0
           },
           {
            "bin_start": 104235.1,
            "bin_end": 135719.8,
            "count": 0
           },
           {
            "bin_start": 135719.8,
            "bin_end": 167204.5,
            "count": 0
           },
           {
            "bin_start": 167204.5,
            "bin_end": 198689.2,
            "count": 1
           },
           {
            "bin_start": 198689.2,
            "bin_end": 230173.9,
            "count": 0
           },
           {
            "bin_start": 230173.9,
            "bin_end": 261658.6,
            "count": 0
           },
           {
            "bin_start": 261658.6,
            "bin_end": 293143.3,
            "count": 0
           },
           {
            "bin_start": 293143.3,
            "bin_end": 324628,
            "count": 2
           }
          ]
         }
        },
        {
         "name": "_deepnote_index_column",
         "dtype": "int64"
        }
       ],
       "rows": [
        {
         "category": "Morning",
         "count": 297386,
         "_deepnote_index_column": 2
        },
        {
         "category": "Afternoon",
         "count": 324628,
         "_deepnote_index_column": 0
        },
        {
         "category": "Evening",
         "count": 196066,
         "_deepnote_index_column": 1
        },
        {
         "category": "Night",
         "count": 9781,
         "_deepnote_index_column": 3
        }
       ]
      },
      "text/plain": "    category   count\n2    Morning  297386\n0  Afternoon  324628\n1    Evening  196066\n3      Night    9781",
      "text/html": "<div>\n<style scoped>\n    .dataframe tbody tr th:only-of-type {\n        vertical-align: middle;\n    }\n\n    .dataframe tbody tr th {\n        vertical-align: top;\n    }\n\n    .dataframe thead th {\n        text-align: right;\n    }\n</style>\n<table border=\"1\" class=\"dataframe\">\n  <thead>\n    <tr style=\"text-align: right;\">\n      <th></th>\n      <th>category</th>\n      <th>count</th>\n    </tr>\n  </thead>\n  <tbody>\n    <tr>\n      <th>2</th>\n      <td>Morning</td>\n      <td>297386</td>\n    </tr>\n    <tr>\n      <th>0</th>\n      <td>Afternoon</td>\n      <td>324628</td>\n    </tr>\n    <tr>\n      <th>1</th>\n      <td>Evening</td>\n      <td>196066</td>\n    </tr>\n    <tr>\n      <th>3</th>\n      <td>Night</td>\n      <td>9781</td>\n    </tr>\n  </tbody>\n</table>\n</div>"
     },
     "metadata": {}
    }
   ],
   "execution_count": null
  },
  {
   "cell_type": "markdown",
   "source": "#### _Lets plot the data:_",
   "metadata": {
    "cell_id": "9b97087e00a144c59a17e14ec430021a",
    "tags": [],
    "deepnote_cell_type": "markdown",
    "deepnote_cell_height": 54
   }
  },
  {
   "cell_type": "code",
   "source": "fig0 = sns.barplot(x='category', y='count', data=new2, palette = \"mako\") # plot the bar graph\nfig0.set_xlabel('Time Interval of the Day') # set the x and y labels\nfig0.set_ylabel('Number of Accidents resulted in Casualties') # set the x and y labels\nfig0.set_title('Number of Accidents resulted in Casualties by Time Interval of the Day') # set the title of the graph\n\nplt.show() # show the graph",
   "metadata": {
    "cell_id": "18ec4a53ead84334b21c513612a74362",
    "tags": [],
    "deepnote_to_be_reexecuted": false,
    "source_hash": "b525a5d",
    "execution_start": 1660995670586,
    "execution_millis": 1049,
    "deepnote_cell_type": "code",
    "deepnote_cell_height": 466,
    "deepnote_output_heights": [
     279
    ]
   },
   "outputs": [
    {
     "data": {
      "text/plain": "<Figure size 432x288 with 1 Axes>",
      "image/png": "[encoded data removed]"
     },
     "metadata": {
      "needs_background": "light",
      "image/png": {
       "width": 455,
       "height": 278
      }
     },
     "output_type": "display_data"
    }
   ],
   "execution_count": null
  },
  {
   "cell_type": "markdown",
   "source": "#### \nIt appears that most accident happened in the afternoon, followed by morning and evening, which resulted in casualties",
   "metadata": {
    "cell_id": "c0b6650c4c6d4935ae3acb4cf17344f0",
    "tags": [],
    "deepnote_cell_type": "markdown",
    "deepnote_cell_height": 64.390625
   }
  },
  {
   "cell_type": "code",
   "source": "new3 = df.groupby([\"Day\",\"category\"]).size() \nnew4 = new3.loc[[\"Monday\", \"Tuesday\", \"Wednesday\", \"Thursday\", \"Friday\", \"Saturday\",\"Sunday\"],[\"Morning\", \"Afternoon\",\"Evening\",\"Night\"],:] # select the rows with the time interval Morning, Night, Afternoon and Evening\nnew4 = new4.reset_index() # reset the index\nnew4.columns = [\"Day\",\"Time of the day\",\"count\"] # rename the columns\nnew4\n#new4.sum(axis=0)              # sum the rows = total number of accidents counts TRUE\n",
   "metadata": {
    "cell_id": "cd0b12c87b284062baed1dfc86e4f8ed",
    "tags": [],
    "deepnote_to_be_reexecuted": false,
    "source_hash": "8e969482",
    "execution_start": 1660995670842,
    "execution_millis": 811,
    "deepnote_cell_type": "code",
    "deepnote_cell_height": 708
   },
   "outputs": [
    {
     "output_type": "execute_result",
     "execution_count": 16,
     "data": {
      "application/vnd.deepnote.dataframe.v3+json": {
       "column_count": 3,
       "row_count": 28,
       "columns": [
        {
         "name": "Day",
         "dtype": "object",
         "stats": {
          "unique_count": 7,
          "nan_count": 0,
          "categories": [
           {
            "name": "Monday",
            "count": 4
           },
           {
            "name": "Tuesday",
            "count": 4
           },
           {
            "name": "5 others",
            "count": 20
           }
          ]
         }
        },
        {
         "name": "Time of the day",
         "dtype": "object",
         "stats": {
          "unique_count": 4,
          "nan_count": 0,
          "categories": [
           {
            "name": "Morning",
            "count": 7
           },
           {
            "name": "Afternoon",
            "count": 7
           },
           {
            "name": "2 others",
            "count": 14
           }
          ]
         }
        },
        {
         "name": "count",
         "dtype": "int64",
         "stats": {
          "unique_count": 28,
          "nan_count": 0,
          "min": "842",
          "max": "52932",
          "histogram": [
           {
            "bin_start": 842,
            "bin_end": 6051,
            "count": 7
           },
           {
            "bin_start": 6051,
            "bin_end": 11260,
            "count": 0
           },
           {
            "bin_start": 11260,
            "bin_end": 16469,
            "count": 0
           },
           {
            "bin_start": 16469,
            "bin_end": 21678,
            "count": 2
           },
           {
            "bin_start": 21678,
            "bin_end": 26887,
            "count": 1
           },
           {
            "bin_start": 26887,
            "bin_end": 32096,
            "count": 4
           },
           {
            "bin_start": 32096,
            "bin_end": 37305,
            "count": 4
           },
           {
            "bin_start": 37305,
            "bin_end": 42514,
            "count": 0
           },
           {
            "bin_start": 42514,
            "bin_end": 47723,
            "count": 2
           },
           {
            "bin_start": 47723,
            "bin_end": 52932,
            "count": 8
           }
          ]
         }
        },
        {
         "name": "_deepnote_index_column",
         "dtype": "int64"
        }
       ],
       "rows": [
        {
         "Day": "Monday",
         "Time of the day": "Morning",
         "count": 45592,
         "_deepnote_index_column": 0
        },
        {
         "Day": "Monday",
         "Time of the day": "Afternoon",
         "count": 49333,
         "_deepnote_index_column": 1
        },
        {
         "Day": "Monday",
         "Time of the day": "Evening",
         "count": 29982,
         "_deepnote_index_column": 2
        },
        {
         "Day": "Monday",
         "Time of the day": "Night",
         "count": 842,
         "_deepnote_index_column": 3
        },
        {
         "Day": "Tuesday",
         "Time of the day": "Morning",
         "count": 50605,
         "_deepnote_index_column": 4
        },
        {
         "Day": "Tuesday",
         "Time of the day": "Afternoon",
         "count": 51812,
         "_deepnote_index_column": 5
        },
        {
         "Day": "Tuesday",
         "Time of the day": "Evening",
         "count": 33225,
         "_deepnote_index_column": 6
        },
        {
         "Day": "Tuesday",
         "Time of the day": "Night",
         "count": 892,
         "_deepnote_index_column": 7
        },
        {
         "Day": "Wednesday",
         "Time of the day": "Morning",
         "count": 50990,
         "_deepnote_index_column": 8
        },
        {
         "Day": "Wednesday",
         "Time of the day": "Afternoon",
         "count": 51854,
         "_deepnote_index_column": 9
        }
       ]
      },
      "text/plain": "          Day Time of the day  count\n0      Monday         Morning  45592\n1      Monday       Afternoon  49333\n2      Monday         Evening  29982\n3      Monday           Night    842\n4     Tuesday         Morning  50605\n5     Tuesday       Afternoon  51812\n6     Tuesday         Evening  33225\n7     Tuesday           Night    892\n8   Wednesday         Morning  50990\n9   Wednesday       Afternoon  51854\n10  Wednesday         Evening  32912\n11  Wednesday           Night   1000\n12   Thursday         Morning  50124\n13   Thursday       Afternoon  51295\n14   Thursday         Evening  33716\n15   Thursday           Night   1128\n16     Friday         Morning  46815\n17     Friday       Afternoon  52932\n18     Friday         Evening  30909\n19     Friday           Night   1410\n20   Saturday         Morning  29727\n21   Saturday       Afternoon  36723\n22   Saturday         Evening  18831\n23   Saturday           Night   2371\n24     Sunday         Morning  23533\n25     Sunday       Afternoon  30679\n26     Sunday         Evening  16491\n27     Sunday           Night   2138",
      "text/html": "<div>\n<style scoped>\n    .dataframe tbody tr th:only-of-type {\n        vertical-align: middle;\n    }\n\n    .dataframe tbody tr th {\n        vertical-align: top;\n    }\n\n    .dataframe thead th {\n        text-align: right;\n    }\n</style>\n<table border=\"1\" class=\"dataframe\">\n  <thead>\n    <tr style=\"text-align: right;\">\n      <th></th>\n      <th>Day</th>\n      <th>Time of the day</th>\n      <th>count</th>\n    </tr>\n  </thead>\n  <tbody>\n    <tr>\n      <th>0</th>\n      <td>Monday</td>\n      <td>Morning</td>\n      <td>45592</td>\n    </tr>\n    <tr>\n      <th>1</th>\n      <td>Monday</td>\n      <td>Afternoon</td>\n      <td>49333</td>\n    </tr>\n    <tr>\n      <th>2</th>\n      <td>Monday</td>\n      <td>Evening</td>\n      <td>29982</td>\n    </tr>\n    <tr>\n      <th>3</th>\n      <td>Monday</td>\n      <td>Night</td>\n      <td>842</td>\n    </tr>\n    <tr>\n      <th>4</th>\n      <td>Tuesday</td>\n      <td>Morning</td>\n      <td>50605</td>\n    </tr>\n    <tr>\n      <th>5</th>\n      <td>Tuesday</td>\n      <td>Afternoon</td>\n      <td>51812</td>\n    </tr>\n    <tr>\n      <th>6</th>\n      <td>Tuesday</td>\n      <td>Evening</td>\n      <td>33225</td>\n    </tr>\n    <tr>\n      <th>7</th>\n      <td>Tuesday</td>\n      <td>Night</td>\n      <td>892</td>\n    </tr>\n    <tr>\n      <th>8</th>\n      <td>Wednesday</td>\n      <td>Morning</td>\n      <td>50990</td>\n    </tr>\n    <tr>\n      <th>9</th>\n      <td>Wednesday</td>\n      <td>Afternoon</td>\n      <td>51854</td>\n    </tr>\n    <tr>\n      <th>10</th>\n      <td>Wednesday</td>\n      <td>Evening</td>\n      <td>32912</td>\n    </tr>\n    <tr>\n      <th>11</th>\n      <td>Wednesday</td>\n      <td>Night</td>\n      <td>1000</td>\n    </tr>\n    <tr>\n      <th>12</th>\n      <td>Thursday</td>\n      <td>Morning</td>\n      <td>50124</td>\n    </tr>\n    <tr>\n      <th>13</th>\n      <td>Thursday</td>\n      <td>Afternoon</td>\n      <td>51295</td>\n    </tr>\n    <tr>\n      <th>14</th>\n      <td>Thursday</td>\n      <td>Evening</td>\n      <td>33716</td>\n    </tr>\n    <tr>\n      <th>15</th>\n      <td>Thursday</td>\n      <td>Night</td>\n      <td>1128</td>\n    </tr>\n    <tr>\n      <th>16</th>\n      <td>Friday</td>\n      <td>Morning</td>\n      <td>46815</td>\n    </tr>\n    <tr>\n      <th>17</th>\n      <td>Friday</td>\n      <td>Afternoon</td>\n      <td>52932</td>\n    </tr>\n    <tr>\n      <th>18</th>\n      <td>Friday</td>\n      <td>Evening</td>\n      <td>30909</td>\n    </tr>\n    <tr>\n      <th>19</th>\n      <td>Friday</td>\n      <td>Night</td>\n      <td>1410</td>\n    </tr>\n    <tr>\n      <th>20</th>\n      <td>Saturday</td>\n      <td>Morning</td>\n      <td>29727</td>\n    </tr>\n    <tr>\n      <th>21</th>\n      <td>Saturday</td>\n      <td>Afternoon</td>\n      <td>36723</td>\n    </tr>\n    <tr>\n      <th>22</th>\n      <td>Saturday</td>\n      <td>Evening</td>\n      <td>18831</td>\n    </tr>\n    <tr>\n      <th>23</th>\n      <td>Saturday</td>\n      <td>Night</td>\n      <td>2371</td>\n    </tr>\n    <tr>\n      <th>24</th>\n      <td>Sunday</td>\n      <td>Morning</td>\n      <td>23533</td>\n    </tr>\n    <tr>\n      <th>25</th>\n      <td>Sunday</td>\n      <td>Afternoon</td>\n      <td>30679</td>\n    </tr>\n    <tr>\n      <th>26</th>\n      <td>Sunday</td>\n      <td>Evening</td>\n      <td>16491</td>\n    </tr>\n    <tr>\n      <th>27</th>\n      <td>Sunday</td>\n      <td>Night</td>\n      <td>2138</td>\n    </tr>\n  </tbody>\n</table>\n</div>"
     },
     "metadata": {}
    }
   ],
   "execution_count": null
  },
  {
   "cell_type": "code",
   "source": "# fig A\nfig1 = sns.catplot(x=\"Day\", y=\"count\", hue=\"Time of the day\", data=new4, kind=\"bar\", height=6, aspect=1.5,palette = \"mako\") # plot the bar graph\n#fig.set_axis__labels(x_var=\"Day of the Week\", y_var=\"no of Accidents resulted in casualties\") # set the x and y axis labels\nfig1.set_xlabels(\"Day of the Week\") # set the x axis label\nfig1.set_ylabels(\"no of Accidents resulted in casualties\") # set the y axis label\nfig1.set(title=\"Fig A: Accidents resulted in casualties by Day of the Week and Time Interval\") # set the title of the graph\n\n\nplt.show() # show the graph",
   "metadata": {
    "cell_id": "7bd4f0a8bc204ed682b0ff56bf2c7ae1",
    "tags": [],
    "deepnote_to_be_reexecuted": false,
    "source_hash": "3335c5a4",
    "execution_start": 1660995671039,
    "execution_millis": 664,
    "deepnote_cell_type": "code",
    "deepnote_cell_height": 682,
    "deepnote_output_heights": [
     441
    ]
   },
   "outputs": [
    {
     "data": {
      "text/plain": "<Figure size 734.125x432 with 1 Axes>",
      "image/png": "[encoded data removed]"
     },
     "metadata": {
      "needs_background": "light",
      "image/png": {
       "width": 724,
       "height": 440
      }
     },
     "output_type": "display_data"
    }
   ],
   "execution_count": null
  },
  {
   "cell_type": "markdown",
   "source": "**The graph shows Accidents resulted in casualties by Day of the Week and Time Interval**. It appears that Accidents happen more often during work week, means Mon-Fri, and significantly lower during the weekends.\\\nFrom Mon-Thur, the difference b\\w accidents during Morning hours and afternoon hours is very low. This means, the possibility of having an accident in either time of the day is almost same, however, slightly higher in afternoon. These accidents, which ultimately results in casualty, happens due to heavy traffic on the roads.\\\nFrom Fri-Sun, the gap is fairly significant b\\w Morning and Afternoon, and the frequency of accident increases during night time as well.\n\nOverall decline can be seen during Sat-Sau, which is due to the fact that Sat and Sun are holidays and people only cycle for liesure instead of travel to work. This also can be attributed to the fact that there are less no of cars on roads, which reduces the accidents frequency.\\\n\\\nCyclist most of the time share roads with other vehicle, from motorbikes and cars to larger buses and lorries. Even if a person is an experienced cyclist, with good control and proper knowledge, one can only be safe if others usig the road follows the due regulations.\\\n\\\nAmong the most common causes of cycling accidents are:\\\n1 - Vehicles turning into cyclist path\\\n2 - Drivers fail to see cyclists while turning or changing lanes.\\\n3 - Vehicles pulling out of a Junction.\\\n4 - Vehicle doors opening in front of an oncomming cyclist.\\\n5 - Bad roads.\\\n6 - Reckless Driving.",
   "metadata": {
    "cell_id": "2ca248826b6949a484e872f392489cdc",
    "tags": [],
    "deepnote_cell_type": "markdown",
    "deepnote_cell_height": 536.59375
   }
  },
  {
   "cell_type": "markdown",
   "source": "<font size=\"+2\" color='#3284ad'><b>__2. Accidents Accociated with Road Conditions:__</b></font> ",
   "metadata": {
    "cell_id": "5621a42245cc4c44a0ef073dbcc1c8ff",
    "tags": [],
    "deepnote_cell_type": "markdown",
    "deepnote_cell_height": 68.390625
   }
  },
  {
   "cell_type": "markdown",
   "source": "#### _Let's make pivot table of Accidents with respect to Road Types:_\n",
   "metadata": {
    "cell_id": "88d823b48b1c4249acffed7ec5756f86",
    "tags": [],
    "deepnote_cell_type": "markdown",
    "deepnote_cell_height": 54
   }
  },
  {
   "cell_type": "code",
   "source": "new5 = df.groupby([\"category\",\"Road_conditions\"]).size() # group by the Accident_Index and the time interval and count the number of rows\nnew5 = new5.loc[[\"Morning\", \"Afternoon\",\"Evening\",\"Night\"],[\"Wet\", \"Frost\", \"Snow\", \"Flood\", \"Missing Data\"],:].reset_index() # select the rows with the time interval Morning, Night, Afternoon and Evening\nnew5.columns = [\"Time of the day\",\"Road Conditions\",\"count\"] # rename the columns\nnew5\n#new5.sum(axis=0)              # sum the rows = total number of accidents counts TRUE",
   "metadata": {
    "cell_id": "02180cbea4874aef8b999691f3250872",
    "tags": [],
    "deepnote_to_be_reexecuted": false,
    "source_hash": "2a86b0c8",
    "execution_start": 1660995671665,
    "execution_millis": 138,
    "deepnote_cell_type": "code",
    "deepnote_cell_height": 672
   },
   "outputs": [
    {
     "output_type": "execute_result",
     "execution_count": 18,
     "data": {
      "application/vnd.deepnote.dataframe.v3+json": {
       "column_count": 3,
       "row_count": 20,
       "columns": [
        {
         "name": "Time of the day",
         "dtype": "object",
         "stats": {
          "unique_count": 4,
          "nan_count": 0,
          "categories": [
           {
            "name": "Morning",
            "count": 5
           },
           {
            "name": "Afternoon",
            "count": 5
           },
           {
            "name": "2 others",
            "count": 10
           }
          ]
         }
        },
        {
         "name": "Road Conditions",
         "dtype": "object",
         "stats": {
          "unique_count": 5,
          "nan_count": 0,
          "categories": [
           {
            "name": "Wet",
            "count": 4
           },
           {
            "name": "Frost",
            "count": 4
           },
           {
            "name": "3 others",
            "count": 12
           }
          ]
         }
        },
        {
         "name": "count",
         "dtype": "int64",
         "stats": {
          "unique_count": 20,
          "nan_count": 0,
          "min": "10",
          "max": "74966",
          "histogram": [
           {
            "bin_start": 10,
            "bin_end": 7505.6,
            "count": 17
           },
           {
            "bin_start": 7505.6,
            "bin_end": 15001.2,
            "count": 0
           },
           {
            "bin_start": 15001.2,
            "bin_end": 22496.800000000003,
            "count": 0
           },
           {
            "bin_start": 22496.800000000003,
            "bin_end": 29992.4,
            "count": 0
           },
           {
            "bin_start": 29992.4,
            "bin_end": 37488,
            "count": 0
           },
           {
            "bin_start": 37488,
            "bin_end": 44983.600000000006,
            "count": 1
           },
           {
            "bin_start": 44983.600000000006,
            "bin_end": 52479.200000000004,
            "count": 0
           },
           {
            "bin_start": 52479.200000000004,
            "bin_end": 59974.8,
            "count": 0
           },
           {
            "bin_start": 59974.8,
            "bin_end": 67470.40000000001,
            "count": 1
           },
           {
            "bin_start": 67470.40000000001,
            "bin_end": 74966,
            "count": 1
           }
          ]
         }
        },
        {
         "name": "_deepnote_index_column",
         "dtype": "int64"
        }
       ],
       "rows": [
        {
         "Time of the day": "Morning",
         "Road Conditions": "Wet",
         "count": 74966,
         "_deepnote_index_column": 0
        },
        {
         "Time of the day": "Morning",
         "Road Conditions": "Frost",
         "count": 4303,
         "_deepnote_index_column": 1
        },
        {
         "Time of the day": "Morning",
         "Road Conditions": "Snow",
         "count": 829,
         "_deepnote_index_column": 2
        },
        {
         "Time of the day": "Morning",
         "Road Conditions": "Flood",
         "count": 89,
         "_deepnote_index_column": 3
        },
        {
         "Time of the day": "Morning",
         "Road Conditions": "Missing Data",
         "count": 636,
         "_deepnote_index_column": 4
        },
        {
         "Time of the day": "Afternoon",
         "Road Conditions": "Wet",
         "count": 62475,
         "_deepnote_index_column": 5
        },
        {
         "Time of the day": "Afternoon",
         "Road Conditions": "Frost",
         "count": 797,
         "_deepnote_index_column": 6
        },
        {
         "Time of the day": "Afternoon",
         "Road Conditions": "Snow",
         "count": 547,
         "_deepnote_index_column": 7
        },
        {
         "Time of the day": "Afternoon",
         "Road Conditions": "Flood",
         "count": 107,
         "_deepnote_index_column": 8
        },
        {
         "Time of the day": "Afternoon",
         "Road Conditions": "Missing Data",
         "count": 551,
         "_deepnote_index_column": 9
        }
       ]
      },
      "text/plain": "   Time of the day Road Conditions  count\n0          Morning             Wet  74966\n1          Morning           Frost   4303\n2          Morning            Snow    829\n3          Morning           Flood     89\n4          Morning    Missing Data    636\n5        Afternoon             Wet  62475\n6        Afternoon           Frost    797\n7        Afternoon            Snow    547\n8        Afternoon           Flood    107\n9        Afternoon    Missing Data    551\n10         Evening             Wet  44080\n11         Evening           Frost    801\n12         Evening            Snow    305\n13         Evening           Flood     62\n14         Evening    Missing Data    444\n15           Night             Wet   2758\n16           Night           Frost    119\n17           Night            Snow     29\n18           Night           Flood     10\n19           Night    Missing Data     17",
      "text/html": "<div>\n<style scoped>\n    .dataframe tbody tr th:only-of-type {\n        vertical-align: middle;\n    }\n\n    .dataframe tbody tr th {\n        vertical-align: top;\n    }\n\n    .dataframe thead th {\n        text-align: right;\n    }\n</style>\n<table border=\"1\" class=\"dataframe\">\n  <thead>\n    <tr style=\"text-align: right;\">\n      <th></th>\n      <th>Time of the day</th>\n      <th>Road Conditions</th>\n      <th>count</th>\n    </tr>\n  </thead>\n  <tbody>\n    <tr>\n      <th>0</th>\n      <td>Morning</td>\n      <td>Wet</td>\n      <td>74966</td>\n    </tr>\n    <tr>\n      <th>1</th>\n      <td>Morning</td>\n      <td>Frost</td>\n      <td>4303</td>\n    </tr>\n    <tr>\n      <th>2</th>\n      <td>Morning</td>\n      <td>Snow</td>\n      <td>829</td>\n    </tr>\n    <tr>\n      <th>3</th>\n      <td>Morning</td>\n      <td>Flood</td>\n      <td>89</td>\n    </tr>\n    <tr>\n      <th>4</th>\n      <td>Morning</td>\n      <td>Missing Data</td>\n      <td>636</td>\n    </tr>\n    <tr>\n      <th>5</th>\n      <td>Afternoon</td>\n      <td>Wet</td>\n      <td>62475</td>\n    </tr>\n    <tr>\n      <th>6</th>\n      <td>Afternoon</td>\n      <td>Frost</td>\n      <td>797</td>\n    </tr>\n    <tr>\n      <th>7</th>\n      <td>Afternoon</td>\n      <td>Snow</td>\n      <td>547</td>\n    </tr>\n    <tr>\n      <th>8</th>\n      <td>Afternoon</td>\n      <td>Flood</td>\n      <td>107</td>\n    </tr>\n    <tr>\n      <th>9</th>\n      <td>Afternoon</td>\n      <td>Missing Data</td>\n      <td>551</td>\n    </tr>\n    <tr>\n      <th>10</th>\n      <td>Evening</td>\n      <td>Wet</td>\n      <td>44080</td>\n    </tr>\n    <tr>\n      <th>11</th>\n      <td>Evening</td>\n      <td>Frost</td>\n      <td>801</td>\n    </tr>\n    <tr>\n      <th>12</th>\n      <td>Evening</td>\n      <td>Snow</td>\n      <td>305</td>\n    </tr>\n    <tr>\n      <th>13</th>\n      <td>Evening</td>\n      <td>Flood</td>\n      <td>62</td>\n    </tr>\n    <tr>\n      <th>14</th>\n      <td>Evening</td>\n      <td>Missing Data</td>\n      <td>444</td>\n    </tr>\n    <tr>\n      <th>15</th>\n      <td>Night</td>\n      <td>Wet</td>\n      <td>2758</td>\n    </tr>\n    <tr>\n      <th>16</th>\n      <td>Night</td>\n      <td>Frost</td>\n      <td>119</td>\n    </tr>\n    <tr>\n      <th>17</th>\n      <td>Night</td>\n      <td>Snow</td>\n      <td>29</td>\n    </tr>\n    <tr>\n      <th>18</th>\n      <td>Night</td>\n      <td>Flood</td>\n      <td>10</td>\n    </tr>\n    <tr>\n      <th>19</th>\n      <td>Night</td>\n      <td>Missing Data</td>\n      <td>17</td>\n    </tr>\n  </tbody>\n</table>\n</div>"
     },
     "metadata": {}
    }
   ],
   "execution_count": null
  },
  {
   "cell_type": "markdown",
   "source": "#### _Lets plot the data:_",
   "metadata": {
    "cell_id": "0a40139d41ad44d1a7497d8ed88cb5f8",
    "tags": [],
    "deepnote_cell_type": "markdown",
    "deepnote_cell_height": 54
   }
  },
  {
   "cell_type": "code",
   "source": "# fig B\nfig2 = sns.catplot(x=\"Time of the day\", y=\"count\", hue=\"Road Conditions\", data=new5, kind=\"bar\", height=6, aspect=1.5,palette = \"mako\") # plot the bar graph\nfig2.set_xlabels(\"Time Interval of a Day\") # set the x axis label\nfig2.set_ylabels(\"no of Accidents resulted in casualties\") # set the y axis label\nfig2.set(title=\"Fig B: Accidents resulted in casualties by Time Interval and Road Conditions\") # set the title of the graph\n\nplt.show() # show the graph",
   "metadata": {
    "cell_id": "3cbc7ed277eb47e690be42a08e013d70",
    "tags": [],
    "deepnote_to_be_reexecuted": false,
    "source_hash": "6ae857f5",
    "execution_start": 1660995671819,
    "execution_millis": 598,
    "deepnote_cell_type": "code",
    "deepnote_cell_height": 646,
    "deepnote_output_heights": [
     441
    ]
   },
   "outputs": [
    {
     "data": {
      "text/plain": "<Figure size 748.625x432 with 1 Axes>",
      "image/png": "[encoded data removed]"
     },
     "metadata": {
      "needs_background": "light",
      "image/png": {
       "width": 737,
       "height": 440
      }
     },
     "output_type": "display_data"
    }
   ],
   "execution_count": null
  },
  {
   "cell_type": "markdown",
   "source": "#### \nAs data suggests, mostly people prefer to go for cycling during day light and in Dry road conditions. To this end, we have immense data of casualty in Dry road conditions which overshadows the data and its significance in other Road condition categories. Therefor we dropped the Dry category of Road condition from our visualization, in order to have a clear picture about other categories of Road condition and infer the cyclist behaviour from this data.\\\nThe frequency of accidents on \"Wet\" road conditions gradually decreases from morning till evening. This asserts the fact that people prefer to go for cycling during daylight. Also, the chart indicates that cyclist are sensitive towards lighting conditions and overall enviroment. If there is low light or dark outside enviroment or there is some unique road condition then people avoid going for cycling, results in lower no of cycles on the roads, hence low casualties as a result of an accident.\\\nThe data indicates that people do go outside when the roads are slippery due to rain or snow, or when the visibility range is very low during Frost conditions. This put them into a difficult spot where other vehicles on road have a higher chance of getting into an accident with the cyclist and the cyclist remain vulnerable for abrupt mishappenings.  ",
   "metadata": {
    "cell_id": "09eb11e0118a4cea8e4037dc5a4be0de",
    "tags": [],
    "deepnote_cell_type": "markdown",
    "deepnote_cell_height": 288.296875
   }
  },
  {
   "cell_type": "markdown",
   "source": "<font size=\"+2\" color='#3284ad'><b>__3. Accidents Accociated with Age Group and Category:__</b></font> ",
   "metadata": {
    "cell_id": "fc398e19988c449abf825f03fb69f9cc",
    "tags": [],
    "deepnote_cell_type": "markdown",
    "deepnote_cell_height": 68.390625
   }
  },
  {
   "cell_type": "markdown",
   "source": "#### _Let's make pivot table of Accidents with respect to Age_Group*:_",
   "metadata": {
    "cell_id": "0f3f8e0fa2db44bba01b3fce6f3ca530",
    "tags": [],
    "deepnote_cell_type": "markdown",
    "deepnote_cell_height": 54
   }
  },
  {
   "cell_type": "code",
   "source": "new6 = df.groupby([\"Age_Grp\",\"category\"]).size() # group by the Accident_Index and the time interval and count the number of rows\nnew6 = new6.loc[[\"6 to 10\",\"11 to 15\", \"16 to 20\", \"21 to 25\", \"26 to 35\", \"36 to 45\", \"46 to 55\", \"56 to 65\", \"66 to 75\"],[\"Morning\", \"Afternoon\",\"Evening\",\"Night\"],:].reset_index() # select the rows with the time interval Morning, Night, Afternoon and Evening\nnew6.columns = [\"Age-group\",\"Time of the day\",\"count\"] # rename the columns\nnew6\n#new6.sum(axis=0)              # 827861   TRUE",
   "metadata": {
    "cell_id": "b79fb1503e7844ceb267d4de8beb27bf",
    "tags": [],
    "deepnote_to_be_reexecuted": false,
    "source_hash": "1eb535af",
    "execution_start": 1660995672433,
    "execution_millis": 130,
    "deepnote_cell_type": "code",
    "deepnote_cell_height": 672
   },
   "outputs": [
    {
     "output_type": "execute_result",
     "execution_count": 20,
     "data": {
      "application/vnd.deepnote.dataframe.v3+json": {
       "column_count": 3,
       "row_count": 36,
       "columns": [
        {
         "name": "Age-group",
         "dtype": "object",
         "stats": {
          "unique_count": 9,
          "nan_count": 0,
          "categories": [
           {
            "name": "6 to 10",
            "count": 4
           },
           {
            "name": "11 to 15",
            "count": 4
           },
           {
            "name": "7 others",
            "count": 28
           }
          ]
         }
        },
        {
         "name": "Time of the day",
         "dtype": "object",
         "stats": {
          "unique_count": 4,
          "nan_count": 0,
          "categories": [
           {
            "name": "Morning",
            "count": 9
           },
           {
            "name": "Afternoon",
            "count": 9
           },
           {
            "name": "2 others",
            "count": 18
           }
          ]
         }
        },
        {
         "name": "count",
         "dtype": "int64",
         "stats": {
          "unique_count": 36,
          "nan_count": 0,
          "min": "48",
          "max": "79553",
          "histogram": [
           {
            "bin_start": 48,
            "bin_end": 7998.5,
            "count": 12
           },
           {
            "bin_start": 7998.5,
            "bin_end": 15949,
            "count": 4
           },
           {
            "bin_start": 15949,
            "bin_end": 23899.5,
            "count": 4
           },
           {
            "bin_start": 23899.5,
            "bin_end": 31850,
            "count": 3
           },
           {
            "bin_start": 31850,
            "bin_end": 39800.5,
            "count": 5
           },
           {
            "bin_start": 39800.5,
            "bin_end": 47751,
            "count": 3
           },
           {
            "bin_start": 47751,
            "bin_end": 55701.5,
            "count": 3
           },
           {
            "bin_start": 55701.5,
            "bin_end": 63652,
            "count": 1
           },
           {
            "bin_start": 63652,
            "bin_end": 71602.5,
            "count": 0
           },
           {
            "bin_start": 71602.5,
            "bin_end": 79553,
            "count": 1
           }
          ]
         }
        },
        {
         "name": "_deepnote_index_column",
         "dtype": "int64"
        }
       ],
       "rows": [
        {
         "Age-group": "6 to 10",
         "Time of the day": "Morning",
         "count": 11718,
         "_deepnote_index_column": 0
        },
        {
         "Age-group": "6 to 10",
         "Time of the day": "Afternoon",
         "count": 35901,
         "_deepnote_index_column": 1
        },
        {
         "Age-group": "6 to 10",
         "Time of the day": "Evening",
         "count": 20354,
         "_deepnote_index_column": 2
        },
        {
         "Age-group": "6 to 10",
         "Time of the day": "Night",
         "count": 48,
         "_deepnote_index_column": 3
        },
        {
         "Age-group": "11 to 15",
         "Time of the day": "Morning",
         "count": 48602,
         "_deepnote_index_column": 4
        },
        {
         "Age-group": "11 to 15",
         "Time of the day": "Afternoon",
         "count": 79553,
         "_deepnote_index_column": 5
        },
        {
         "Age-group": "11 to 15",
         "Time of the day": "Evening",
         "count": 41508,
         "_deepnote_index_column": 6
        },
        {
         "Age-group": "11 to 15",
         "Time of the day": "Night",
         "count": 280,
         "_deepnote_index_column": 7
        },
        {
         "Age-group": "16 to 20",
         "Time of the day": "Morning",
         "count": 40595,
         "_deepnote_index_column": 8
        },
        {
         "Age-group": "16 to 20",
         "Time of the day": "Afternoon",
         "count": 48112,
         "_deepnote_index_column": 9
        }
       ]
      },
      "text/plain": "   Age-group Time of the day  count\n0    6 to 10         Morning  11718\n1    6 to 10       Afternoon  35901\n2    6 to 10         Evening  20354\n3    6 to 10           Night     48\n4   11 to 15         Morning  48602\n5   11 to 15       Afternoon  79553\n6   11 to 15         Evening  41508\n7   11 to 15           Night    280\n8   16 to 20         Morning  40595\n9   16 to 20       Afternoon  48112\n10  16 to 20         Evening  31872\n11  16 to 20           Night   2023\n12  21 to 25         Morning  31842\n13  21 to 25       Afternoon  30732\n14  21 to 25         Evening  22482\n15  21 to 25           Night   2235\n16  26 to 35         Morning  58438\n17  26 to 35       Afternoon  48029\n18  26 to 35         Evening  35840\n19  26 to 35           Night   2771\n20  36 to 45         Morning  45102\n21  36 to 45       Afternoon  35187\n22  36 to 45         Evening  22152\n23  36 to 45           Night   1332\n24  46 to 55         Morning  33089\n25  46 to 55       Afternoon  25827\n26  46 to 55         Evening  13964\n27  46 to 55           Night    697\n28  56 to 65         Morning  19818\n29  56 to 65       Afternoon  15457\n30  56 to 65         Evening   6307\n31  56 to 65           Night    331\n32  66 to 75         Morning   8182\n33  66 to 75       Afternoon   5830\n34  66 to 75         Evening   1587\n35  66 to 75           Night     64",
      "text/html": "<div>\n<style scoped>\n    .dataframe tbody tr th:only-of-type {\n        vertical-align: middle;\n    }\n\n    .dataframe tbody tr th {\n        vertical-align: top;\n    }\n\n    .dataframe thead th {\n        text-align: right;\n    }\n</style>\n<table border=\"1\" class=\"dataframe\">\n  <thead>\n    <tr style=\"text-align: right;\">\n      <th></th>\n      <th>Age-group</th>\n      <th>Time of the day</th>\n      <th>count</th>\n    </tr>\n  </thead>\n  <tbody>\n    <tr>\n      <th>0</th>\n      <td>6 to 10</td>\n      <td>Morning</td>\n      <td>11718</td>\n    </tr>\n    <tr>\n      <th>1</th>\n      <td>6 to 10</td>\n      <td>Afternoon</td>\n      <td>35901</td>\n    </tr>\n    <tr>\n      <th>2</th>\n      <td>6 to 10</td>\n      <td>Evening</td>\n      <td>20354</td>\n    </tr>\n    <tr>\n      <th>3</th>\n      <td>6 to 10</td>\n      <td>Night</td>\n      <td>48</td>\n    </tr>\n    <tr>\n      <th>4</th>\n      <td>11 to 15</td>\n      <td>Morning</td>\n      <td>48602</td>\n    </tr>\n    <tr>\n      <th>5</th>\n      <td>11 to 15</td>\n      <td>Afternoon</td>\n      <td>79553</td>\n    </tr>\n    <tr>\n      <th>6</th>\n      <td>11 to 15</td>\n      <td>Evening</td>\n      <td>41508</td>\n    </tr>\n    <tr>\n      <th>7</th>\n      <td>11 to 15</td>\n      <td>Night</td>\n      <td>280</td>\n    </tr>\n    <tr>\n      <th>8</th>\n      <td>16 to 20</td>\n      <td>Morning</td>\n      <td>40595</td>\n    </tr>\n    <tr>\n      <th>9</th>\n      <td>16 to 20</td>\n      <td>Afternoon</td>\n      <td>48112</td>\n    </tr>\n    <tr>\n      <th>10</th>\n      <td>16 to 20</td>\n      <td>Evening</td>\n      <td>31872</td>\n    </tr>\n    <tr>\n      <th>11</th>\n      <td>16 to 20</td>\n      <td>Night</td>\n      <td>2023</td>\n    </tr>\n    <tr>\n      <th>12</th>\n      <td>21 to 25</td>\n      <td>Morning</td>\n      <td>31842</td>\n    </tr>\n    <tr>\n      <th>13</th>\n      <td>21 to 25</td>\n      <td>Afternoon</td>\n      <td>30732</td>\n    </tr>\n    <tr>\n      <th>14</th>\n      <td>21 to 25</td>\n      <td>Evening</td>\n      <td>22482</td>\n    </tr>\n    <tr>\n      <th>15</th>\n      <td>21 to 25</td>\n      <td>Night</td>\n      <td>2235</td>\n    </tr>\n    <tr>\n      <th>16</th>\n      <td>26 to 35</td>\n      <td>Morning</td>\n      <td>58438</td>\n    </tr>\n    <tr>\n      <th>17</th>\n      <td>26 to 35</td>\n      <td>Afternoon</td>\n      <td>48029</td>\n    </tr>\n    <tr>\n      <th>18</th>\n      <td>26 to 35</td>\n      <td>Evening</td>\n      <td>35840</td>\n    </tr>\n    <tr>\n      <th>19</th>\n      <td>26 to 35</td>\n      <td>Night</td>\n      <td>2771</td>\n    </tr>\n    <tr>\n      <th>20</th>\n      <td>36 to 45</td>\n      <td>Morning</td>\n      <td>45102</td>\n    </tr>\n    <tr>\n      <th>21</th>\n      <td>36 to 45</td>\n      <td>Afternoon</td>\n      <td>35187</td>\n    </tr>\n    <tr>\n      <th>22</th>\n      <td>36 to 45</td>\n      <td>Evening</td>\n      <td>22152</td>\n    </tr>\n    <tr>\n      <th>23</th>\n      <td>36 to 45</td>\n      <td>Night</td>\n      <td>1332</td>\n    </tr>\n    <tr>\n      <th>24</th>\n      <td>46 to 55</td>\n      <td>Morning</td>\n      <td>33089</td>\n    </tr>\n    <tr>\n      <th>25</th>\n      <td>46 to 55</td>\n      <td>Afternoon</td>\n      <td>25827</td>\n    </tr>\n    <tr>\n      <th>26</th>\n      <td>46 to 55</td>\n      <td>Evening</td>\n      <td>13964</td>\n    </tr>\n    <tr>\n      <th>27</th>\n      <td>46 to 55</td>\n      <td>Night</td>\n      <td>697</td>\n    </tr>\n    <tr>\n      <th>28</th>\n      <td>56 to 65</td>\n      <td>Morning</td>\n      <td>19818</td>\n    </tr>\n    <tr>\n      <th>29</th>\n      <td>56 to 65</td>\n      <td>Afternoon</td>\n      <td>15457</td>\n    </tr>\n    <tr>\n      <th>30</th>\n      <td>56 to 65</td>\n      <td>Evening</td>\n      <td>6307</td>\n    </tr>\n    <tr>\n      <th>31</th>\n      <td>56 to 65</td>\n      <td>Night</td>\n      <td>331</td>\n    </tr>\n    <tr>\n      <th>32</th>\n      <td>66 to 75</td>\n      <td>Morning</td>\n      <td>8182</td>\n    </tr>\n    <tr>\n      <th>33</th>\n      <td>66 to 75</td>\n      <td>Afternoon</td>\n      <td>5830</td>\n    </tr>\n    <tr>\n      <th>34</th>\n      <td>66 to 75</td>\n      <td>Evening</td>\n      <td>1587</td>\n    </tr>\n    <tr>\n      <th>35</th>\n      <td>66 to 75</td>\n      <td>Night</td>\n      <td>64</td>\n    </tr>\n  </tbody>\n</table>\n</div>"
     },
     "metadata": {}
    }
   ],
   "execution_count": null
  },
  {
   "cell_type": "code",
   "source": "# fig C\nfig3 = sns.catplot(x=\"Age-group\", y=\"count\", hue=\"Time of the day\", data=new6, kind=\"bar\", height=6, aspect=1.5,palette = \"rocket\") # plot the bar graph\nfig3.set_xlabels(\"Age Group\") # set the x axis label\nfig3.set_ylabels(\"no of Accidents resulted in casualties\") # set the y axis label\nfig3.set(title=\"Fig C: Accidents resulted in casualties by Age Group and Time Interval\") # set the title of the graph\nplt.show() # show the graph",
   "metadata": {
    "cell_id": "c356e6e94fea4fba8132e51f0e4c760f",
    "tags": [],
    "deepnote_to_be_reexecuted": false,
    "source_hash": "4adadac9",
    "execution_start": 1660995672568,
    "execution_millis": 714,
    "deepnote_cell_type": "code",
    "deepnote_cell_height": 628,
    "deepnote_output_heights": [
     441
    ]
   },
   "outputs": [
    {
     "data": {
      "text/plain": "<Figure size 734.125x432 with 1 Axes>",
      "image/png": "[encoded data removed]"
     },
     "metadata": {
      "needs_background": "light",
      "image/png": {
       "width": 724,
       "height": 440
      }
     },
     "output_type": "display_data"
    }
   ],
   "execution_count": null
  },
  {
   "cell_type": "markdown",
   "source": "#### \nThe graph suggest that childern and teenagers usually go for cycling in Afternoon or in the evening, whereas young adults and adults who most of them are professionals, have a pattern of cycling in the morning and in Afternoon, with young adults experience cycling during night hours.\\\nThe no of accidents for childern and teenagers during later part of the day suggest that the casualties are near school areas, libraries and residential blocks, where car or other vehicle drivers dont follow the rules. The accident data for young adults or adults suggest places like city center, parks, gyms, bars, old age home and hospitals.",
   "metadata": {
    "cell_id": "f0eb67c04f634516981a7304d833f304",
    "tags": [],
    "deepnote_cell_type": "markdown",
    "deepnote_cell_height": 176.34375
   }
  },
  {
   "cell_type": "markdown",
   "source": "<font size=\"+2\" color='#3284ad'><b>__4. Accidents Accociated with Gender & Age Group:__</b></font> ",
   "metadata": {
    "cell_id": "5f7552b09ddd4c3194962b4cd201c1aa",
    "tags": [],
    "deepnote_cell_type": "markdown",
    "deepnote_cell_height": 68.390625
   }
  },
  {
   "cell_type": "code",
   "source": "new7 = df.groupby([\"Age_Grp\",\"Gender\"]).size() # group by the Accident_Index and the time interval and count the number of rows\nnew7 = new7.loc[[\"6 to 10\",\"11 to 15\", \"16 to 20\", \"21 to 25\", \"26 to 35\", \"36 to 45\", \"46 to 55\", \"56 to 65\", \"66 to 75\"],[\"Male\", \"Female\", \"Other\"],:].reset_index() # select the rows with the time interval Morning, Night, Afternoon and Evening\nnew7.columns = [\"Age-group\",\"Gender\",\"count\"] # rename the columns\nnew7[\"percentage\"] = new7[\"count\"].div(new7[\"count\"].sum(axis=0)) # calculate the percentage of the total accidents\nnew7\n#new7.sum(axis=0)              # 827861   TRUE\n#new7.sum(axis=0)              # 827861   TRUE",
   "metadata": {
    "cell_id": "52e67ed5c46a4dfb8525d1e0ce0031e9",
    "tags": [],
    "deepnote_to_be_reexecuted": false,
    "source_hash": "b607efe7",
    "execution_start": 1660995673301,
    "execution_millis": 135,
    "deepnote_cell_type": "code",
    "deepnote_cell_height": 708
   },
   "outputs": [
    {
     "output_type": "execute_result",
     "execution_count": 22,
     "data": {
      "application/vnd.deepnote.dataframe.v3+json": {
       "column_count": 4,
       "row_count": 27,
       "columns": [
        {
         "name": "Age-group",
         "dtype": "object",
         "stats": {
          "unique_count": 9,
          "nan_count": 0,
          "categories": [
           {
            "name": "6 to 10",
            "count": 3
           },
           {
            "name": "11 to 15",
            "count": 3
           },
           {
            "name": "7 others",
            "count": 21
           }
          ]
         }
        },
        {
         "name": "Gender",
         "dtype": "object",
         "stats": {
          "unique_count": 3,
          "nan_count": 0,
          "categories": [
           {
            "name": "Male",
            "count": 9
           },
           {
            "name": "Female",
            "count": 9
           },
           {
            "name": "Other",
            "count": 9
           }
          ]
         }
        },
        {
         "name": "count",
         "dtype": "int64",
         "stats": {
          "unique_count": 26,
          "nan_count": 0,
          "min": "3",
          "max": "144101",
          "histogram": [
           {
            "bin_start": 3,
            "bin_end": 14412.8,
            "count": 13
           },
           {
            "bin_start": 14412.8,
            "bin_end": 28822.6,
            "count": 5
           },
           {
            "bin_start": 28822.6,
            "bin_end": 43232.399999999994,
            "count": 2
           },
           {
            "bin_start": 43232.399999999994,
            "bin_end": 57642.2,
            "count": 2
           },
           {
            "bin_start": 57642.2,
            "bin_end": 72052,
            "count": 1
           },
           {
            "bin_start": 72052,
            "bin_end": 86461.79999999999,
            "count": 1
           },
           {
            "bin_start": 86461.79999999999,
            "bin_end": 100871.59999999999,
            "count": 1
           },
           {
            "bin_start": 100871.59999999999,
            "bin_end": 115281.4,
            "count": 1
           },
           {
            "bin_start": 115281.4,
            "bin_end": 129691.2,
            "count": 0
           },
           {
            "bin_start": 129691.2,
            "bin_end": 144101,
            "count": 1
           }
          ]
         }
        },
        {
         "name": "percentage",
         "dtype": "float64",
         "stats": {
          "unique_count": 26,
          "nan_count": 0,
          "min": "3.623796748487971e-06",
          "max": "0.1740642450846217",
          "histogram": [
           {
            "bin_start": 0.000003623796748487971,
            "bin_end": 0.01740968592553581,
            "count": 13
           },
           {
            "bin_start": 0.01740968592553581,
            "bin_end": 0.03481574805432313,
            "count": 5
           },
           {
            "bin_start": 0.03481574805432313,
            "bin_end": 0.05222181018311045,
            "count": 2
           },
           {
            "bin_start": 0.05222181018311045,
            "bin_end": 0.06962787231189778,
            "count": 2
           },
           {
            "bin_start": 0.06962787231189778,
            "bin_end": 0.08703393444068509,
            "count": 1
           },
           {
            "bin_start": 0.08703393444068509,
            "bin_end": 0.10443999656947242,
            "count": 1
           },
           {
            "bin_start": 0.10443999656947242,
            "bin_end": 0.12184605869825975,
            "count": 1
           },
           {
            "bin_start": 0.12184605869825975,
            "bin_end": 0.13925212082704705,
            "count": 1
           },
           {
            "bin_start": 0.13925212082704705,
            "bin_end": 0.15665818295583436,
            "count": 0
           },
           {
            "bin_start": 0.15665818295583436,
            "bin_end": 0.1740642450846217,
            "count": 1
           }
          ]
         }
        },
        {
         "name": "_deepnote_index_column",
         "dtype": "int64"
        }
       ],
       "rows": [
        {
         "Age-group": "6 to 10",
         "Gender": "Male",
         "count": 56243,
         "percentage": 0.06793773350840299,
         "_deepnote_index_column": 0
        },
        {
         "Age-group": "6 to 10",
         "Gender": "Female",
         "count": 11750,
         "percentage": 0.014193203931577886,
         "_deepnote_index_column": 1
        },
        {
         "Age-group": "6 to 10",
         "Gender": "Other",
         "count": 28,
         "percentage": 0.00003382210298588773,
         "_deepnote_index_column": 2
        },
        {
         "Age-group": "11 to 15",
         "Gender": "Male",
         "count": 144101,
         "percentage": 0.1740642450846217,
         "_deepnote_index_column": 3
        },
        {
         "Age-group": "11 to 15",
         "Gender": "Female",
         "count": 25815,
         "percentage": 0.03118277102073899,
         "_deepnote_index_column": 4
        },
        {
         "Age-group": "11 to 15",
         "Gender": "Other",
         "count": 27,
         "percentage": 0.000032614170736391737,
         "_deepnote_index_column": 5
        },
        {
         "Age-group": "16 to 20",
         "Gender": "Male",
         "count": 99918,
         "percentage": 0.12069417450514036,
         "_deepnote_index_column": 6
        },
        {
         "Age-group": "16 to 20",
         "Gender": "Female",
         "count": 22662,
         "percentage": 0.02737416063807813,
         "_deepnote_index_column": 7
        },
        {
         "Age-group": "16 to 20",
         "Gender": "Other",
         "count": 22,
         "percentage": 0.000026574509488911787,
         "_deepnote_index_column": 8
        },
        {
         "Age-group": "21 to 25",
         "Gender": "Male",
         "count": 64878,
         "percentage": 0.07836822848280085,
         "_deepnote_index_column": 9
        }
       ]
      },
      "text/plain": "   Age-group  Gender   count  percentage\n0    6 to 10    Male   56243    0.067938\n1    6 to 10  Female   11750    0.014193\n2    6 to 10   Other      28    0.000034\n3   11 to 15    Male  144101    0.174064\n4   11 to 15  Female   25815    0.031183\n5   11 to 15   Other      27    0.000033\n6   16 to 20    Male   99918    0.120694\n7   16 to 20  Female   22662    0.027374\n8   16 to 20   Other      22    0.000027\n9   21 to 25    Male   64878    0.078368\n10  21 to 25  Female   22405    0.027064\n11  21 to 25   Other       8    0.000010\n12  26 to 35    Male  112362    0.135726\n13  26 to 35  Female   32707    0.039508\n14  26 to 35   Other       9    0.000011\n15  36 to 45    Male   82198    0.099290\n16  36 to 45  Female   21565    0.026049\n17  36 to 45   Other      10    0.000012\n18  46 to 55    Male   56252    0.067949\n19  46 to 55  Female   17319    0.020920\n20  46 to 55   Other       6    0.000007\n21  56 to 65    Male   31780    0.038388\n22  56 to 65  Female   10127    0.012233\n23  56 to 65   Other       6    0.000007\n24  66 to 75    Male   12293    0.014849\n25  66 to 75  Female    3367    0.004067\n26  66 to 75   Other       3    0.000004",
      "text/html": "<div>\n<style scoped>\n    .dataframe tbody tr th:only-of-type {\n        vertical-align: middle;\n    }\n\n    .dataframe tbody tr th {\n        vertical-align: top;\n    }\n\n    .dataframe thead th {\n        text-align: right;\n    }\n</style>\n<table border=\"1\" class=\"dataframe\">\n  <thead>\n    <tr style=\"text-align: right;\">\n      <th></th>\n      <th>Age-group</th>\n      <th>Gender</th>\n      <th>count</th>\n      <th>percentage</th>\n    </tr>\n  </thead>\n  <tbody>\n    <tr>\n      <th>0</th>\n      <td>6 to 10</td>\n      <td>Male</td>\n      <td>56243</td>\n      <td>0.067938</td>\n    </tr>\n    <tr>\n      <th>1</th>\n      <td>6 to 10</td>\n      <td>Female</td>\n      <td>11750</td>\n      <td>0.014193</td>\n    </tr>\n    <tr>\n      <th>2</th>\n      <td>6 to 10</td>\n      <td>Other</td>\n      <td>28</td>\n      <td>0.000034</td>\n    </tr>\n    <tr>\n      <th>3</th>\n      <td>11 to 15</td>\n      <td>Male</td>\n      <td>144101</td>\n      <td>0.174064</td>\n    </tr>\n    <tr>\n      <th>4</th>\n      <td>11 to 15</td>\n      <td>Female</td>\n      <td>25815</td>\n      <td>0.031183</td>\n    </tr>\n    <tr>\n      <th>5</th>\n      <td>11 to 15</td>\n      <td>Other</td>\n      <td>27</td>\n      <td>0.000033</td>\n    </tr>\n    <tr>\n      <th>6</th>\n      <td>16 to 20</td>\n      <td>Male</td>\n      <td>99918</td>\n      <td>0.120694</td>\n    </tr>\n    <tr>\n      <th>7</th>\n      <td>16 to 20</td>\n      <td>Female</td>\n      <td>22662</td>\n      <td>0.027374</td>\n    </tr>\n    <tr>\n      <th>8</th>\n      <td>16 to 20</td>\n      <td>Other</td>\n      <td>22</td>\n      <td>0.000027</td>\n    </tr>\n    <tr>\n      <th>9</th>\n      <td>21 to 25</td>\n      <td>Male</td>\n      <td>64878</td>\n      <td>0.078368</td>\n    </tr>\n    <tr>\n      <th>10</th>\n      <td>21 to 25</td>\n      <td>Female</td>\n      <td>22405</td>\n      <td>0.027064</td>\n    </tr>\n    <tr>\n      <th>11</th>\n      <td>21 to 25</td>\n      <td>Other</td>\n      <td>8</td>\n      <td>0.000010</td>\n    </tr>\n    <tr>\n      <th>12</th>\n      <td>26 to 35</td>\n      <td>Male</td>\n      <td>112362</td>\n      <td>0.135726</td>\n    </tr>\n    <tr>\n      <th>13</th>\n      <td>26 to 35</td>\n      <td>Female</td>\n      <td>32707</td>\n      <td>0.039508</td>\n    </tr>\n    <tr>\n      <th>14</th>\n      <td>26 to 35</td>\n      <td>Other</td>\n      <td>9</td>\n      <td>0.000011</td>\n    </tr>\n    <tr>\n      <th>15</th>\n      <td>36 to 45</td>\n      <td>Male</td>\n      <td>82198</td>\n      <td>0.099290</td>\n    </tr>\n    <tr>\n      <th>16</th>\n      <td>36 to 45</td>\n      <td>Female</td>\n      <td>21565</td>\n      <td>0.026049</td>\n    </tr>\n    <tr>\n      <th>17</th>\n      <td>36 to 45</td>\n      <td>Other</td>\n      <td>10</td>\n      <td>0.000012</td>\n    </tr>\n    <tr>\n      <th>18</th>\n      <td>46 to 55</td>\n      <td>Male</td>\n      <td>56252</td>\n      <td>0.067949</td>\n    </tr>\n    <tr>\n      <th>19</th>\n      <td>46 to 55</td>\n      <td>Female</td>\n      <td>17319</td>\n      <td>0.020920</td>\n    </tr>\n    <tr>\n      <th>20</th>\n      <td>46 to 55</td>\n      <td>Other</td>\n      <td>6</td>\n      <td>0.000007</td>\n    </tr>\n    <tr>\n      <th>21</th>\n      <td>56 to 65</td>\n      <td>Male</td>\n      <td>31780</td>\n      <td>0.038388</td>\n    </tr>\n    <tr>\n      <th>22</th>\n      <td>56 to 65</td>\n      <td>Female</td>\n      <td>10127</td>\n      <td>0.012233</td>\n    </tr>\n    <tr>\n      <th>23</th>\n      <td>56 to 65</td>\n      <td>Other</td>\n      <td>6</td>\n      <td>0.000007</td>\n    </tr>\n    <tr>\n      <th>24</th>\n      <td>66 to 75</td>\n      <td>Male</td>\n      <td>12293</td>\n      <td>0.014849</td>\n    </tr>\n    <tr>\n      <th>25</th>\n      <td>66 to 75</td>\n      <td>Female</td>\n      <td>3367</td>\n      <td>0.004067</td>\n    </tr>\n    <tr>\n      <th>26</th>\n      <td>66 to 75</td>\n      <td>Other</td>\n      <td>3</td>\n      <td>0.000004</td>\n    </tr>\n  </tbody>\n</table>\n</div>"
     },
     "metadata": {}
    }
   ],
   "execution_count": null
  },
  {
   "cell_type": "code",
   "source": "# fig D\nfig4 = sns.catplot(x=\"Age-group\", y = \"percentage\", hue = \"Gender\", data = new7, kind = \"bar\", height = 6, aspect = 1.5,palette = \"rocket\") # plot the bar graph\nfig4.set_xlabels(\"Age Group\") # set the x axis label\nfig4.set_ylabels(\"%age of Accidents resulted in casualties\") # set the y axis label\nfig4.set(title=\"Fig D: Accidents resulted in casualties by Age Group & Gender\") # set the title of the graph\n",
   "metadata": {
    "cell_id": "1019ae290c29427eb49bb65f513defff",
    "tags": [],
    "deepnote_to_be_reexecuted": false,
    "source_hash": "eefc92a",
    "execution_start": 1660995673465,
    "execution_millis": 1089,
    "deepnote_cell_type": "code",
    "deepnote_cell_height": 679.1875,
    "deepnote_output_heights": [
     20.1875,
     441
    ]
   },
   "outputs": [
    {
     "output_type": "execute_result",
     "execution_count": 23,
     "data": {
      "text/plain": "<seaborn.axisgrid.FacetGrid at 0x7fd57ca78790>"
     },
     "metadata": {}
    },
    {
     "data": {
      "text/plain": "<Figure size 720.125x432 with 1 Axes>",
      "image/png": "[encoded data removed]"
     },
     "metadata": {
      "needs_background": "light",
      "image/png": {
       "width": 711,
       "height": 440
      }
     },
     "output_type": "display_data"
    }
   ],
   "execution_count": null
  },
  {
   "cell_type": "markdown",
   "source": "#### \nAs data indicates, the ratio of accidents with male casualties are far higher than that of females.\\\nFor childern and teenagers, this might be True due to their extrovert attitude, and curiosity to explore new experiences and techiniques.\\\nFor young adults and adults, the difference indicates either there are less women on road cycling their way around or they are good cyclist.",
   "metadata": {
    "cell_id": "9af0c4de6f764e4686e3cc25d56ac964",
    "tags": [],
    "deepnote_cell_type": "markdown",
    "deepnote_cell_height": 153.953125
   }
  },
  {
   "cell_type": "markdown",
   "source": "",
   "metadata": {
    "cell_id": "a8d5f9cdc7bf415da087ab5323912476",
    "tags": [],
    "deepnote_cell_type": "markdown",
    "deepnote_cell_height": 46
   }
  },
  {
   "cell_type": "markdown",
   "source": "<font size=\"+2\" color='#3284ad'><b>__5. Accidents Accociated with Age Group & Severity:__</b></font> ",
   "metadata": {
    "cell_id": "f9ba551900d44b058e356f04d1133472",
    "tags": [],
    "deepnote_cell_type": "markdown",
    "deepnote_cell_height": 68.390625
   }
  },
  {
   "cell_type": "code",
   "source": "new8 = df.groupby([\"Age_Grp\", \"Severity\"]).size() # group by the Accident_Index and the time interval and count the number of rows\nnew8 = new8.loc[[\"6 to 10\",\"11 to 15\", \"16 to 20\", \"21 to 25\", \"26 to 35\", \"36 to 45\", \"46 to 55\", \"56 to 65\", \"66 to 75\"],[\"Slight\", \"Serious\", \"Fatal\"],:].reset_index() # select the rows with the time interval Morning, Night, Afternoon and Evening\nnew8.columns = [\"Age-group\",\"Severity\",\"count\"] # rename the columns\nnew8\n#new8.sum(axis=0)              # 827861   TRUE",
   "metadata": {
    "cell_id": "45d6d540259e41ca99def4bb64963b43",
    "tags": [],
    "deepnote_to_be_reexecuted": false,
    "source_hash": "e1490c89",
    "execution_start": 1660995674135,
    "execution_millis": 429,
    "deepnote_cell_type": "code",
    "deepnote_cell_height": 672
   },
   "outputs": [
    {
     "output_type": "execute_result",
     "execution_count": 24,
     "data": {
      "application/vnd.deepnote.dataframe.v3+json": {
       "column_count": 3,
       "row_count": 27,
       "columns": [
        {
         "name": "Age-group",
         "dtype": "object",
         "stats": {
          "unique_count": 9,
          "nan_count": 0,
          "categories": [
           {
            "name": "6 to 10",
            "count": 3
           },
           {
            "name": "11 to 15",
            "count": 3
           },
           {
            "name": "7 others",
            "count": 21
           }
          ]
         }
        },
        {
         "name": "Severity",
         "dtype": "object",
         "stats": {
          "unique_count": 3,
          "nan_count": 0,
          "categories": [
           {
            "name": "Slight",
            "count": 9
           },
           {
            "name": "Serious",
            "count": 9
           },
           {
            "name": "Fatal",
            "count": 9
           }
          ]
         }
        },
        {
         "name": "count",
         "dtype": "int64",
         "stats": {
          "unique_count": 27,
          "nan_count": 0,
          "min": "389",
          "max": "140538",
          "histogram": [
           {
            "bin_start": 389,
            "bin_end": 14403.9,
            "count": 14
           },
           {
            "bin_start": 14403.9,
            "bin_end": 28418.8,
            "count": 5
           },
           {
            "bin_start": 28418.8,
            "bin_end": 42433.7,
            "count": 1
           },
           {
            "bin_start": 42433.7,
            "bin_end": 56448.6,
            "count": 1
           },
           {
            "bin_start": 56448.6,
            "bin_end": 70463.5,
            "count": 1
           },
           {
            "bin_start": 70463.5,
            "bin_end": 84478.4,
            "count": 1
           },
           {
            "bin_start": 84478.4,
            "bin_end": 98493.3,
            "count": 1
           },
           {
            "bin_start": 98493.3,
            "bin_end": 112508.2,
            "count": 1
           },
           {
            "bin_start": 112508.2,
            "bin_end": 126523.09999999999,
            "count": 1
           },
           {
            "bin_start": 126523.09999999999,
            "bin_end": 140538,
            "count": 1
           }
          ]
         }
        },
        {
         "name": "_deepnote_index_column",
         "dtype": "int64"
        }
       ],
       "rows": [
        {
         "Age-group": "6 to 10",
         "Severity": "Slight",
         "count": 56110,
         "_deepnote_index_column": 0
        },
        {
         "Age-group": "6 to 10",
         "Severity": "Serious",
         "count": 11522,
         "_deepnote_index_column": 1
        },
        {
         "Age-group": "6 to 10",
         "Severity": "Fatal",
         "count": 389,
         "_deepnote_index_column": 2
        },
        {
         "Age-group": "11 to 15",
         "Severity": "Slight",
         "count": 140538,
         "_deepnote_index_column": 3
        },
        {
         "Age-group": "11 to 15",
         "Severity": "Serious",
         "count": 28242,
         "_deepnote_index_column": 4
        },
        {
         "Age-group": "11 to 15",
         "Severity": "Fatal",
         "count": 1163,
         "_deepnote_index_column": 5
        },
        {
         "Age-group": "16 to 20",
         "Severity": "Slight",
         "count": 103180,
         "_deepnote_index_column": 6
        },
        {
         "Age-group": "16 to 20",
         "Severity": "Serious",
         "count": 18715,
         "_deepnote_index_column": 7
        },
        {
         "Age-group": "16 to 20",
         "Severity": "Fatal",
         "count": 707,
         "_deepnote_index_column": 8
        },
        {
         "Age-group": "21 to 25",
         "Severity": "Slight",
         "count": 74109,
         "_deepnote_index_column": 9
        }
       ]
      },
      "text/plain": "   Age-group Severity   count\n0    6 to 10   Slight   56110\n1    6 to 10  Serious   11522\n2    6 to 10    Fatal     389\n3   11 to 15   Slight  140538\n4   11 to 15  Serious   28242\n5   11 to 15    Fatal    1163\n6   16 to 20   Slight  103180\n7   16 to 20  Serious   18715\n8   16 to 20    Fatal     707\n9   21 to 25   Slight   74109\n10  21 to 25  Serious   12716\n11  21 to 25    Fatal     466\n12  26 to 35   Slight  122799\n13  26 to 35  Serious   21455\n14  26 to 35    Fatal     824\n15  36 to 45   Slight   85059\n16  36 to 45  Serious   17909\n17  36 to 45    Fatal     805\n18  46 to 55   Slight   57596\n19  46 to 55  Serious   15072\n20  46 to 55    Fatal     909\n21  56 to 65   Slight   31216\n22  56 to 65  Serious    9832\n23  56 to 65    Fatal     865\n24  66 to 75   Slight   10961\n25  66 to 75  Serious    4100\n26  66 to 75    Fatal     602",
      "text/html": "<div>\n<style scoped>\n    .dataframe tbody tr th:only-of-type {\n        vertical-align: middle;\n    }\n\n    .dataframe tbody tr th {\n        vertical-align: top;\n    }\n\n    .dataframe thead th {\n        text-align: right;\n    }\n</style>\n<table border=\"1\" class=\"dataframe\">\n  <thead>\n    <tr style=\"text-align: right;\">\n      <th></th>\n      <th>Age-group</th>\n      <th>Severity</th>\n      <th>count</th>\n    </tr>\n  </thead>\n  <tbody>\n    <tr>\n      <th>0</th>\n      <td>6 to 10</td>\n      <td>Slight</td>\n      <td>56110</td>\n    </tr>\n    <tr>\n      <th>1</th>\n      <td>6 to 10</td>\n      <td>Serious</td>\n      <td>11522</td>\n    </tr>\n    <tr>\n      <th>2</th>\n      <td>6 to 10</td>\n      <td>Fatal</td>\n      <td>389</td>\n    </tr>\n    <tr>\n      <th>3</th>\n      <td>11 to 15</td>\n      <td>Slight</td>\n      <td>140538</td>\n    </tr>\n    <tr>\n      <th>4</th>\n      <td>11 to 15</td>\n      <td>Serious</td>\n      <td>28242</td>\n    </tr>\n    <tr>\n      <th>5</th>\n      <td>11 to 15</td>\n      <td>Fatal</td>\n      <td>1163</td>\n    </tr>\n    <tr>\n      <th>6</th>\n      <td>16 to 20</td>\n      <td>Slight</td>\n      <td>103180</td>\n    </tr>\n    <tr>\n      <th>7</th>\n      <td>16 to 20</td>\n      <td>Serious</td>\n      <td>18715</td>\n    </tr>\n    <tr>\n      <th>8</th>\n      <td>16 to 20</td>\n      <td>Fatal</td>\n      <td>707</td>\n    </tr>\n    <tr>\n      <th>9</th>\n      <td>21 to 25</td>\n      <td>Slight</td>\n      <td>74109</td>\n    </tr>\n    <tr>\n      <th>10</th>\n      <td>21 to 25</td>\n      <td>Serious</td>\n      <td>12716</td>\n    </tr>\n    <tr>\n      <th>11</th>\n      <td>21 to 25</td>\n      <td>Fatal</td>\n      <td>466</td>\n    </tr>\n    <tr>\n      <th>12</th>\n      <td>26 to 35</td>\n      <td>Slight</td>\n      <td>122799</td>\n    </tr>\n    <tr>\n      <th>13</th>\n      <td>26 to 35</td>\n      <td>Serious</td>\n      <td>21455</td>\n    </tr>\n    <tr>\n      <th>14</th>\n      <td>26 to 35</td>\n      <td>Fatal</td>\n      <td>824</td>\n    </tr>\n    <tr>\n      <th>15</th>\n      <td>36 to 45</td>\n      <td>Slight</td>\n      <td>85059</td>\n    </tr>\n    <tr>\n      <th>16</th>\n      <td>36 to 45</td>\n      <td>Serious</td>\n      <td>17909</td>\n    </tr>\n    <tr>\n      <th>17</th>\n      <td>36 to 45</td>\n      <td>Fatal</td>\n      <td>805</td>\n    </tr>\n    <tr>\n      <th>18</th>\n      <td>46 to 55</td>\n      <td>Slight</td>\n      <td>57596</td>\n    </tr>\n    <tr>\n      <th>19</th>\n      <td>46 to 55</td>\n      <td>Serious</td>\n      <td>15072</td>\n    </tr>\n    <tr>\n      <th>20</th>\n      <td>46 to 55</td>\n      <td>Fatal</td>\n      <td>909</td>\n    </tr>\n    <tr>\n      <th>21</th>\n      <td>56 to 65</td>\n      <td>Slight</td>\n      <td>31216</td>\n    </tr>\n    <tr>\n      <th>22</th>\n      <td>56 to 65</td>\n      <td>Serious</td>\n      <td>9832</td>\n    </tr>\n    <tr>\n      <th>23</th>\n      <td>56 to 65</td>\n      <td>Fatal</td>\n      <td>865</td>\n    </tr>\n    <tr>\n      <th>24</th>\n      <td>66 to 75</td>\n      <td>Slight</td>\n      <td>10961</td>\n    </tr>\n    <tr>\n      <th>25</th>\n      <td>66 to 75</td>\n      <td>Serious</td>\n      <td>4100</td>\n    </tr>\n    <tr>\n      <th>26</th>\n      <td>66 to 75</td>\n      <td>Fatal</td>\n      <td>602</td>\n    </tr>\n  </tbody>\n</table>\n</div>"
     },
     "metadata": {}
    }
   ],
   "execution_count": null
  },
  {
   "cell_type": "code",
   "source": "# fig E\nfig5 = sns.catplot(x=\"Age-group\", y=\"count\", hue=\"Severity\", data=new8, kind=\"bar\", height=6, aspect=1.5,palette = \"rocket\") # plot the bar graph\nfig5.set_xlabels(\"Age Group\") # set the x axis label\nfig5.set_ylabels(\"no of Accidents resulted in casualties\") # set the y axis label\nfig5.set(title=\"Fig E: Accidents resulted in casualties by Age Group and Severity\") # set the title of the graph\nplt.show() # show the graph",
   "metadata": {
    "cell_id": "16065b0ef11a474cbe29b98620c13d3e",
    "tags": [],
    "deepnote_to_be_reexecuted": false,
    "source_hash": "24af4596",
    "execution_start": 1660995674339,
    "execution_millis": 573,
    "deepnote_cell_type": "code",
    "deepnote_cell_height": 628,
    "deepnote_output_heights": [
     441
    ]
   },
   "outputs": [
    {
     "data": {
      "text/plain": "<Figure size 721x432 with 1 Axes>",
      "image/png": "[encoded data removed]"
     },
     "metadata": {
      "needs_background": "light",
      "image/png": {
       "width": 711,
       "height": 440
      }
     },
     "output_type": "display_data"
    }
   ],
   "execution_count": null
  },
  {
   "cell_type": "markdown",
   "source": "#### \nThe chart indicates the severity of injuries, due to which death happens. Mostly its a slight severity, however, the lackness of protective gear or poor riding habit be the ultimate reason for colossal casualties.\\\nBesides, Serious and Fatal injuries start making its way for teenagers, young adults and adults. This has a lot of factor influencing the casualties, out of them there might be lackness of physical health, place of accident or mobile phone use during riding.\\\nThere might be a possibility of people owning sub-standard quality bikes, or protective gear which results in a casualty while the severity of accidents are \"Slight\".",
   "metadata": {
    "cell_id": "b2a92da98d87471a8884b76533bdc934",
    "tags": [],
    "deepnote_cell_type": "markdown",
    "deepnote_cell_height": 176.34375
   }
  },
  {
   "cell_type": "markdown",
   "source": "<font size=\"+2\" color='#3284ad'><b>__6. Accidents Accociated with Gender:__</b></font> ",
   "metadata": {
    "cell_id": "f2b5367e18384b69a81eb10bb6f9c642",
    "tags": [],
    "deepnote_cell_type": "markdown",
    "deepnote_cell_height": 68.390625
   }
  },
  {
   "cell_type": "code",
   "source": "\nnew9 = df.groupby([\"Age_Grp\", \"Road_type\"]).size() # group by the Accident_Index and the time interval and count the number of rows\nnew9 = new9.loc[[\"6 to 10\",\"11 to 15\", \"16 to 20\", \"21 to 25\", \"26 to 35\", \"36 to 45\", \"46 to 55\", \"56 to 65\", \"66 to 75\"],\n['Single carriageway', 'Dual carriageway','Roundabout','One way sreet' 'Slip road', 'Unknown'],:].reset_index() # select the rows with the time interval Morning, Night, Afternoon and Evening\nnew9.columns = [\"Age-group\",\"Road type\",\"count\"] # rename the columns\nnew9\n#df3.Road_type.unique()\n#new9.sum(axis=0)              # 827861   TRUE",
   "metadata": {
    "cell_id": "806dbec3ec6b472bb105b0ff63f42b3d",
    "tags": [],
    "deepnote_to_be_reexecuted": false,
    "source_hash": "72e6a77",
    "execution_start": 1660995674924,
    "execution_millis": 153,
    "deepnote_cell_type": "code",
    "deepnote_cell_height": 726
   },
   "outputs": [
    {
     "output_type": "execute_result",
     "execution_count": 26,
     "data": {
      "application/vnd.deepnote.dataframe.v3+json": {
       "column_count": 3,
       "row_count": 36,
       "columns": [
        {
         "name": "Age-group",
         "dtype": "object",
         "stats": {
          "unique_count": 9,
          "nan_count": 0,
          "categories": [
           {
            "name": "6 to 10",
            "count": 4
           },
           {
            "name": "11 to 15",
            "count": 4
           },
           {
            "name": "7 others",
            "count": 28
           }
          ]
         }
        },
        {
         "name": "Road type",
         "dtype": "object",
         "stats": {
          "unique_count": 4,
          "nan_count": 0,
          "categories": [
           {
            "name": "Single carriageway",
            "count": 9
           },
           {
            "name": "Dual carriageway",
            "count": 9
           },
           {
            "name": "2 others",
            "count": 18
           }
          ]
         }
        },
        {
         "name": "count",
         "dtype": "int64",
         "stats": {
          "unique_count": 36,
          "nan_count": 0,
          "min": "616",
          "max": "147502",
          "histogram": [
           {
            "bin_start": 616,
            "bin_end": 15304.6,
            "count": 27
           },
           {
            "bin_start": 15304.6,
            "bin_end": 29993.2,
            "count": 1
           },
           {
            "bin_start": 29993.2,
            "bin_end": 44681.8,
            "count": 1
           },
           {
            "bin_start": 44681.8,
            "bin_end": 59370.4,
            "count": 1
           },
           {
            "bin_start": 59370.4,
            "bin_end": 74059,
            "count": 2
           },
           {
            "bin_start": 74059,
            "bin_end": 88747.6,
            "count": 1
           },
           {
            "bin_start": 88747.6,
            "bin_end": 103436.2,
            "count": 1
           },
           {
            "bin_start": 103436.2,
            "bin_end": 118124.8,
            "count": 1
           },
           {
            "bin_start": 118124.8,
            "bin_end": 132813.4,
            "count": 0
           },
           {
            "bin_start": 132813.4,
            "bin_end": 147502,
            "count": 1
           }
          ]
         }
        },
        {
         "name": "_deepnote_index_column",
         "dtype": "int64"
        }
       ],
       "rows": [
        {
         "Age-group": "6 to 10",
         "Road type": "Single carriageway",
         "count": 62659,
         "_deepnote_index_column": 0
        },
        {
         "Age-group": "6 to 10",
         "Road type": "Dual carriageway",
         "count": 1878,
         "_deepnote_index_column": 1
        },
        {
         "Age-group": "6 to 10",
         "Road type": "Roundabout",
         "count": 616,
         "_deepnote_index_column": 2
        },
        {
         "Age-group": "6 to 10",
         "Road type": "Unknown",
         "count": 2787,
         "_deepnote_index_column": 3
        },
        {
         "Age-group": "11 to 15",
         "Road type": "Single carriageway",
         "count": 147502,
         "_deepnote_index_column": 4
        },
        {
         "Age-group": "11 to 15",
         "Road type": "Dual carriageway",
         "count": 8300,
         "_deepnote_index_column": 5
        },
        {
         "Age-group": "11 to 15",
         "Road type": "Roundabout",
         "count": 6753,
         "_deepnote_index_column": 6
        },
        {
         "Age-group": "11 to 15",
         "Road type": "Unknown",
         "count": 6674,
         "_deepnote_index_column": 7
        },
        {
         "Age-group": "16 to 20",
         "Road type": "Single carriageway",
         "count": 96930,
         "_deepnote_index_column": 8
        },
        {
         "Age-group": "16 to 20",
         "Road type": "Dual carriageway",
         "count": 9044,
         "_deepnote_index_column": 9
        }
       ]
      },
      "text/plain": "   Age-group           Road type   count\n0    6 to 10  Single carriageway   62659\n1    6 to 10    Dual carriageway    1878\n2    6 to 10          Roundabout     616\n3    6 to 10             Unknown    2787\n4   11 to 15  Single carriageway  147502\n5   11 to 15    Dual carriageway    8300\n6   11 to 15          Roundabout    6753\n7   11 to 15             Unknown    6674\n8   16 to 20  Single carriageway   96930\n9   16 to 20    Dual carriageway    9044\n10  16 to 20          Roundabout   10791\n11  16 to 20             Unknown    5139\n12  21 to 25  Single carriageway   65352\n13  21 to 25    Dual carriageway    7724\n14  21 to 25          Roundabout    9530\n15  21 to 25             Unknown    3864\n16  26 to 35  Single carriageway  107853\n17  26 to 35    Dual carriageway   12882\n18  26 to 35          Roundabout   17411\n19  26 to 35             Unknown    5292\n20  36 to 45  Single carriageway   77333\n21  36 to 45    Dual carriageway    8691\n22  36 to 45          Roundabout   13639\n23  36 to 45             Unknown    2890\n24  46 to 55  Single carriageway   54917\n25  46 to 55    Dual carriageway    6008\n26  46 to 55          Roundabout    9772\n27  46 to 55             Unknown    2033\n28  56 to 65  Single carriageway   31757\n29  56 to 65    Dual carriageway    3327\n30  56 to 65          Roundabout    5137\n31  56 to 65             Unknown    1340\n32  66 to 75  Single carriageway   12400\n33  66 to 75    Dual carriageway    1183\n34  66 to 75          Roundabout    1417\n35  66 to 75             Unknown     628",
      "text/html": "<div>\n<style scoped>\n    .dataframe tbody tr th:only-of-type {\n        vertical-align: middle;\n    }\n\n    .dataframe tbody tr th {\n        vertical-align: top;\n    }\n\n    .dataframe thead th {\n        text-align: right;\n    }\n</style>\n<table border=\"1\" class=\"dataframe\">\n  <thead>\n    <tr style=\"text-align: right;\">\n      <th></th>\n      <th>Age-group</th>\n      <th>Road type</th>\n      <th>count</th>\n    </tr>\n  </thead>\n  <tbody>\n    <tr>\n      <th>0</th>\n      <td>6 to 10</td>\n      <td>Single carriageway</td>\n      <td>62659</td>\n    </tr>\n    <tr>\n      <th>1</th>\n      <td>6 to 10</td>\n      <td>Dual carriageway</td>\n      <td>1878</td>\n    </tr>\n    <tr>\n      <th>2</th>\n      <td>6 to 10</td>\n      <td>Roundabout</td>\n      <td>616</td>\n    </tr>\n    <tr>\n      <th>3</th>\n      <td>6 to 10</td>\n      <td>Unknown</td>\n      <td>2787</td>\n    </tr>\n    <tr>\n      <th>4</th>\n      <td>11 to 15</td>\n      <td>Single carriageway</td>\n      <td>147502</td>\n    </tr>\n    <tr>\n      <th>5</th>\n      <td>11 to 15</td>\n      <td>Dual carriageway</td>\n      <td>8300</td>\n    </tr>\n    <tr>\n      <th>6</th>\n      <td>11 to 15</td>\n      <td>Roundabout</td>\n      <td>6753</td>\n    </tr>\n    <tr>\n      <th>7</th>\n      <td>11 to 15</td>\n      <td>Unknown</td>\n      <td>6674</td>\n    </tr>\n    <tr>\n      <th>8</th>\n      <td>16 to 20</td>\n      <td>Single carriageway</td>\n      <td>96930</td>\n    </tr>\n    <tr>\n      <th>9</th>\n      <td>16 to 20</td>\n      <td>Dual carriageway</td>\n      <td>9044</td>\n    </tr>\n    <tr>\n      <th>10</th>\n      <td>16 to 20</td>\n      <td>Roundabout</td>\n      <td>10791</td>\n    </tr>\n    <tr>\n      <th>11</th>\n      <td>16 to 20</td>\n      <td>Unknown</td>\n      <td>5139</td>\n    </tr>\n    <tr>\n      <th>12</th>\n      <td>21 to 25</td>\n      <td>Single carriageway</td>\n      <td>65352</td>\n    </tr>\n    <tr>\n      <th>13</th>\n      <td>21 to 25</td>\n      <td>Dual carriageway</td>\n      <td>7724</td>\n    </tr>\n    <tr>\n      <th>14</th>\n      <td>21 to 25</td>\n      <td>Roundabout</td>\n      <td>9530</td>\n    </tr>\n    <tr>\n      <th>15</th>\n      <td>21 to 25</td>\n      <td>Unknown</td>\n      <td>3864</td>\n    </tr>\n    <tr>\n      <th>16</th>\n      <td>26 to 35</td>\n      <td>Single carriageway</td>\n      <td>107853</td>\n    </tr>\n    <tr>\n      <th>17</th>\n      <td>26 to 35</td>\n      <td>Dual carriageway</td>\n      <td>12882</td>\n    </tr>\n    <tr>\n      <th>18</th>\n      <td>26 to 35</td>\n      <td>Roundabout</td>\n      <td>17411</td>\n    </tr>\n    <tr>\n      <th>19</th>\n      <td>26 to 35</td>\n      <td>Unknown</td>\n      <td>5292</td>\n    </tr>\n    <tr>\n      <th>20</th>\n      <td>36 to 45</td>\n      <td>Single carriageway</td>\n      <td>77333</td>\n    </tr>\n    <tr>\n      <th>21</th>\n      <td>36 to 45</td>\n      <td>Dual carriageway</td>\n      <td>8691</td>\n    </tr>\n    <tr>\n      <th>22</th>\n      <td>36 to 45</td>\n      <td>Roundabout</td>\n      <td>13639</td>\n    </tr>\n    <tr>\n      <th>23</th>\n      <td>36 to 45</td>\n      <td>Unknown</td>\n      <td>2890</td>\n    </tr>\n    <tr>\n      <th>24</th>\n      <td>46 to 55</td>\n      <td>Single carriageway</td>\n      <td>54917</td>\n    </tr>\n    <tr>\n      <th>25</th>\n      <td>46 to 55</td>\n      <td>Dual carriageway</td>\n      <td>6008</td>\n    </tr>\n    <tr>\n      <th>26</th>\n      <td>46 to 55</td>\n      <td>Roundabout</td>\n      <td>9772</td>\n    </tr>\n    <tr>\n      <th>27</th>\n      <td>46 to 55</td>\n      <td>Unknown</td>\n      <td>2033</td>\n    </tr>\n    <tr>\n      <th>28</th>\n      <td>56 to 65</td>\n      <td>Single carriageway</td>\n      <td>31757</td>\n    </tr>\n    <tr>\n      <th>29</th>\n      <td>56 to 65</td>\n      <td>Dual carriageway</td>\n      <td>3327</td>\n    </tr>\n    <tr>\n      <th>30</th>\n      <td>56 to 65</td>\n      <td>Roundabout</td>\n      <td>5137</td>\n    </tr>\n    <tr>\n      <th>31</th>\n      <td>56 to 65</td>\n      <td>Unknown</td>\n      <td>1340</td>\n    </tr>\n    <tr>\n      <th>32</th>\n      <td>66 to 75</td>\n      <td>Single carriageway</td>\n      <td>12400</td>\n    </tr>\n    <tr>\n      <th>33</th>\n      <td>66 to 75</td>\n      <td>Dual carriageway</td>\n      <td>1183</td>\n    </tr>\n    <tr>\n      <th>34</th>\n      <td>66 to 75</td>\n      <td>Roundabout</td>\n      <td>1417</td>\n    </tr>\n    <tr>\n      <th>35</th>\n      <td>66 to 75</td>\n      <td>Unknown</td>\n      <td>628</td>\n    </tr>\n  </tbody>\n</table>\n</div>"
     },
     "metadata": {}
    }
   ],
   "execution_count": null
  },
  {
   "cell_type": "code",
   "source": "fig6 = sns.catplot(x=\"Age-group\", y=\"count\", hue=\"Road type\", data=new9, kind=\"bar\", height=6, aspect=1.5,palette = \"rocket\") # plot the bar graph\nfig6.set_xlabels(\"Age Group\") # set the x axis label\nfig6.set_ylabels(\"no of Accidents resulted in casualties\") # set the y axis label\nfig6.set(title=\"Fig F: Accidents resulted in casualties by Age Group and Road type\") # set the title of the graph\nplt.show() # show the graph\n",
   "metadata": {
    "cell_id": "63f89a25f0bd4440aedf12f11022db9f",
    "tags": [],
    "deepnote_to_be_reexecuted": false,
    "source_hash": "7acb7f31",
    "execution_start": 1660995675087,
    "execution_millis": 826,
    "deepnote_cell_type": "code",
    "deepnote_cell_height": 628,
    "deepnote_output_heights": [
     441
    ]
   },
   "outputs": [
    {
     "data": {
      "text/plain": "<Figure size 779.375x432 with 1 Axes>",
      "image/png": "[encoded data removed]"
     },
     "metadata": {
      "needs_background": "light",
      "image/png": {
       "width": 763,
       "height": 440
      }
     },
     "output_type": "display_data"
    }
   ],
   "execution_count": null
  },
  {
   "cell_type": "markdown",
   "source": "The chart shows an enviroment where accident happens.\\\nFor childerns, its only Single Carriageway, however, for teenagers, young adults and adults, their most frequent place is Roundabout after Single carriageway.\\\nOn Single carriageway where traffict flows bothw ways appearently turn out to be a major reason for casualties.\n",
   "metadata": {
    "cell_id": "9303cb04ae054e09a92b498d21c4c6ed",
    "tags": [],
    "deepnote_cell_type": "markdown",
    "deepnote_cell_height": 119.5625
   }
  },
  {
   "cell_type": "markdown",
   "source": "<font size=\"+3\" color='#3284ad'><b>__STEP-7__</b></font>`",
   "metadata": {
    "cell_id": "9dd4c10a3e474e9b8e9772446539683d",
    "tags": [],
    "deepnote_cell_type": "markdown",
    "deepnote_cell_height": 81.1875
   }
  },
  {
   "cell_type": "markdown",
   "source": "### __The Data to Yearly Data:__",
   "metadata": {
    "cell_id": "4d4c48f9440e4c9893cf9337c42d1f8b",
    "tags": [],
    "deepnote_cell_type": "markdown",
    "deepnote_cell_height": 62
   }
  },
  {
   "cell_type": "code",
   "source": "df[\"Date\"] = pd.to_datetime(df[\"Date\"]) # convert to datetime\nnew = df.groupby('Date').size()\nnew = new.reset_index() # select the rows with the time interval Morning, Night, Afternoon and Evening\nnew.columns = [\"Date\",\"count\"] # rename the columns\nnew",
   "metadata": {
    "tags": [],
    "cell_id": "a45d6fdd-368d-4e47-b55c-374980db6df0",
    "deepnote_to_be_reexecuted": false,
    "source_hash": "dce3f5b4",
    "execution_start": 1660995676230,
    "execution_millis": 227,
    "deepnote_cell_type": "code",
    "deepnote_cell_height": 667
   },
   "outputs": [
    {
     "output_type": "execute_result",
     "execution_count": 29,
     "data": {
      "application/vnd.deepnote.dataframe.v3+json": {
       "column_count": 2,
       "row_count": 14609,
       "columns": [
        {
         "name": "Date",
         "dtype": "datetime64[ns]",
         "stats": {
          "unique_count": 14609,
          "nan_count": 0,
          "min": "1979-01-01 00:00:00",
          "max": "2018-12-31 00:00:00",
          "histogram": [
           {
            "bin_start": 283996800000000000,
            "bin_end": 410218560000000000,
            "count": 1461
           },
           {
            "bin_start": 410218560000000000,
            "bin_end": 536440320000000000,
            "count": 1461
           },
           {
            "bin_start": 536440320000000000,
            "bin_end": 662662080000000000,
            "count": 1461
           },
           {
            "bin_start": 662662080000000000,
            "bin_end": 788883840000000000,
            "count": 1461
           },
           {
            "bin_start": 788883840000000000,
            "bin_end": 915105600000000000,
            "count": 1461
           },
           {
            "bin_start": 915105600000000000,
            "bin_end": 1041327360000000000,
            "count": 1461
           },
           {
            "bin_start": 1041327360000000000,
            "bin_end": 1167549120000000000,
            "count": 1461
           },
           {
            "bin_start": 1167549120000000000,
            "bin_end": 1293770880000000000,
            "count": 1460
           },
           {
            "bin_start": 1293770880000000000,
            "bin_end": 1419992640000000000,
            "count": 1461
           },
           {
            "bin_start": 1419992640000000000,
            "bin_end": 1546214400000000000,
            "count": 1461
           }
          ]
         }
        },
        {
         "name": "count",
         "dtype": "int64",
         "stats": {
          "unique_count": 150,
          "nan_count": 0,
          "min": "2",
          "max": "166",
          "histogram": [
           {
            "bin_start": 2,
            "bin_end": 18.4,
            "count": 656
           },
           {
            "bin_start": 18.4,
            "bin_end": 34.8,
            "count": 2082
           },
           {
            "bin_start": 34.8,
            "bin_end": 51.199999999999996,
            "count": 3726
           },
           {
            "bin_start": 51.199999999999996,
            "bin_end": 67.6,
            "count": 3600
           },
           {
            "bin_start": 67.6,
            "bin_end": 84,
            "count": 2460
           },
           {
            "bin_start": 84,
            "bin_end": 100.39999999999999,
            "count": 1419
           },
           {
            "bin_start": 100.39999999999999,
            "bin_end": 116.79999999999998,
            "count": 489
           },
           {
            "bin_start": 116.79999999999998,
            "bin_end": 133.2,
            "count": 144
           },
           {
            "bin_start": 133.2,
            "bin_end": 149.6,
            "count": 25
           },
           {
            "bin_start": 149.6,
            "bin_end": 166,
            "count": 8
           }
          ]
         }
        },
        {
         "name": "_deepnote_index_column",
         "dtype": "int64"
        }
       ],
       "rows": [
        {
         "Date": "1979-01-01T00:00:00Z",
         "count": 8,
         "_deepnote_index_column": 0
        },
        {
         "Date": "1979-01-02T00:00:00Z",
         "count": 51,
         "_deepnote_index_column": 1
        },
        {
         "Date": "1979-01-03T00:00:00Z",
         "count": 62,
         "_deepnote_index_column": 2
        },
        {
         "Date": "1979-01-04T00:00:00Z",
         "count": 31,
         "_deepnote_index_column": 3
        },
        {
         "Date": "1979-01-05T00:00:00Z",
         "count": 62,
         "_deepnote_index_column": 4
        },
        {
         "Date": "1979-01-06T00:00:00Z",
         "count": 100,
         "_deepnote_index_column": 5
        },
        {
         "Date": "1979-01-07T00:00:00Z",
         "count": 66,
         "_deepnote_index_column": 6
        },
        {
         "Date": "1979-01-08T00:00:00Z",
         "count": 97,
         "_deepnote_index_column": 7
        },
        {
         "Date": "1979-01-09T00:00:00Z",
         "count": 71,
         "_deepnote_index_column": 8
        },
        {
         "Date": "1979-01-10T00:00:00Z",
         "count": 70,
         "_deepnote_index_column": 9
        }
       ]
      },
      "text/plain": "            Date  count\n0     1979-01-01      8\n1     1979-01-02     51\n2     1979-01-03     62\n3     1979-01-04     31\n4     1979-01-05     62\n...          ...    ...\n14604 2018-12-27     13\n14605 2018-12-28     29\n14606 2018-12-29     21\n14607 2018-12-30     19\n14608 2018-12-31     19\n\n[14609 rows x 2 columns]",
      "text/html": "<div>\n<style scoped>\n    .dataframe tbody tr th:only-of-type {\n        vertical-align: middle;\n    }\n\n    .dataframe tbody tr th {\n        vertical-align: top;\n    }\n\n    .dataframe thead th {\n        text-align: right;\n    }\n</style>\n<table border=\"1\" class=\"dataframe\">\n  <thead>\n    <tr style=\"text-align: right;\">\n      <th></th>\n      <th>Date</th>\n      <th>count</th>\n    </tr>\n  </thead>\n  <tbody>\n    <tr>\n      <th>0</th>\n      <td>1979-01-01</td>\n      <td>8</td>\n    </tr>\n    <tr>\n      <th>1</th>\n      <td>1979-01-02</td>\n      <td>51</td>\n    </tr>\n    <tr>\n      <th>2</th>\n      <td>1979-01-03</td>\n      <td>62</td>\n    </tr>\n    <tr>\n      <th>3</th>\n      <td>1979-01-04</td>\n      <td>31</td>\n    </tr>\n    <tr>\n      <th>4</th>\n      <td>1979-01-05</td>\n      <td>62</td>\n    </tr>\n    <tr>\n      <th>...</th>\n      <td>...</td>\n      <td>...</td>\n    </tr>\n    <tr>\n      <th>14604</th>\n      <td>2018-12-27</td>\n      <td>13</td>\n    </tr>\n    <tr>\n      <th>14605</th>\n      <td>2018-12-28</td>\n      <td>29</td>\n    </tr>\n    <tr>\n      <th>14606</th>\n      <td>2018-12-29</td>\n      <td>21</td>\n    </tr>\n    <tr>\n      <th>14607</th>\n      <td>2018-12-30</td>\n      <td>19</td>\n    </tr>\n    <tr>\n      <th>14608</th>\n      <td>2018-12-31</td>\n      <td>19</td>\n    </tr>\n  </tbody>\n</table>\n<p>14609 rows × 2 columns</p>\n</div>"
     },
     "metadata": {}
    }
   ],
   "execution_count": null
  },
  {
   "cell_type": "code",
   "source": "\n\nx = new[\"Date\"] # x axis values\ny = new[\"count\"] # y axis values\nplt.plot(x,y, color='black') # plot the line chart \nplt.xlabel('Date')\nplt.ylabel('Number of Accidents')\nplt.title('Accidents by Date')",
   "metadata": {
    "cell_id": "af061adc6b534607a725beeea58bfb12",
    "tags": [],
    "deepnote_to_be_reexecuted": false,
    "source_hash": "f9394d32",
    "execution_start": 1660995676464,
    "execution_millis": 1022,
    "deepnote_cell_type": "code",
    "deepnote_cell_height": 548.1875,
    "deepnote_output_heights": [
     20.1875,
     279
    ]
   },
   "outputs": [
    {
     "output_type": "execute_result",
     "execution_count": 30,
     "data": {
      "text/plain": "Text(0.5, 1.0, 'Accidents by Date')"
     },
     "metadata": {}
    },
    {
     "data": {
      "text/plain": "<Figure size 432x288 with 1 Axes>",
      "image/png": "[encoded data removed]"
     },
     "metadata": {
      "needs_background": "light",
      "image/png": {
       "width": 394,
       "height": 278
      }
     },
     "output_type": "display_data"
    }
   ],
   "execution_count": null
  },
  {
   "cell_type": "markdown",
   "source": "The graph demonstrated that the year from 1980 till 2000 shows fluctuation in a rising manner as compared to 2000 onwards which is decreasing.",
   "metadata": {
    "is_collapsed": false,
    "cell_id": "c7d3eb4f26c4451da05fbb72b8c4eb9b",
    "tags": [],
    "formattedRanges": [],
    "deepnote_cell_type": "text-cell-p"
   }
  },
  {
   "cell_type": "markdown",
   "source": "<font size=\"+3\" color='#3284ad'><b>__STEP-8__</b></font>`",
   "metadata": {
    "cell_id": "03db320f018c43a2a8a0ec99b2755079",
    "tags": [],
    "deepnote_cell_type": "markdown",
    "deepnote_cell_height": 81.1875
   }
  },
  {
   "cell_type": "markdown",
   "source": "<font size=\"+3\" color='#3284ad'><b>__CORRELATION__</b></font>`",
   "metadata": {
    "cell_id": "839cf0a06df14c75843200b8b782ab8e",
    "tags": [],
    "deepnote_cell_type": "markdown",
    "deepnote_cell_height": 81.1875
   }
  },
  {
   "cell_type": "markdown",
   "source": "### _Let's find correlation between the variables using pearson correlation_",
   "metadata": {
    "cell_id": "08110b629b0e42879043fb087470a19d",
    "tags": [],
    "deepnote_cell_type": "markdown",
    "deepnote_cell_height": 62
   }
  },
  {
   "cell_type": "code",
   "source": "corr=df.corr(method='spearman')\ncorr",
   "metadata": {
    "cell_id": "af8dd21706dc452bbcef4348cac1f96d",
    "tags": [],
    "deepnote_to_be_reexecuted": false,
    "source_hash": "521908bf",
    "execution_start": 1660996439476,
    "execution_millis": 186,
    "deepnote_cell_type": "code",
    "deepnote_cell_height": 285
   },
   "outputs": [
    {
     "output_type": "execute_result",
     "execution_count": 33,
     "data": {
      "application/vnd.deepnote.dataframe.v3+json": {
       "column_count": 2,
       "row_count": 2,
       "columns": [
        {
         "name": "Number_of_Vehicles",
         "dtype": "float64",
         "stats": {
          "unique_count": 2,
          "nan_count": 0,
          "min": "0.06567582678490502",
          "max": "1.0",
          "histogram": [
           {
            "bin_start": 0.06567582678490502,
            "bin_end": 0.15910824410641453,
            "count": 1
           },
           {
            "bin_start": 0.15910824410641453,
            "bin_end": 0.25254066142792403,
            "count": 0
           },
           {
            "bin_start": 0.25254066142792403,
            "bin_end": 0.3459730787494335,
            "count": 0
           },
           {
            "bin_start": 0.3459730787494335,
            "bin_end": 0.43940549607094304,
            "count": 0
           },
           {
            "bin_start": 0.43940549607094304,
            "bin_end": 0.5328379133924526,
            "count": 0
           },
           {
            "bin_start": 0.5328379133924526,
            "bin_end": 0.626270330713962,
            "count": 0
           },
           {
            "bin_start": 0.626270330713962,
            "bin_end": 0.7197027480354715,
            "count": 0
           },
           {
            "bin_start": 0.7197027480354715,
            "bin_end": 0.813135165356981,
            "count": 0
           },
           {
            "bin_start": 0.813135165356981,
            "bin_end": 0.9065675826784906,
            "count": 0
           },
           {
            "bin_start": 0.9065675826784906,
            "bin_end": 1,
            "count": 1
           }
          ]
         }
        },
        {
         "name": "Number_of_Casualties",
         "dtype": "float64",
         "stats": {
          "unique_count": 2,
          "nan_count": 0,
          "min": "0.06567582678490502",
          "max": "1.0",
          "histogram": [
           {
            "bin_start": 0.06567582678490502,
            "bin_end": 0.15910824410641453,
            "count": 1
           },
           {
            "bin_start": 0.15910824410641453,
            "bin_end": 0.25254066142792403,
            "count": 0
           },
           {
            "bin_start": 0.25254066142792403,
            "bin_end": 0.3459730787494335,
            "count": 0
           },
           {
            "bin_start": 0.3459730787494335,
            "bin_end": 0.43940549607094304,
            "count": 0
           },
           {
            "bin_start": 0.43940549607094304,
            "bin_end": 0.5328379133924526,
            "count": 0
           },
           {
            "bin_start": 0.5328379133924526,
            "bin_end": 0.626270330713962,
            "count": 0
           },
           {
            "bin_start": 0.626270330713962,
            "bin_end": 0.7197027480354715,
            "count": 0
           },
           {
            "bin_start": 0.7197027480354715,
            "bin_end": 0.813135165356981,
            "count": 0
           },
           {
            "bin_start": 0.813135165356981,
            "bin_end": 0.9065675826784906,
            "count": 0
           },
           {
            "bin_start": 0.9065675826784906,
            "bin_end": 1,
            "count": 1
           }
          ]
         }
        },
        {
         "name": "_deepnote_index_column",
         "dtype": "object"
        }
       ],
       "rows": [
        {
         "Number_of_Vehicles": 1,
         "Number_of_Casualties": 0.06567582678490502,
         "_deepnote_index_column": "Number_of_Vehicles"
        },
        {
         "Number_of_Vehicles": 0.06567582678490502,
         "Number_of_Casualties": 1,
         "_deepnote_index_column": "Number_of_Casualties"
        }
       ]
      },
      "text/plain": "                      Number_of_Vehicles  Number_of_Casualties\nNumber_of_Vehicles              1.000000              0.065676\nNumber_of_Casualties            0.065676              1.000000",
      "text/html": "<div>\n<style scoped>\n    .dataframe tbody tr th:only-of-type {\n        vertical-align: middle;\n    }\n\n    .dataframe tbody tr th {\n        vertical-align: top;\n    }\n\n    .dataframe thead th {\n        text-align: right;\n    }\n</style>\n<table border=\"1\" class=\"dataframe\">\n  <thead>\n    <tr style=\"text-align: right;\">\n      <th></th>\n      <th>Number_of_Vehicles</th>\n      <th>Number_of_Casualties</th>\n    </tr>\n  </thead>\n  <tbody>\n    <tr>\n      <th>Number_of_Vehicles</th>\n      <td>1.000000</td>\n      <td>0.065676</td>\n    </tr>\n    <tr>\n      <th>Number_of_Casualties</th>\n      <td>0.065676</td>\n      <td>1.000000</td>\n    </tr>\n  </tbody>\n</table>\n</div>"
     },
     "metadata": {}
    }
   ],
   "execution_count": null
  },
  {
   "cell_type": "code",
   "source": "sns.heatmap(corr,annot=True,cmap='coolwarm')",
   "metadata": {
    "cell_id": "d39393c5b3c04f628eac5cd0b8d0d20f",
    "tags": [],
    "deepnote_to_be_reexecuted": false,
    "source_hash": "efcbc78b",
    "execution_start": 1660995676871,
    "execution_millis": 625,
    "deepnote_cell_type": "code",
    "deepnote_cell_height": 397.1875,
    "deepnote_output_heights": [
     20.1875,
     254
    ]
   },
   "outputs": [
    {
     "output_type": "execute_result",
     "execution_count": 32,
     "data": {
      "text/plain": "<AxesSubplot:>"
     },
     "metadata": {}
    },
    {
     "data": {
      "text/plain": "<Figure size 432x288 with 2 Axes>",
      "image/png": "[encoded data removed]"
     },
     "metadata": {
      "needs_background": "light",
      "image/png": {
       "width": 350,
       "height": 253
      }
     },
     "output_type": "display_data"
    }
   ],
   "execution_count": null
  },
  {
   "cell_type": "code",
   "source": "#import scipy.stats as stats\n#f_obs = df[\"Number_of_Vehicles\"]\n#f_exp = df[\"Number_of_Casualties\"]\n\n#stats.chisquare(f_obs, f_exp, axis = 0)\n\n#import chi2 from scipy to get critical value\n#from scipy.stats import chi2\n#@alpha = 0.05\n#df = 2\n#cr=chi2.ppf(q=1-alpha,df=df)\n\nfrom scipy.stats import chi2_contingency\ncontigency= pd.crosstab(df['Number_of_Vehicles'], df['Number_of_Casualties']) \ncontigency\n\n#c, p, dof, expected = chi2_contingency(contigency) \n# Print the p-value\n#print(p)\n\n\n",
   "metadata": {
    "cell_id": "e31b13110cbc454099a76bdabfccdec4",
    "tags": [],
    "deepnote_to_be_reexecuted": false,
    "source_hash": "f52be83f",
    "execution_start": 1661002076476,
    "execution_millis": 639,
    "deepnote_cell_type": "code",
    "deepnote_cell_height": 988
   },
   "outputs": [
    {
     "output_type": "execute_result",
     "execution_count": 51,
     "data": {
      "application/vnd.deepnote.dataframe.v3+json": {
       "column_count": 14,
       "row_count": 12,
       "columns": [
        {
         "name": 1,
         "dtype": "int64",
         "stats": {
          "unique_count": 10,
          "nan_count": 0,
          "min": "0",
          "max": "735112",
          "histogram": [
           {
            "bin_start": 0,
            "bin_end": 73511.2,
            "count": 11
           },
           {
            "bin_start": 73511.2,
            "bin_end": 147022.4,
            "count": 0
           },
           {
            "bin_start": 147022.4,
            "bin_end": 220533.59999999998,
            "count": 0
           },
           {
            "bin_start": 220533.59999999998,
            "bin_end": 294044.8,
            "count": 0
           },
           {
            "bin_start": 294044.8,
            "bin_end": 367556,
            "count": 0
           },
           {
            "bin_start": 367556,
            "bin_end": 441067.19999999995,
            "count": 0
           },
           {
            "bin_start": 441067.19999999995,
            "bin_end": 514578.39999999997,
            "count": 0
           },
           {
            "bin_start": 514578.39999999997,
            "bin_end": 588089.6,
            "count": 0
           },
           {
            "bin_start": 588089.6,
            "bin_end": 661600.7999999999,
            "count": 0
           },
           {
            "bin_start": 661600.7999999999,
            "bin_end": 735112,
            "count": 1
           }
          ]
         }
        },
        {
         "name": 2,
         "dtype": "int64",
         "stats": {
          "unique_count": 9,
          "nan_count": 0,
          "min": "0",
          "max": "22305",
          "histogram": [
           {
            "bin_start": 0,
            "bin_end": 2230.5,
            "count": 9
           },
           {
            "bin_start": 2230.5,
            "bin_end": 4461,
            "count": 1
           },
           {
            "bin_start": 4461,
            "bin_end": 6691.5,
            "count": 1
           },
           {
            "bin_start": 6691.5,
            "bin_end": 8922,
            "count": 0
           },
           {
            "bin_start": 8922,
            "bin_end": 11152.5,
            "count": 0
           },
           {
            "bin_start": 11152.5,
            "bin_end": 13383,
            "count": 0
           },
           {
            "bin_start": 13383,
            "bin_end": 15613.5,
            "count": 0
           },
           {
            "bin_start": 15613.5,
            "bin_end": 17844,
            "count": 0
           },
           {
            "bin_start": 17844,
            "bin_end": 20074.5,
            "count": 0
           },
           {
            "bin_start": 20074.5,
            "bin_end": 22305,
            "count": 1
           }
          ]
         }
        },
        {
         "name": 3,
         "dtype": "int64",
         "stats": {
          "unique_count": 9,
          "nan_count": 0,
          "min": "0",
          "max": "1203",
          "histogram": [
           {
            "bin_start": 0,
            "bin_end": 120.3,
            "count": 9
           },
           {
            "bin_start": 120.3,
            "bin_end": 240.6,
            "count": 1
           },
           {
            "bin_start": 240.6,
            "bin_end": 360.9,
            "count": 0
           },
           {
            "bin_start": 360.9,
            "bin_end": 481.2,
            "count": 0
           },
           {
            "bin_start": 481.2,
            "bin_end": 601.5,
            "count": 0
           },
           {
            "bin_start": 601.5,
            "bin_end": 721.8,
            "count": 1
           },
           {
            "bin_start": 721.8,
            "bin_end": 842.1,
            "count": 0
           },
           {
            "bin_start": 842.1,
            "bin_end": 962.4,
            "count": 0
           },
           {
            "bin_start": 962.4,
            "bin_end": 1082.7,
            "count": 0
           },
           {
            "bin_start": 1082.7,
            "bin_end": 1203,
            "count": 1
           }
          ]
         }
        },
        {
         "name": 4,
         "dtype": "int64",
         "stats": {
          "unique_count": 9,
          "nan_count": 0,
          "min": "0",
          "max": "113",
          "histogram": [
           {
            "bin_start": 0,
            "bin_end": 11.3,
            "count": 8
           },
           {
            "bin_start": 11.3,
            "bin_end": 22.6,
            "count": 0
           },
           {
            "bin_start": 22.6,
            "bin_end": 33.900000000000006,
            "count": 0
           },
           {
            "bin_start": 33.900000000000006,
            "bin_end": 45.2,
            "count": 0
           },
           {
            "bin_start": 45.2,
            "bin_end": 56.5,
            "count": 1
           },
           {
            "bin_start": 56.5,
            "bin_end": 67.80000000000001,
            "count": 0
           },
           {
            "bin_start": 67.80000000000001,
            "bin_end": 79.10000000000001,
            "count": 1
           },
           {
            "bin_start": 79.10000000000001,
            "bin_end": 90.4,
            "count": 0
           },
           {
            "bin_start": 90.4,
            "bin_end": 101.7,
            "count": 0
           },
           {
            "bin_start": 101.7,
            "bin_end": 113,
            "count": 2
           }
          ]
         }
        },
        {
         "name": 5,
         "dtype": "int64",
         "stats": {
          "unique_count": 8,
          "nan_count": 0,
          "min": "0",
          "max": "36",
          "histogram": [
           {
            "bin_start": 0,
            "bin_end": 3.6,
            "count": 6
           },
           {
            "bin_start": 3.6,
            "bin_end": 7.2,
            "count": 1
           },
           {
            "bin_start": 7.2,
            "bin_end": 10.8,
            "count": 1
           },
           {
            "bin_start": 10.8,
            "bin_end": 14.4,
            "count": 0
           },
           {
            "bin_start": 14.4,
            "bin_end": 18,
            "count": 0
           },
           {
            "bin_start": 18,
            "bin_end": 21.6,
            "count": 2
           },
           {
            "bin_start": 21.6,
            "bin_end": 25.2,
            "count": 0
           },
           {
            "bin_start": 25.2,
            "bin_end": 28.8,
            "count": 0
           },
           {
            "bin_start": 28.8,
            "bin_end": 32.4,
            "count": 0
           },
           {
            "bin_start": 32.4,
            "bin_end": 36,
            "count": 2
           }
          ]
         }
        },
        {
         "name": 6,
         "dtype": "int64",
         "stats": {
          "unique_count": 7,
          "nan_count": 0,
          "min": "0",
          "max": "18",
          "histogram": [
           {
            "bin_start": 0,
            "bin_end": 1.8,
            "count": 5
           },
           {
            "bin_start": 1.8,
            "bin_end": 3.6,
            "count": 1
           },
           {
            "bin_start": 3.6,
            "bin_end": 5.4,
            "count": 1
           },
           {
            "bin_start": 5.4,
            "bin_end": 7.2,
            "count": 2
           },
           {
            "bin_start": 7.2,
            "bin_end": 9,
            "count": 1
           },
           {
            "bin_start": 9,
            "bin_end": 10.8,
            "count": 1
           },
           {
            "bin_start": 10.8,
            "bin_end": 12.6,
            "count": 0
           },
           {
            "bin_start": 12.6,
            "bin_end": 14.4,
            "count": 0
           },
           {
            "bin_start": 14.4,
            "bin_end": 16.2,
            "count": 0
           },
           {
            "bin_start": 16.2,
            "bin_end": 18,
            "count": 1
           }
          ]
         }
        },
        {
         "name": 7,
         "dtype": "int64",
         "stats": {
          "unique_count": 6,
          "nan_count": 0,
          "min": "0",
          "max": "7",
          "histogram": [
           {
            "bin_start": 0,
            "bin_end": 0.7,
            "count": 5
           },
           {
            "bin_start": 0.7,
            "bin_end": 1.4,
            "count": 1
           },
           {
            "bin_start": 1.4,
            "bin_end": 2.0999999999999996,
            "count": 2
           },
           {
            "bin_start": 2.0999999999999996,
            "bin_end": 2.8,
            "count": 0
           },
           {
            "bin_start": 2.8,
            "bin_end": 3.5,
            "count": 2
           },
           {
            "bin_start": 3.5,
            "bin_end": 4.199999999999999,
            "count": 0
           },
           {
            "bin_start": 4.199999999999999,
            "bin_end": 4.8999999999999995,
            "count": 0
           },
           {
            "bin_start": 4.8999999999999995,
            "bin_end": 5.6,
            "count": 1
           },
           {
            "bin_start": 5.6,
            "bin_end": 6.3,
            "count": 0
           },
           {
            "bin_start": 6.3,
            "bin_end": 7,
            "count": 1
           }
          ]
         }
        },
        {
         "name": 8,
         "dtype": "int64",
         "stats": {
          "unique_count": 4,
          "nan_count": 0,
          "min": "0",
          "max": "3",
          "histogram": [
           {
            "bin_start": 0,
            "bin_end": 0.3,
            "count": 6
           },
           {
            "bin_start": 0.3,
            "bin_end": 0.6,
            "count": 0
           },
           {
            "bin_start": 0.6,
            "bin_end": 0.8999999999999999,
            "count": 0
           },
           {
            "bin_start": 0.8999999999999999,
            "bin_end": 1.2,
            "count": 4
           },
           {
            "bin_start": 1.2,
            "bin_end": 1.5,
            "count": 0
           },
           {
            "bin_start": 1.5,
            "bin_end": 1.7999999999999998,
            "count": 0
           },
           {
            "bin_start": 1.7999999999999998,
            "bin_end": 2.1,
            "count": 1
           },
           {
            "bin_start": 2.1,
            "bin_end": 2.4,
            "count": 0
           },
           {
            "bin_start": 2.4,
            "bin_end": 2.6999999999999997,
            "count": 0
           },
           {
            "bin_start": 2.6999999999999997,
            "bin_end": 3,
            "count": 1
           }
          ]
         }
        },
        {
         "name": 9,
         "dtype": "int64",
         "stats": {
          "unique_count": 3,
          "nan_count": 0,
          "min": "0",
          "max": "3",
          "histogram": [
           {
            "bin_start": 0,
            "bin_end": 0.3,
            "count": 9
           },
           {
            "bin_start": 0.3,
            "bin_end": 0.6,
            "count": 0
           },
           {
            "bin_start": 0.6,
            "bin_end": 0.8999999999999999,
            "count": 0
           },
           {
            "bin_start": 0.8999999999999999,
            "bin_end": 1.2,
            "count": 2
           },
           {
            "bin_start": 1.2,
            "bin_end": 1.5,
            "count": 0
           },
           {
            "bin_start": 1.5,
            "bin_end": 1.7999999999999998,
            "count": 0
           },
           {
            "bin_start": 1.7999999999999998,
            "bin_end": 2.1,
            "count": 0
           },
           {
            "bin_start": 2.1,
            "bin_end": 2.4,
            "count": 0
           },
           {
            "bin_start": 2.4,
            "bin_end": 2.6999999999999997,
            "count": 0
           },
           {
            "bin_start": 2.6999999999999997,
            "bin_end": 3,
            "count": 1
           }
          ]
         }
        },
        {
         "name": 10,
         "dtype": "int64",
         "stats": {
          "unique_count": 3,
          "nan_count": 0,
          "min": "0",
          "max": "2",
          "histogram": [
           {
            "bin_start": 0,
            "bin_end": 0.2,
            "count": 10
           },
           {
            "bin_start": 0.2,
            "bin_end": 0.4,
            "count": 0
           },
           {
            "bin_start": 0.4,
            "bin_end": 0.6000000000000001,
            "count": 0
           },
           {
            "bin_start": 0.6000000000000001,
            "bin_end": 0.8,
            "count": 0
           },
           {
            "bin_start": 0.8,
            "bin_end": 1,
            "count": 0
           },
           {
            "bin_start": 1,
            "bin_end": 1.2000000000000002,
            "count": 1
           },
           {
            "bin_start": 1.2000000000000002,
            "bin_end": 1.4000000000000001,
            "count": 0
           },
           {
            "bin_start": 1.4000000000000001,
            "bin_end": 1.6,
            "count": 0
           },
           {
            "bin_start": 1.6,
            "bin_end": 1.8,
            "count": 0
           },
           {
            "bin_start": 1.8,
            "bin_end": 2,
            "count": 1
           }
          ]
         }
        },
        {
         "name": 12,
         "dtype": "int64",
         "stats": {
          "unique_count": 2,
          "nan_count": 0,
          "min": "0",
          "max": "1",
          "histogram": [
           {
            "bin_start": 0,
            "bin_end": 0.1,
            "count": 11
           },
           {
            "bin_start": 0.1,
            "bin_end": 0.2,
            "count": 0
           },
           {
            "bin_start": 0.2,
            "bin_end": 0.30000000000000004,
            "count": 0
           },
           {
            "bin_start": 0.30000000000000004,
            "bin_end": 0.4,
            "count": 0
           },
           {
            "bin_start": 0.4,
            "bin_end": 0.5,
            "count": 0
           },
           {
            "bin_start": 0.5,
            "bin_end": 0.6000000000000001,
            "count": 0
           },
           {
            "bin_start": 0.6000000000000001,
            "bin_end": 0.7000000000000001,
            "count": 0
           },
           {
            "bin_start": 0.7000000000000001,
            "bin_end": 0.8,
            "count": 0
           },
           {
            "bin_start": 0.8,
            "bin_end": 0.9,
            "count": 0
           },
           {
            "bin_start": 0.9,
            "bin_end": 1,
            "count": 1
           }
          ]
         }
        },
        {
         "name": 13,
         "dtype": "int64",
         "stats": {
          "unique_count": 3,
          "nan_count": 0,
          "min": "0",
          "max": "2",
          "histogram": [
           {
            "bin_start": 0,
            "bin_end": 0.2,
            "count": 8
           },
           {
            "bin_start": 0.2,
            "bin_end": 0.4,
            "count": 0
           },
           {
            "bin_start": 0.4,
            "bin_end": 0.6000000000000001,
            "count": 0
           },
           {
            "bin_start": 0.6000000000000001,
            "bin_end": 0.8,
            "count": 0
           },
           {
            "bin_start": 0.8,
            "bin_end": 1,
            "count": 0
           },
           {
            "bin_start": 1,
            "bin_end": 1.2000000000000002,
            "count": 3
           },
           {
            "bin_start": 1.2000000000000002,
            "bin_end": 1.4000000000000001,
            "count": 0
           },
           {
            "bin_start": 1.4000000000000001,
            "bin_end": 1.6,
            "count": 0
           },
           {
            "bin_start": 1.6,
            "bin_end": 1.8,
            "count": 0
           },
           {
            "bin_start": 1.8,
            "bin_end": 2,
            "count": 1
           }
          ]
         }
        },
        {
         "name": 34,
         "dtype": "int64",
         "stats": {
          "unique_count": 2,
          "nan_count": 0,
          "min": "0",
          "max": "1",
          "histogram": [
           {
            "bin_start": 0,
            "bin_end": 0.1,
            "count": 11
           },
           {
            "bin_start": 0.1,
            "bin_end": 0.2,
            "count": 0
           },
           {
            "bin_start": 0.2,
            "bin_end": 0.30000000000000004,
            "count": 0
           },
           {
            "bin_start": 0.30000000000000004,
            "bin_end": 0.4,
            "count": 0
           },
           {
            "bin_start": 0.4,
            "bin_end": 0.5,
            "count": 0
           },
           {
            "bin_start": 0.5,
            "bin_end": 0.6000000000000001,
            "count": 0
           },
           {
            "bin_start": 0.6000000000000001,
            "bin_end": 0.7000000000000001,
            "count": 0
           },
           {
            "bin_start": 0.7000000000000001,
            "bin_end": 0.8,
            "count": 0
           },
           {
            "bin_start": 0.8,
            "bin_end": 0.9,
            "count": 0
           },
           {
            "bin_start": 0.9,
            "bin_end": 1,
            "count": 1
           }
          ]
         }
        },
        {
         "name": 60,
         "dtype": "int64",
         "stats": {
          "unique_count": 2,
          "nan_count": 0,
          "min": "0",
          "max": "1",
          "histogram": [
           {
            "bin_start": 0,
            "bin_end": 0.1,
            "count": 11
           },
           {
            "bin_start": 0.1,
            "bin_end": 0.2,
            "count": 0
           },
           {
            "bin_start": 0.2,
            "bin_end": 0.30000000000000004,
            "count": 0
           },
           {
            "bin_start": 0.30000000000000004,
            "bin_end": 0.4,
            "count": 0
           },
           {
            "bin_start": 0.4,
            "bin_end": 0.5,
            "count": 0
           },
           {
            "bin_start": 0.5,
            "bin_end": 0.6000000000000001,
            "count": 0
           },
           {
            "bin_start": 0.6000000000000001,
            "bin_end": 0.7000000000000001,
            "count": 0
           },
           {
            "bin_start": 0.7000000000000001,
            "bin_end": 0.8,
            "count": 0
           },
           {
            "bin_start": 0.8,
            "bin_end": 0.9,
            "count": 0
           },
           {
            "bin_start": 0.9,
            "bin_end": 1,
            "count": 1
           }
          ]
         }
        },
        {
         "name": "_deepnote_index_column",
         "dtype": "int64"
        }
       ],
       "rows": [
        {
         "1": 37317,
         "2": 4376,
         "3": 85,
         "4": 7,
         "5": 1,
         "6": 0,
         "7": 0,
         "8": 0,
         "9": 0,
         "10": 0,
         "12": 0,
         "13": 0,
         "34": 0,
         "60": 0,
         "_deepnote_index_column": 1
        },
        {
         "1": 735112,
         "2": 22305,
         "3": 1203,
         "4": 113,
         "5": 36,
         "6": 8,
         "7": 3,
         "8": 1,
         "9": 1,
         "10": 0,
         "12": 0,
         "13": 2,
         "34": 0,
         "60": 0,
         "_deepnote_index_column": 2
        },
        {
         "1": 19063,
         "2": 5085,
         "3": 636,
         "4": 107,
         "5": 33,
         "6": 18,
         "7": 5,
         "8": 2,
         "9": 3,
         "10": 0,
         "12": 0,
         "13": 1,
         "34": 1,
         "60": 1,
         "_deepnote_index_column": 3
        },
        {
         "1": 1037,
         "2": 479,
         "3": 236,
         "4": 73,
         "5": 19,
         "6": 6,
         "7": 7,
         "8": 1,
         "9": 1,
         "10": 1,
         "12": 1,
         "13": 0,
         "34": 0,
         "60": 0,
         "_deepnote_index_column": 4
        },
        {
         "1": 121,
         "2": 93,
         "3": 52,
         "4": 47,
         "5": 19,
         "6": 6,
         "7": 2,
         "8": 3,
         "9": 0,
         "10": 0,
         "12": 0,
         "13": 0,
         "34": 0,
         "60": 0,
         "_deepnote_index_column": 5
        },
        {
         "1": 22,
         "2": 20,
         "3": 8,
         "4": 3,
         "5": 9,
         "6": 10,
         "7": 0,
         "8": 0,
         "9": 0,
         "10": 0,
         "12": 0,
         "13": 0,
         "34": 0,
         "60": 0,
         "_deepnote_index_column": 6
        },
        {
         "1": 9,
         "2": 5,
         "3": 5,
         "4": 3,
         "5": 4,
         "6": 2,
         "7": 2,
         "8": 0,
         "9": 0,
         "10": 0,
         "12": 0,
         "13": 0,
         "34": 0,
         "60": 0,
         "_deepnote_index_column": 7
        },
        {
         "1": 3,
         "2": 4,
         "3": 2,
         "4": 1,
         "5": 2,
         "6": 4,
         "7": 3,
         "8": 1,
         "9": 0,
         "10": 0,
         "12": 0,
         "13": 1,
         "34": 0,
         "60": 0,
         "_deepnote_index_column": 8
        },
        {
         "1": 1,
         "2": 0,
         "3": 0,
         "4": 2,
         "5": 0,
         "6": 0,
         "7": 1,
         "8": 0,
         "9": 0,
         "10": 0,
         "12": 0,
         "13": 0,
         "34": 0,
         "60": 0,
         "_deepnote_index_column": 9
        },
        {
         "1": 0,
         "2": 0,
         "3": 0,
         "4": 1,
         "5": 0,
         "6": 0,
         "7": 0,
         "8": 0,
         "9": 0,
         "10": 2,
         "12": 0,
         "13": 0,
         "34": 0,
         "60": 0,
         "_deepnote_index_column": 10
        }
       ]
      },
      "text/plain": "Number_of_Casualties      1      2     3    4   5   6   7   8   9   10  12  \\\nNumber_of_Vehicles                                                           \n1                      37317   4376    85    7   1   0   0   0   0   0   0   \n2                     735112  22305  1203  113  36   8   3   1   1   0   0   \n3                      19063   5085   636  107  33  18   5   2   3   0   0   \n4                       1037    479   236   73  19   6   7   1   1   1   1   \n5                        121     93    52   47  19   6   2   3   0   0   0   \n6                         22     20     8    3   9  10   0   0   0   0   0   \n7                          9      5     5    3   4   2   2   0   0   0   0   \n8                          3      4     2    1   2   4   3   1   0   0   0   \n9                          1      0     0    2   0   0   1   0   0   0   0   \n10                         0      0     0    1   0   0   0   0   0   2   0   \n12                         0      0     0    0   0   0   0   1   0   0   0   \n13                         0      0     0    0   0   0   0   0   0   0   0   \n\nNumber_of_Casualties  13  34  60  \nNumber_of_Vehicles                \n1                      0   0   0  \n2                      2   0   0  \n3                      1   1   1  \n4                      0   0   0  \n5                      0   0   0  \n6                      0   0   0  \n7                      0   0   0  \n8                      1   0   0  \n9                      0   0   0  \n10                     0   0   0  \n12                     0   0   0  \n13                     1   0   0  ",
      "text/html": "<div>\n<style scoped>\n    .dataframe tbody tr th:only-of-type {\n        vertical-align: middle;\n    }\n\n    .dataframe tbody tr th {\n        vertical-align: top;\n    }\n\n    .dataframe thead th {\n        text-align: right;\n    }\n</style>\n<table border=\"1\" class=\"dataframe\">\n  <thead>\n    <tr style=\"text-align: right;\">\n      <th>Number_of_Casualties</th>\n      <th>1</th>\n      <th>2</th>\n      <th>3</th>\n      <th>4</th>\n      <th>5</th>\n      <th>6</th>\n      <th>7</th>\n      <th>8</th>\n      <th>9</th>\n      <th>10</th>\n      <th>12</th>\n      <th>13</th>\n      <th>34</th>\n      <th>60</th>\n    </tr>\n    <tr>\n      <th>Number_of_Vehicles</th>\n      <th></th>\n      <th></th>\n      <th></th>\n      <th></th>\n      <th></th>\n      <th></th>\n      <th></th>\n      <th></th>\n      <th></th>\n      <th></th>\n      <th></th>\n      <th></th>\n      <th></th>\n      <th></th>\n    </tr>\n  </thead>\n  <tbody>\n    <tr>\n      <th>1</th>\n      <td>37317</td>\n      <td>4376</td>\n      <td>85</td>\n      <td>7</td>\n      <td>1</td>\n      <td>0</td>\n      <td>0</td>\n      <td>0</td>\n      <td>0</td>\n      <td>0</td>\n      <td>0</td>\n      <td>0</td>\n      <td>0</td>\n      <td>0</td>\n    </tr>\n    <tr>\n      <th>2</th>\n      <td>735112</td>\n      <td>22305</td>\n      <td>1203</td>\n      <td>113</td>\n      <td>36</td>\n      <td>8</td>\n      <td>3</td>\n      <td>1</td>\n      <td>1</td>\n      <td>0</td>\n      <td>0</td>\n      <td>2</td>\n      <td>0</td>\n      <td>0</td>\n    </tr>\n    <tr>\n      <th>3</th>\n      <td>19063</td>\n      <td>5085</td>\n      <td>636</td>\n      <td>107</td>\n      <td>33</td>\n      <td>18</td>\n      <td>5</td>\n      <td>2</td>\n      <td>3</td>\n      <td>0</td>\n      <td>0</td>\n      <td>1</td>\n      <td>1</td>\n      <td>1</td>\n    </tr>\n    <tr>\n      <th>4</th>\n      <td>1037</td>\n      <td>479</td>\n      <td>236</td>\n      <td>73</td>\n      <td>19</td>\n      <td>6</td>\n      <td>7</td>\n      <td>1</td>\n      <td>1</td>\n      <td>1</td>\n      <td>1</td>\n      <td>0</td>\n      <td>0</td>\n      <td>0</td>\n    </tr>\n    <tr>\n      <th>5</th>\n      <td>121</td>\n      <td>93</td>\n      <td>52</td>\n      <td>47</td>\n      <td>19</td>\n      <td>6</td>\n      <td>2</td>\n      <td>3</td>\n      <td>0</td>\n      <td>0</td>\n      <td>0</td>\n      <td>0</td>\n      <td>0</td>\n      <td>0</td>\n    </tr>\n    <tr>\n      <th>6</th>\n      <td>22</td>\n      <td>20</td>\n      <td>8</td>\n      <td>3</td>\n      <td>9</td>\n      <td>10</td>\n      <td>0</td>\n      <td>0</td>\n      <td>0</td>\n      <td>0</td>\n      <td>0</td>\n      <td>0</td>\n      <td>0</td>\n      <td>0</td>\n    </tr>\n    <tr>\n      <th>7</th>\n      <td>9</td>\n      <td>5</td>\n      <td>5</td>\n      <td>3</td>\n      <td>4</td>\n      <td>2</td>\n      <td>2</td>\n      <td>0</td>\n      <td>0</td>\n      <td>0</td>\n      <td>0</td>\n      <td>0</td>\n      <td>0</td>\n      <td>0</td>\n    </tr>\n    <tr>\n      <th>8</th>\n      <td>3</td>\n      <td>4</td>\n      <td>2</td>\n      <td>1</td>\n      <td>2</td>\n      <td>4</td>\n      <td>3</td>\n      <td>1</td>\n      <td>0</td>\n      <td>0</td>\n      <td>0</td>\n      <td>1</td>\n      <td>0</td>\n      <td>0</td>\n    </tr>\n    <tr>\n      <th>9</th>\n      <td>1</td>\n      <td>0</td>\n      <td>0</td>\n      <td>2</td>\n      <td>0</td>\n      <td>0</td>\n      <td>1</td>\n      <td>0</td>\n      <td>0</td>\n      <td>0</td>\n      <td>0</td>\n      <td>0</td>\n      <td>0</td>\n      <td>0</td>\n    </tr>\n    <tr>\n      <th>10</th>\n      <td>0</td>\n      <td>0</td>\n      <td>0</td>\n      <td>1</td>\n      <td>0</td>\n      <td>0</td>\n      <td>0</td>\n      <td>0</td>\n      <td>0</td>\n      <td>2</td>\n      <td>0</td>\n      <td>0</td>\n      <td>0</td>\n      <td>0</td>\n    </tr>\n    <tr>\n      <th>12</th>\n      <td>0</td>\n      <td>0</td>\n      <td>0</td>\n      <td>0</td>\n      <td>0</td>\n      <td>0</td>\n      <td>0</td>\n      <td>1</td>\n      <td>0</td>\n      <td>0</td>\n      <td>0</td>\n      <td>0</td>\n      <td>0</td>\n      <td>0</td>\n    </tr>\n    <tr>\n      <th>13</th>\n      <td>0</td>\n      <td>0</td>\n      <td>0</td>\n      <td>0</td>\n      <td>0</td>\n      <td>0</td>\n      <td>0</td>\n      <td>0</td>\n      <td>0</td>\n      <td>0</td>\n      <td>0</td>\n      <td>1</td>\n      <td>0</td>\n      <td>0</td>\n    </tr>\n  </tbody>\n</table>\n</div>"
     },
     "metadata": {}
    }
   ],
   "execution_count": null
  },
  {
   "cell_type": "markdown",
   "source": "<font size=\"+3\" color='#3284ad'><b>__STEP-10__</b></font>`",
   "metadata": {
    "cell_id": "8d4fe7ef73fd4c76acc6425f1354284d",
    "tags": [],
    "deepnote_cell_type": "markdown",
    "deepnote_cell_height": 81.1875
   }
  },
  {
   "cell_type": "markdown",
   "source": "<font size=\"+3\" color='#3284ad'><b>__CONCLUSION__</b></font>`",
   "metadata": {
    "cell_id": "e65a1ca593d8484ab21b602bb3c1771b",
    "tags": [],
    "deepnote_cell_type": "markdown",
    "deepnote_cell_height": 81.1875
   }
  },
  {
   "cell_type": "markdown",
   "source": "The Dataset comprised of mostly categorical data, of which 79.7% male and 20.2% female.\\\nThe casualties in this record are from 1979-2018, with variables like speed limit, Time, Road and weather conditions, etc, gives a comprehensive overview and allow us to extract fruitful insights.\\\nWith Time variable, we created a feature comprised of day segment and this opens up a new horizons in analysis and insights. For example; we were able to understand how childern and teenage like to cycle in Afternoon and evening, while their young adult fellows and adult fellows likes to cycle during morning and Afternoon. We were able to gather this insight b/c the casualty rate was much higher during Morning, Afternoon and Evening, during weekdays, and much lower during weekends. This allows us to infer, if there are such huge number of casualty, then the number of users are huge in that time period. Also we infer, the casualty rate is lower on weekends dur to lower traffic on roads.\\\nUpon close observation, it is revealed that the data is gender biased, which might be either women dont really like to cycle or they were left behind intentionally, or they are really good at cycling, due to lower number of casualty.\\\nBeside, whatever the scenario, most casualty are due to cycle on single carriageway. This is the most common form of road standard in the United Kingdom and Ireland. Most casualty happens in the clearest of days and during daylight, which begs a question, is it safe to cycle in Great Britan?\n\nIt is suggested that the government should incorporate path for cyclers to travel safe and introduce strict laws for vehicle drivers who hackel and misbehave with cyclists.",
   "metadata": {
    "cell_id": "574f774c0a11452d8a076644894b03dd",
    "tags": [],
    "deepnote_cell_type": "markdown",
    "deepnote_cell_height": 773.25
   }
  },
  {
   "cell_type": "markdown",
   "source": "",
   "metadata": {
    "cell_id": "660ee86ff04c47bab2cd8a00e9affcd0",
    "tags": [],
    "deepnote_cell_type": "markdown",
    "deepnote_cell_height": 46
   }
  },
  {
   "cell_type": "markdown",
   "source": "## Report submitted by:\n### Naveed Ul Mustafa\n### Saleha Attiq\n### Ali Hamza",
   "metadata": {
    "cell_id": "ff53cec2171748908ba3829b49258944",
    "tags": [],
    "deepnote_cell_type": "markdown",
    "deepnote_cell_height": 222
   }
  },
  {
   "cell_type": "markdown",
   "source": "",
   "metadata": {
    "cell_id": "7c8f1bb2beab4089a7227ed92b428368",
    "tags": [],
    "deepnote_cell_type": "markdown",
    "deepnote_cell_height": 46
   }
  },
  {
   "cell_type": "markdown",
   "source": "<a style='text-decoration:none;line-height:16px;display:flex;color:#5B5B62;padding:10px;justify-content:end;' href='https://deepnote.com?utm_source=created-in-deepnote-cell&projectId=8507b333-aaeb-4ead-bf95-a72a2bcf3758' target=\"_blank\">\n<img alt='Created in deepnote.com' style='display:inline;max-height:16px;margin:0px;margin-right:7.5px;' src='data:image/svg+xml;base64,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' > </img>\nCreated in <span style='font-weight:600;margin-left:4px;'>Deepnote</span></a>",
   "metadata": {
    "tags": [],
    "created_in_deepnote_cell": true,
    "deepnote_cell_type": "markdown"
   }
  }
 ],
 "nbformat": 4,
 "nbformat_minor": 2,
 "metadata": {
  "orig_nbformat": 2,
  "deepnote": {},
  "deepnote_notebook_id": "d5c7002c-dd5a-4759-ac55-1bbef50838dd",
  "deepnote_execution_queue": []
 }
}